{
  "nbformat": 4,
  "nbformat_minor": 0,
  "metadata": {
    "colab": {
      "provenance": [],
      "mount_file_id": "1gxLg8MZ33wRaYEspKsaCzxRKjN_mfQmM",
      "authorship_tag": "ABX9TyM/CP7JtxcP0hMv3hOySTHC",
      "include_colab_link": true
    },
    "kernelspec": {
      "name": "python3",
      "display_name": "Python 3"
    },
    "language_info": {
      "name": "python"
    },
    "accelerator": "GPU",
    "gpuClass": "standard"
  },
  "cells": [
    {
      "cell_type": "markdown",
      "metadata": {
        "id": "view-in-github",
        "colab_type": "text"
      },
      "source": [
        "<a href=\"https://colab.research.google.com/github/kishlay511/Projects/blob/main/Learnbay_Project.ipynb\" target=\"_parent\"><img src=\"https://colab.research.google.com/assets/colab-badge.svg\" alt=\"Open In Colab\"/></a>"
      ]
    },
    {
      "cell_type": "code",
      "execution_count": 1,
      "metadata": {
        "id": "tVFNQ66IwJTH"
      },
      "outputs": [],
      "source": [
        "# Importing Basic Library\n",
        "\n",
        "import numpy as np \n",
        "import pandas as pd\n",
        "import matplotlib.pyplot as plt\n",
        "import seaborn as sns\n",
        "%matplotlib inline\n",
        "\n",
        "import warnings\n",
        "warnings.filterwarnings('ignore')\n",
        "\n",
        "import sklearn\n",
        "import scipy"
      ]
    },
    {
      "cell_type": "code",
      "source": [
        "data = pd.read_csv('Data.csv')"
      ],
      "metadata": {
        "id": "2D3Z3CtGyNBz"
      },
      "execution_count": 2,
      "outputs": []
    },
    {
      "cell_type": "code",
      "source": [
        "# Data Preprocessing : check missing data \n",
        "\n",
        "data.isnull().sum()"
      ],
      "metadata": {
        "colab": {
          "base_uri": "https://localhost:8080/"
        },
        "id": "K2pYI7-aWZQ1",
        "outputId": "22a8499e-e1c3-4f50-8157-96bec11175af"
      },
      "execution_count": 3,
      "outputs": [
        {
          "output_type": "execute_result",
          "data": {
            "text/plain": [
              "Ware_house_ID                       0\n",
              "WH_Manager_ID                       0\n",
              "Location_type                       0\n",
              "WH_capacity_size                    0\n",
              "zone                                0\n",
              "WH_regional_zone                    0\n",
              "num_refill_req_l3m                  0\n",
              "transport_issue_l1y                 0\n",
              "Competitor_in_mkt                   0\n",
              "retail_shop_num                     0\n",
              "wh_owner_type                       0\n",
              "distributor_num                     0\n",
              "flood_impacted                      0\n",
              "flood_proof                         0\n",
              "electric_supply                     0\n",
              "dist_from_hub                       0\n",
              "workers_num                       990\n",
              "wh_est_year                     11881\n",
              "storage_issue_reported_l3m          0\n",
              "temp_reg_mach                       0\n",
              "approved_wh_govt_certificate      908\n",
              "wh_breakdown_l3m                    0\n",
              "govt_check_l3m                      0\n",
              "product_wg_ton                      0\n",
              "dtype: int64"
            ]
          },
          "metadata": {},
          "execution_count": 3
        }
      ]
    },
    {
      "cell_type": "code",
      "source": [
        "data.nunique()"
      ],
      "metadata": {
        "colab": {
          "base_uri": "https://localhost:8080/"
        },
        "id": "2r8beOcjWZUY",
        "outputId": "21c78668-16fc-4376-a428-09af22b7c186"
      },
      "execution_count": 4,
      "outputs": [
        {
          "output_type": "execute_result",
          "data": {
            "text/plain": [
              "Ware_house_ID                   25000\n",
              "WH_Manager_ID                   25000\n",
              "Location_type                       2\n",
              "WH_capacity_size                    3\n",
              "zone                                4\n",
              "WH_regional_zone                    6\n",
              "num_refill_req_l3m                  9\n",
              "transport_issue_l1y                 6\n",
              "Competitor_in_mkt                  12\n",
              "retail_shop_num                  4906\n",
              "wh_owner_type                       2\n",
              "distributor_num                    56\n",
              "flood_impacted                      2\n",
              "flood_proof                         2\n",
              "electric_supply                     2\n",
              "dist_from_hub                     217\n",
              "workers_num                        60\n",
              "wh_est_year                        28\n",
              "storage_issue_reported_l3m         37\n",
              "temp_reg_mach                       2\n",
              "approved_wh_govt_certificate        5\n",
              "wh_breakdown_l3m                    7\n",
              "govt_check_l3m                     32\n",
              "product_wg_ton                   4561\n",
              "dtype: int64"
            ]
          },
          "metadata": {},
          "execution_count": 4
        }
      ]
    },
    {
      "cell_type": "code",
      "source": [
        "# Droping columns with Index ID \n",
        "\n",
        "data.drop(columns = 'Ware_house_ID', inplace = True)"
      ],
      "metadata": {
        "id": "s7UzsG59WZW4"
      },
      "execution_count": 5,
      "outputs": []
    },
    {
      "cell_type": "code",
      "source": [
        "data.drop(['WH_Manager_ID'], axis=1, inplace = True)"
      ],
      "metadata": {
        "id": "vSE9qBNaWZbu"
      },
      "execution_count": 6,
      "outputs": []
    },
    {
      "cell_type": "code",
      "source": [
        "data['workers_num'].describe()"
      ],
      "metadata": {
        "colab": {
          "base_uri": "https://localhost:8080/"
        },
        "id": "UgphVOLWWZiQ",
        "outputId": "c598a952-851f-4478-9c52-ba2a0cbacad6"
      },
      "execution_count": 7,
      "outputs": [
        {
          "output_type": "execute_result",
          "data": {
            "text/plain": [
              "count    24010.000000\n",
              "mean        28.944398\n",
              "std          7.872534\n",
              "min         10.000000\n",
              "25%         24.000000\n",
              "50%         28.000000\n",
              "75%         33.000000\n",
              "max         98.000000\n",
              "Name: workers_num, dtype: float64"
            ]
          },
          "metadata": {},
          "execution_count": 7
        }
      ]
    },
    {
      "cell_type": "code",
      "source": [
        "# Fill null value with mean as maximumn data lies in range \n",
        "\n",
        "data['workers_num'].fillna(data['workers_num'].mean(), inplace = True)"
      ],
      "metadata": {
        "id": "efj9fP0rWZlF"
      },
      "execution_count": 8,
      "outputs": []
    },
    {
      "cell_type": "code",
      "source": [
        "# Droping column as 50% data are null looking no relation with target \n",
        "\n",
        "data.drop(columns = 'wh_est_year', inplace = True)"
      ],
      "metadata": {
        "id": "EixOUyF1WZr7"
      },
      "execution_count": 9,
      "outputs": []
    },
    {
      "cell_type": "code",
      "source": [
        "# Checking unique values to fill null \n",
        "\n",
        "data['approved_wh_govt_certificate'].value_counts()"
      ],
      "metadata": {
        "colab": {
          "base_uri": "https://localhost:8080/"
        },
        "id": "WXa98cGfb-jM",
        "outputId": "a7137097-4bfd-4f21-909c-ff5810b68fc6"
      },
      "execution_count": 10,
      "outputs": [
        {
          "output_type": "execute_result",
          "data": {
            "text/plain": [
              "C     5501\n",
              "B+    4917\n",
              "B     4812\n",
              "A     4671\n",
              "A+    4191\n",
              "Name: approved_wh_govt_certificate, dtype: int64"
            ]
          },
          "metadata": {},
          "execution_count": 10
        }
      ]
    },
    {
      "cell_type": "code",
      "source": [
        "# Use forward fill to avoid imbalance dataset\n",
        "\n",
        "data['approved_wh_govt_certificate'] = data['approved_wh_govt_certificate'].ffill()"
      ],
      "metadata": {
        "id": "r-hwm7dWb-5O"
      },
      "execution_count": 11,
      "outputs": []
    },
    {
      "cell_type": "code",
      "source": [
        "data['approved_wh_govt_certificate'].value_counts()"
      ],
      "metadata": {
        "colab": {
          "base_uri": "https://localhost:8080/"
        },
        "id": "Nq2sOFGxb-7o",
        "outputId": "de113323-20f0-475b-9fc3-ceffda7467f7"
      },
      "execution_count": 12,
      "outputs": [
        {
          "output_type": "execute_result",
          "data": {
            "text/plain": [
              "C     5719\n",
              "B+    5094\n",
              "B     4974\n",
              "A     4855\n",
              "A+    4358\n",
              "Name: approved_wh_govt_certificate, dtype: int64"
            ]
          },
          "metadata": {},
          "execution_count": 12
        }
      ]
    },
    {
      "cell_type": "code",
      "source": [
        "# Converting columns to 'int' data type\n",
        "\n",
        "data.info()"
      ],
      "metadata": {
        "colab": {
          "base_uri": "https://localhost:8080/"
        },
        "id": "Ib2V9BHTb-_Y",
        "outputId": "12972391-6e08-4291-eeb6-bd0397c43ca7"
      },
      "execution_count": 13,
      "outputs": [
        {
          "output_type": "stream",
          "name": "stdout",
          "text": [
            "<class 'pandas.core.frame.DataFrame'>\n",
            "RangeIndex: 25000 entries, 0 to 24999\n",
            "Data columns (total 21 columns):\n",
            " #   Column                        Non-Null Count  Dtype  \n",
            "---  ------                        --------------  -----  \n",
            " 0   Location_type                 25000 non-null  object \n",
            " 1   WH_capacity_size              25000 non-null  object \n",
            " 2   zone                          25000 non-null  object \n",
            " 3   WH_regional_zone              25000 non-null  object \n",
            " 4   num_refill_req_l3m            25000 non-null  int64  \n",
            " 5   transport_issue_l1y           25000 non-null  int64  \n",
            " 6   Competitor_in_mkt             25000 non-null  int64  \n",
            " 7   retail_shop_num               25000 non-null  int64  \n",
            " 8   wh_owner_type                 25000 non-null  object \n",
            " 9   distributor_num               25000 non-null  int64  \n",
            " 10  flood_impacted                25000 non-null  int64  \n",
            " 11  flood_proof                   25000 non-null  int64  \n",
            " 12  electric_supply               25000 non-null  int64  \n",
            " 13  dist_from_hub                 25000 non-null  int64  \n",
            " 14  workers_num                   25000 non-null  float64\n",
            " 15  storage_issue_reported_l3m    25000 non-null  int64  \n",
            " 16  temp_reg_mach                 25000 non-null  int64  \n",
            " 17  approved_wh_govt_certificate  25000 non-null  object \n",
            " 18  wh_breakdown_l3m              25000 non-null  int64  \n",
            " 19  govt_check_l3m                25000 non-null  int64  \n",
            " 20  product_wg_ton                25000 non-null  int64  \n",
            "dtypes: float64(1), int64(14), object(6)\n",
            "memory usage: 4.0+ MB\n"
          ]
        }
      ]
    },
    {
      "cell_type": "code",
      "source": [
        "data[\"Location_type\"] = data[\"Location_type\"].apply(lambda x: 1 if x == 'Urban' else 0)"
      ],
      "metadata": {
        "id": "Zrcq-fbIb_BU"
      },
      "execution_count": 14,
      "outputs": []
    },
    {
      "cell_type": "code",
      "source": [
        "data = pd.get_dummies(data, columns = ['WH_capacity_size'])"
      ],
      "metadata": {
        "id": "F8KmmohUb_Fj"
      },
      "execution_count": 15,
      "outputs": []
    },
    {
      "cell_type": "code",
      "source": [
        "data"
      ],
      "metadata": {
        "colab": {
          "base_uri": "https://localhost:8080/",
          "height": 574
        },
        "id": "zdOTgkhrGbfr",
        "outputId": "9681c1b2-f8f1-4d0e-d9b7-703dbf891ec1"
      },
      "execution_count": 16,
      "outputs": [
        {
          "output_type": "execute_result",
          "data": {
            "text/plain": [
              "       Location_type   zone WH_regional_zone  num_refill_req_l3m  \\\n",
              "0                  1   West           Zone 6                   3   \n",
              "1                  0  North           Zone 5                   0   \n",
              "2                  0  South           Zone 2                   1   \n",
              "3                  0  North           Zone 3                   7   \n",
              "4                  0  North           Zone 5                   3   \n",
              "...              ...    ...              ...                 ...   \n",
              "24995              0  North           Zone 1                   3   \n",
              "24996              0   West           Zone 2                   6   \n",
              "24997              1  South           Zone 5                   7   \n",
              "24998              0  North           Zone 1                   1   \n",
              "24999              0   West           Zone 4                   8   \n",
              "\n",
              "       transport_issue_l1y  Competitor_in_mkt  retail_shop_num  wh_owner_type  \\\n",
              "0                        1                  2             4651         Rented   \n",
              "1                        0                  4             6217  Company Owned   \n",
              "2                        0                  4             4306  Company Owned   \n",
              "3                        4                  2             6000         Rented   \n",
              "4                        1                  2             4740  Company Owned   \n",
              "...                    ...                ...              ...            ...   \n",
              "24995                    0                  4             5390         Rented   \n",
              "24996                    0                  4             4490  Company Owned   \n",
              "24997                    0                  2             5403         Rented   \n",
              "24998                    0                  2            10562         Rented   \n",
              "24999                    2                  4             5664  Company Owned   \n",
              "\n",
              "       distributor_num  flood_impacted  ...  workers_num  \\\n",
              "0                   24               0  ...    29.000000   \n",
              "1                   47               0  ...    31.000000   \n",
              "2                   64               0  ...    37.000000   \n",
              "3                   50               0  ...    21.000000   \n",
              "4                   42               1  ...    25.000000   \n",
              "...                ...             ...  ...          ...   \n",
              "24995               19               0  ...    34.000000   \n",
              "24996               57               0  ...    28.000000   \n",
              "24997               31               1  ...    28.944398   \n",
              "24998               25               0  ...    25.000000   \n",
              "24999               21               0  ...    39.000000   \n",
              "\n",
              "       storage_issue_reported_l3m  temp_reg_mach  \\\n",
              "0                              13              0   \n",
              "1                               4              0   \n",
              "2                              17              0   \n",
              "3                              17              1   \n",
              "4                              18              0   \n",
              "...                           ...            ...   \n",
              "24995                          22              1   \n",
              "24996                          10              0   \n",
              "24997                          23              0   \n",
              "24998                          18              0   \n",
              "24999                           4              0   \n",
              "\n",
              "       approved_wh_govt_certificate  wh_breakdown_l3m  govt_check_l3m  \\\n",
              "0                                 A                 5              15   \n",
              "1                                 A                 3              17   \n",
              "2                                 A                 6              22   \n",
              "3                                A+                 3              27   \n",
              "4                                 C                 6              24   \n",
              "...                             ...               ...             ...   \n",
              "24995                             A                 2              30   \n",
              "24996                             B                 4              18   \n",
              "24997                            B+                 5              25   \n",
              "24998                             A                 6              30   \n",
              "24999                            B+                 2              11   \n",
              "\n",
              "      product_wg_ton  WH_capacity_size_Large  WH_capacity_size_Mid  \\\n",
              "0              17115                       0                     0   \n",
              "1               5074                       1                     0   \n",
              "2              23137                       0                     1   \n",
              "3              22115                       0                     1   \n",
              "4              24071                       1                     0   \n",
              "...              ...                     ...                   ...   \n",
              "24995          32093                       0                     0   \n",
              "24996          12114                       0                     1   \n",
              "24997          27080                       1                     0   \n",
              "24998          25093                       0                     0   \n",
              "24999           5058                       0                     1   \n",
              "\n",
              "       WH_capacity_size_Small  \n",
              "0                           1  \n",
              "1                           0  \n",
              "2                           0  \n",
              "3                           0  \n",
              "4                           0  \n",
              "...                       ...  \n",
              "24995                       1  \n",
              "24996                       0  \n",
              "24997                       0  \n",
              "24998                       1  \n",
              "24999                       0  \n",
              "\n",
              "[25000 rows x 23 columns]"
            ],
            "text/html": [
              "\n",
              "  <div id=\"df-82ae1075-1a5d-4602-b097-e796df0f9422\">\n",
              "    <div class=\"colab-df-container\">\n",
              "      <div>\n",
              "<style scoped>\n",
              "    .dataframe tbody tr th:only-of-type {\n",
              "        vertical-align: middle;\n",
              "    }\n",
              "\n",
              "    .dataframe tbody tr th {\n",
              "        vertical-align: top;\n",
              "    }\n",
              "\n",
              "    .dataframe thead th {\n",
              "        text-align: right;\n",
              "    }\n",
              "</style>\n",
              "<table border=\"1\" class=\"dataframe\">\n",
              "  <thead>\n",
              "    <tr style=\"text-align: right;\">\n",
              "      <th></th>\n",
              "      <th>Location_type</th>\n",
              "      <th>zone</th>\n",
              "      <th>WH_regional_zone</th>\n",
              "      <th>num_refill_req_l3m</th>\n",
              "      <th>transport_issue_l1y</th>\n",
              "      <th>Competitor_in_mkt</th>\n",
              "      <th>retail_shop_num</th>\n",
              "      <th>wh_owner_type</th>\n",
              "      <th>distributor_num</th>\n",
              "      <th>flood_impacted</th>\n",
              "      <th>...</th>\n",
              "      <th>workers_num</th>\n",
              "      <th>storage_issue_reported_l3m</th>\n",
              "      <th>temp_reg_mach</th>\n",
              "      <th>approved_wh_govt_certificate</th>\n",
              "      <th>wh_breakdown_l3m</th>\n",
              "      <th>govt_check_l3m</th>\n",
              "      <th>product_wg_ton</th>\n",
              "      <th>WH_capacity_size_Large</th>\n",
              "      <th>WH_capacity_size_Mid</th>\n",
              "      <th>WH_capacity_size_Small</th>\n",
              "    </tr>\n",
              "  </thead>\n",
              "  <tbody>\n",
              "    <tr>\n",
              "      <th>0</th>\n",
              "      <td>1</td>\n",
              "      <td>West</td>\n",
              "      <td>Zone 6</td>\n",
              "      <td>3</td>\n",
              "      <td>1</td>\n",
              "      <td>2</td>\n",
              "      <td>4651</td>\n",
              "      <td>Rented</td>\n",
              "      <td>24</td>\n",
              "      <td>0</td>\n",
              "      <td>...</td>\n",
              "      <td>29.000000</td>\n",
              "      <td>13</td>\n",
              "      <td>0</td>\n",
              "      <td>A</td>\n",
              "      <td>5</td>\n",
              "      <td>15</td>\n",
              "      <td>17115</td>\n",
              "      <td>0</td>\n",
              "      <td>0</td>\n",
              "      <td>1</td>\n",
              "    </tr>\n",
              "    <tr>\n",
              "      <th>1</th>\n",
              "      <td>0</td>\n",
              "      <td>North</td>\n",
              "      <td>Zone 5</td>\n",
              "      <td>0</td>\n",
              "      <td>0</td>\n",
              "      <td>4</td>\n",
              "      <td>6217</td>\n",
              "      <td>Company Owned</td>\n",
              "      <td>47</td>\n",
              "      <td>0</td>\n",
              "      <td>...</td>\n",
              "      <td>31.000000</td>\n",
              "      <td>4</td>\n",
              "      <td>0</td>\n",
              "      <td>A</td>\n",
              "      <td>3</td>\n",
              "      <td>17</td>\n",
              "      <td>5074</td>\n",
              "      <td>1</td>\n",
              "      <td>0</td>\n",
              "      <td>0</td>\n",
              "    </tr>\n",
              "    <tr>\n",
              "      <th>2</th>\n",
              "      <td>0</td>\n",
              "      <td>South</td>\n",
              "      <td>Zone 2</td>\n",
              "      <td>1</td>\n",
              "      <td>0</td>\n",
              "      <td>4</td>\n",
              "      <td>4306</td>\n",
              "      <td>Company Owned</td>\n",
              "      <td>64</td>\n",
              "      <td>0</td>\n",
              "      <td>...</td>\n",
              "      <td>37.000000</td>\n",
              "      <td>17</td>\n",
              "      <td>0</td>\n",
              "      <td>A</td>\n",
              "      <td>6</td>\n",
              "      <td>22</td>\n",
              "      <td>23137</td>\n",
              "      <td>0</td>\n",
              "      <td>1</td>\n",
              "      <td>0</td>\n",
              "    </tr>\n",
              "    <tr>\n",
              "      <th>3</th>\n",
              "      <td>0</td>\n",
              "      <td>North</td>\n",
              "      <td>Zone 3</td>\n",
              "      <td>7</td>\n",
              "      <td>4</td>\n",
              "      <td>2</td>\n",
              "      <td>6000</td>\n",
              "      <td>Rented</td>\n",
              "      <td>50</td>\n",
              "      <td>0</td>\n",
              "      <td>...</td>\n",
              "      <td>21.000000</td>\n",
              "      <td>17</td>\n",
              "      <td>1</td>\n",
              "      <td>A+</td>\n",
              "      <td>3</td>\n",
              "      <td>27</td>\n",
              "      <td>22115</td>\n",
              "      <td>0</td>\n",
              "      <td>1</td>\n",
              "      <td>0</td>\n",
              "    </tr>\n",
              "    <tr>\n",
              "      <th>4</th>\n",
              "      <td>0</td>\n",
              "      <td>North</td>\n",
              "      <td>Zone 5</td>\n",
              "      <td>3</td>\n",
              "      <td>1</td>\n",
              "      <td>2</td>\n",
              "      <td>4740</td>\n",
              "      <td>Company Owned</td>\n",
              "      <td>42</td>\n",
              "      <td>1</td>\n",
              "      <td>...</td>\n",
              "      <td>25.000000</td>\n",
              "      <td>18</td>\n",
              "      <td>0</td>\n",
              "      <td>C</td>\n",
              "      <td>6</td>\n",
              "      <td>24</td>\n",
              "      <td>24071</td>\n",
              "      <td>1</td>\n",
              "      <td>0</td>\n",
              "      <td>0</td>\n",
              "    </tr>\n",
              "    <tr>\n",
              "      <th>...</th>\n",
              "      <td>...</td>\n",
              "      <td>...</td>\n",
              "      <td>...</td>\n",
              "      <td>...</td>\n",
              "      <td>...</td>\n",
              "      <td>...</td>\n",
              "      <td>...</td>\n",
              "      <td>...</td>\n",
              "      <td>...</td>\n",
              "      <td>...</td>\n",
              "      <td>...</td>\n",
              "      <td>...</td>\n",
              "      <td>...</td>\n",
              "      <td>...</td>\n",
              "      <td>...</td>\n",
              "      <td>...</td>\n",
              "      <td>...</td>\n",
              "      <td>...</td>\n",
              "      <td>...</td>\n",
              "      <td>...</td>\n",
              "      <td>...</td>\n",
              "    </tr>\n",
              "    <tr>\n",
              "      <th>24995</th>\n",
              "      <td>0</td>\n",
              "      <td>North</td>\n",
              "      <td>Zone 1</td>\n",
              "      <td>3</td>\n",
              "      <td>0</td>\n",
              "      <td>4</td>\n",
              "      <td>5390</td>\n",
              "      <td>Rented</td>\n",
              "      <td>19</td>\n",
              "      <td>0</td>\n",
              "      <td>...</td>\n",
              "      <td>34.000000</td>\n",
              "      <td>22</td>\n",
              "      <td>1</td>\n",
              "      <td>A</td>\n",
              "      <td>2</td>\n",
              "      <td>30</td>\n",
              "      <td>32093</td>\n",
              "      <td>0</td>\n",
              "      <td>0</td>\n",
              "      <td>1</td>\n",
              "    </tr>\n",
              "    <tr>\n",
              "      <th>24996</th>\n",
              "      <td>0</td>\n",
              "      <td>West</td>\n",
              "      <td>Zone 2</td>\n",
              "      <td>6</td>\n",
              "      <td>0</td>\n",
              "      <td>4</td>\n",
              "      <td>4490</td>\n",
              "      <td>Company Owned</td>\n",
              "      <td>57</td>\n",
              "      <td>0</td>\n",
              "      <td>...</td>\n",
              "      <td>28.000000</td>\n",
              "      <td>10</td>\n",
              "      <td>0</td>\n",
              "      <td>B</td>\n",
              "      <td>4</td>\n",
              "      <td>18</td>\n",
              "      <td>12114</td>\n",
              "      <td>0</td>\n",
              "      <td>1</td>\n",
              "      <td>0</td>\n",
              "    </tr>\n",
              "    <tr>\n",
              "      <th>24997</th>\n",
              "      <td>1</td>\n",
              "      <td>South</td>\n",
              "      <td>Zone 5</td>\n",
              "      <td>7</td>\n",
              "      <td>0</td>\n",
              "      <td>2</td>\n",
              "      <td>5403</td>\n",
              "      <td>Rented</td>\n",
              "      <td>31</td>\n",
              "      <td>1</td>\n",
              "      <td>...</td>\n",
              "      <td>28.944398</td>\n",
              "      <td>23</td>\n",
              "      <td>0</td>\n",
              "      <td>B+</td>\n",
              "      <td>5</td>\n",
              "      <td>25</td>\n",
              "      <td>27080</td>\n",
              "      <td>1</td>\n",
              "      <td>0</td>\n",
              "      <td>0</td>\n",
              "    </tr>\n",
              "    <tr>\n",
              "      <th>24998</th>\n",
              "      <td>0</td>\n",
              "      <td>North</td>\n",
              "      <td>Zone 1</td>\n",
              "      <td>1</td>\n",
              "      <td>0</td>\n",
              "      <td>2</td>\n",
              "      <td>10562</td>\n",
              "      <td>Rented</td>\n",
              "      <td>25</td>\n",
              "      <td>0</td>\n",
              "      <td>...</td>\n",
              "      <td>25.000000</td>\n",
              "      <td>18</td>\n",
              "      <td>0</td>\n",
              "      <td>A</td>\n",
              "      <td>6</td>\n",
              "      <td>30</td>\n",
              "      <td>25093</td>\n",
              "      <td>0</td>\n",
              "      <td>0</td>\n",
              "      <td>1</td>\n",
              "    </tr>\n",
              "    <tr>\n",
              "      <th>24999</th>\n",
              "      <td>0</td>\n",
              "      <td>West</td>\n",
              "      <td>Zone 4</td>\n",
              "      <td>8</td>\n",
              "      <td>2</td>\n",
              "      <td>4</td>\n",
              "      <td>5664</td>\n",
              "      <td>Company Owned</td>\n",
              "      <td>21</td>\n",
              "      <td>0</td>\n",
              "      <td>...</td>\n",
              "      <td>39.000000</td>\n",
              "      <td>4</td>\n",
              "      <td>0</td>\n",
              "      <td>B+</td>\n",
              "      <td>2</td>\n",
              "      <td>11</td>\n",
              "      <td>5058</td>\n",
              "      <td>0</td>\n",
              "      <td>1</td>\n",
              "      <td>0</td>\n",
              "    </tr>\n",
              "  </tbody>\n",
              "</table>\n",
              "<p>25000 rows × 23 columns</p>\n",
              "</div>\n",
              "      <button class=\"colab-df-convert\" onclick=\"convertToInteractive('df-82ae1075-1a5d-4602-b097-e796df0f9422')\"\n",
              "              title=\"Convert this dataframe to an interactive table.\"\n",
              "              style=\"display:none;\">\n",
              "        \n",
              "  <svg xmlns=\"http://www.w3.org/2000/svg\" height=\"24px\"viewBox=\"0 0 24 24\"\n",
              "       width=\"24px\">\n",
              "    <path d=\"M0 0h24v24H0V0z\" fill=\"none\"/>\n",
              "    <path d=\"M18.56 5.44l.94 2.06.94-2.06 2.06-.94-2.06-.94-.94-2.06-.94 2.06-2.06.94zm-11 1L8.5 8.5l.94-2.06 2.06-.94-2.06-.94L8.5 2.5l-.94 2.06-2.06.94zm10 10l.94 2.06.94-2.06 2.06-.94-2.06-.94-.94-2.06-.94 2.06-2.06.94z\"/><path d=\"M17.41 7.96l-1.37-1.37c-.4-.4-.92-.59-1.43-.59-.52 0-1.04.2-1.43.59L10.3 9.45l-7.72 7.72c-.78.78-.78 2.05 0 2.83L4 21.41c.39.39.9.59 1.41.59.51 0 1.02-.2 1.41-.59l7.78-7.78 2.81-2.81c.8-.78.8-2.07 0-2.86zM5.41 20L4 18.59l7.72-7.72 1.47 1.35L5.41 20z\"/>\n",
              "  </svg>\n",
              "      </button>\n",
              "      \n",
              "  <style>\n",
              "    .colab-df-container {\n",
              "      display:flex;\n",
              "      flex-wrap:wrap;\n",
              "      gap: 12px;\n",
              "    }\n",
              "\n",
              "    .colab-df-convert {\n",
              "      background-color: #E8F0FE;\n",
              "      border: none;\n",
              "      border-radius: 50%;\n",
              "      cursor: pointer;\n",
              "      display: none;\n",
              "      fill: #1967D2;\n",
              "      height: 32px;\n",
              "      padding: 0 0 0 0;\n",
              "      width: 32px;\n",
              "    }\n",
              "\n",
              "    .colab-df-convert:hover {\n",
              "      background-color: #E2EBFA;\n",
              "      box-shadow: 0px 1px 2px rgba(60, 64, 67, 0.3), 0px 1px 3px 1px rgba(60, 64, 67, 0.15);\n",
              "      fill: #174EA6;\n",
              "    }\n",
              "\n",
              "    [theme=dark] .colab-df-convert {\n",
              "      background-color: #3B4455;\n",
              "      fill: #D2E3FC;\n",
              "    }\n",
              "\n",
              "    [theme=dark] .colab-df-convert:hover {\n",
              "      background-color: #434B5C;\n",
              "      box-shadow: 0px 1px 3px 1px rgba(0, 0, 0, 0.15);\n",
              "      filter: drop-shadow(0px 1px 2px rgba(0, 0, 0, 0.3));\n",
              "      fill: #FFFFFF;\n",
              "    }\n",
              "  </style>\n",
              "\n",
              "      <script>\n",
              "        const buttonEl =\n",
              "          document.querySelector('#df-82ae1075-1a5d-4602-b097-e796df0f9422 button.colab-df-convert');\n",
              "        buttonEl.style.display =\n",
              "          google.colab.kernel.accessAllowed ? 'block' : 'none';\n",
              "\n",
              "        async function convertToInteractive(key) {\n",
              "          const element = document.querySelector('#df-82ae1075-1a5d-4602-b097-e796df0f9422');\n",
              "          const dataTable =\n",
              "            await google.colab.kernel.invokeFunction('convertToInteractive',\n",
              "                                                     [key], {});\n",
              "          if (!dataTable) return;\n",
              "\n",
              "          const docLinkHtml = 'Like what you see? Visit the ' +\n",
              "            '<a target=\"_blank\" href=https://colab.research.google.com/notebooks/data_table.ipynb>data table notebook</a>'\n",
              "            + ' to learn more about interactive tables.';\n",
              "          element.innerHTML = '';\n",
              "          dataTable['output_type'] = 'display_data';\n",
              "          await google.colab.output.renderOutput(dataTable, element);\n",
              "          const docLink = document.createElement('div');\n",
              "          docLink.innerHTML = docLinkHtml;\n",
              "          element.appendChild(docLink);\n",
              "        }\n",
              "      </script>\n",
              "    </div>\n",
              "  </div>\n",
              "  "
            ]
          },
          "metadata": {},
          "execution_count": 16
        }
      ]
    },
    {
      "cell_type": "code",
      "source": [
        "\n",
        "data = pd.get_dummies(data, columns = ['zone'])"
      ],
      "metadata": {
        "id": "R4oFeWSKb_am"
      },
      "execution_count": 17,
      "outputs": []
    },
    {
      "cell_type": "code",
      "source": [
        "\n",
        "data = pd.get_dummies(data, columns = ['WH_regional_zone'])"
      ],
      "metadata": {
        "id": "e80CZAQNb_cv"
      },
      "execution_count": 18,
      "outputs": []
    },
    {
      "cell_type": "code",
      "source": [
        "data = pd.get_dummies(data, columns = ['wh_owner_type'])"
      ],
      "metadata": {
        "id": "INwl9_2xb_gk"
      },
      "execution_count": 19,
      "outputs": []
    },
    {
      "cell_type": "code",
      "source": [
        "data = pd.get_dummies(data, columns = ['approved_wh_govt_certificate'])"
      ],
      "metadata": {
        "id": "q80HbQVzWZuy"
      },
      "execution_count": 20,
      "outputs": []
    },
    {
      "cell_type": "code",
      "source": [
        "data.info()"
      ],
      "metadata": {
        "colab": {
          "base_uri": "https://localhost:8080/"
        },
        "id": "7H0e4Gz2HWob",
        "outputId": "43969bf4-82e6-4871-d997-a999d9372ea5"
      },
      "execution_count": 21,
      "outputs": [
        {
          "output_type": "stream",
          "name": "stdout",
          "text": [
            "<class 'pandas.core.frame.DataFrame'>\n",
            "RangeIndex: 25000 entries, 0 to 24999\n",
            "Data columns (total 36 columns):\n",
            " #   Column                           Non-Null Count  Dtype  \n",
            "---  ------                           --------------  -----  \n",
            " 0   Location_type                    25000 non-null  int64  \n",
            " 1   num_refill_req_l3m               25000 non-null  int64  \n",
            " 2   transport_issue_l1y              25000 non-null  int64  \n",
            " 3   Competitor_in_mkt                25000 non-null  int64  \n",
            " 4   retail_shop_num                  25000 non-null  int64  \n",
            " 5   distributor_num                  25000 non-null  int64  \n",
            " 6   flood_impacted                   25000 non-null  int64  \n",
            " 7   flood_proof                      25000 non-null  int64  \n",
            " 8   electric_supply                  25000 non-null  int64  \n",
            " 9   dist_from_hub                    25000 non-null  int64  \n",
            " 10  workers_num                      25000 non-null  float64\n",
            " 11  storage_issue_reported_l3m       25000 non-null  int64  \n",
            " 12  temp_reg_mach                    25000 non-null  int64  \n",
            " 13  wh_breakdown_l3m                 25000 non-null  int64  \n",
            " 14  govt_check_l3m                   25000 non-null  int64  \n",
            " 15  product_wg_ton                   25000 non-null  int64  \n",
            " 16  WH_capacity_size_Large           25000 non-null  uint8  \n",
            " 17  WH_capacity_size_Mid             25000 non-null  uint8  \n",
            " 18  WH_capacity_size_Small           25000 non-null  uint8  \n",
            " 19  zone_East                        25000 non-null  uint8  \n",
            " 20  zone_North                       25000 non-null  uint8  \n",
            " 21  zone_South                       25000 non-null  uint8  \n",
            " 22  zone_West                        25000 non-null  uint8  \n",
            " 23  WH_regional_zone_Zone 1          25000 non-null  uint8  \n",
            " 24  WH_regional_zone_Zone 2          25000 non-null  uint8  \n",
            " 25  WH_regional_zone_Zone 3          25000 non-null  uint8  \n",
            " 26  WH_regional_zone_Zone 4          25000 non-null  uint8  \n",
            " 27  WH_regional_zone_Zone 5          25000 non-null  uint8  \n",
            " 28  WH_regional_zone_Zone 6          25000 non-null  uint8  \n",
            " 29  wh_owner_type_Company Owned      25000 non-null  uint8  \n",
            " 30  wh_owner_type_Rented             25000 non-null  uint8  \n",
            " 31  approved_wh_govt_certificate_A   25000 non-null  uint8  \n",
            " 32  approved_wh_govt_certificate_A+  25000 non-null  uint8  \n",
            " 33  approved_wh_govt_certificate_B   25000 non-null  uint8  \n",
            " 34  approved_wh_govt_certificate_B+  25000 non-null  uint8  \n",
            " 35  approved_wh_govt_certificate_C   25000 non-null  uint8  \n",
            "dtypes: float64(1), int64(15), uint8(20)\n",
            "memory usage: 3.5 MB\n"
          ]
        }
      ]
    },
    {
      "cell_type": "code",
      "source": [
        "x = data.iloc[:,:-1]\n",
        "y = data.iloc[:,-1]"
      ],
      "metadata": {
        "id": "UnsSMEIH9iJr"
      },
      "execution_count": 23,
      "outputs": []
    },
    {
      "cell_type": "code",
      "source": [
        "from sklearn.preprocessing import StandardScaler\n",
        "sc = StandardScaler()\n",
        "x_sc = sc.fit_transform(x)\n",
        "x_sc"
      ],
      "metadata": {
        "colab": {
          "base_uri": "https://localhost:8080/"
        },
        "id": "FBOYAlDg9igV",
        "outputId": "7bf5ec88-ec14-4636-c85c-1f0d769b3752"
      },
      "execution_count": 24,
      "outputs": [
        {
          "output_type": "execute_result",
          "data": {
            "text/plain": [
              "array([[ 3.35214954, -0.41780748,  0.18869048, ..., -0.45948118,\n",
              "        -0.49837447, -0.50586831],\n",
              "       [-0.29831605, -1.56874998, -0.64504266, ..., -0.45948118,\n",
              "        -0.49837447, -0.50586831],\n",
              "       [-0.29831605, -1.18510248, -0.64504266, ..., -0.45948118,\n",
              "        -0.49837447, -0.50586831],\n",
              "       ...,\n",
              "       [ 3.35214954,  1.11678253, -0.64504266, ..., -0.45948118,\n",
              "        -0.49837447,  1.97679908],\n",
              "       [-0.29831605, -1.18510248, -0.64504266, ..., -0.45948118,\n",
              "        -0.49837447, -0.50586831],\n",
              "       [-0.29831605,  1.50043003,  1.02242363, ..., -0.45948118,\n",
              "        -0.49837447,  1.97679908]])"
            ]
          },
          "metadata": {},
          "execution_count": 24
        }
      ]
    },
    {
      "cell_type": "code",
      "source": [
        "plt.figure(figsize=(10,6))\n",
        "data.retail_shop_num.plot(kind = 'box')"
      ],
      "metadata": {
        "colab": {
          "base_uri": "https://localhost:8080/",
          "height": 392
        },
        "id": "U4-7XQKsMT8r",
        "outputId": "d26ebd1d-6cd6-4ad8-f5a6-987f36c3f114"
      },
      "execution_count": 41,
      "outputs": [
        {
          "output_type": "execute_result",
          "data": {
            "text/plain": [
              "<AxesSubplot:>"
            ]
          },
          "metadata": {},
          "execution_count": 41
        },
        {
          "output_type": "display_data",
          "data": {
            "text/plain": [
              "<Figure size 720x432 with 1 Axes>"
            ],
            "image/png": "[encoded data removed]"
          },
          "metadata": {
            "needs_background": "light"
          }
        }
      ]
    },
    {
      "cell_type": "code",
      "source": [
        "plt.figure(figsize=(10,6))\n",
        "data.distributor_num.plot(kind = 'box')"
      ],
      "metadata": {
        "colab": {
          "base_uri": "https://localhost:8080/",
          "height": 392
        },
        "id": "KAoBlnwfMpW6",
        "outputId": "e89bd9c0-38a4-4252-fb9f-c1c07e544980"
      },
      "execution_count": 42,
      "outputs": [
        {
          "output_type": "execute_result",
          "data": {
            "text/plain": [
              "<AxesSubplot:>"
            ]
          },
          "metadata": {},
          "execution_count": 42
        },
        {
          "output_type": "display_data",
          "data": {
            "text/plain": [
              "<Figure size 720x432 with 1 Axes>"
            ],
            "image/png": "[encoded data removed]"
          },
          "metadata": {
            "needs_background": "light"
          }
        }
      ]
    },
    {
      "cell_type": "code",
      "source": [
        "plt.figure(figsize=(10,6))\n",
        "data.dist_from_hub.plot(kind = 'box')"
      ],
      "metadata": {
        "colab": {
          "base_uri": "https://localhost:8080/",
          "height": 392
        },
        "id": "_tlW3AauMzX6",
        "outputId": "aa298aca-473e-43dd-c100-6961c619b1c2"
      },
      "execution_count": 43,
      "outputs": [
        {
          "output_type": "execute_result",
          "data": {
            "text/plain": [
              "<AxesSubplot:>"
            ]
          },
          "metadata": {},
          "execution_count": 43
        },
        {
          "output_type": "display_data",
          "data": {
            "text/plain": [
              "<Figure size 720x432 with 1 Axes>"
            ],
            "image/png": "[encoded data removed]"
          },
          "metadata": {
            "needs_background": "light"
          }
        }
      ]
    },
    {
      "cell_type": "code",
      "source": [
        " # Model Building \n",
        " data"
      ],
      "metadata": {
        "colab": {
          "base_uri": "https://localhost:8080/",
          "height": 505
        },
        "id": "H1a3fRNW-j1D",
        "outputId": "410d78af-71c8-4c59-b7a2-c3d0a6cdc8bf"
      },
      "execution_count": 40,
      "outputs": [
        {
          "output_type": "execute_result",
          "data": {
            "text/plain": [
              "       Location_type  num_refill_req_l3m  transport_issue_l1y  \\\n",
              "0                  1                   3                    1   \n",
              "1                  0                   0                    0   \n",
              "2                  0                   1                    0   \n",
              "3                  0                   7                    4   \n",
              "4                  0                   3                    1   \n",
              "...              ...                 ...                  ...   \n",
              "24995              0                   3                    0   \n",
              "24996              0                   6                    0   \n",
              "24997              1                   7                    0   \n",
              "24998              0                   1                    0   \n",
              "24999              0                   8                    2   \n",
              "\n",
              "       Competitor_in_mkt  retail_shop_num  distributor_num  flood_impacted  \\\n",
              "0                      2             4651               24               0   \n",
              "1                      4             6217               47               0   \n",
              "2                      4             4306               64               0   \n",
              "3                      2             6000               50               0   \n",
              "4                      2             4740               42               1   \n",
              "...                  ...              ...              ...             ...   \n",
              "24995                  4             5390               19               0   \n",
              "24996                  4             4490               57               0   \n",
              "24997                  2             5403               31               1   \n",
              "24998                  2            10562               25               0   \n",
              "24999                  4             5664               21               0   \n",
              "\n",
              "       flood_proof  electric_supply  dist_from_hub  ...  \\\n",
              "0                1                1             91  ...   \n",
              "1                0                1            210  ...   \n",
              "2                0                0            161  ...   \n",
              "3                0                0            103  ...   \n",
              "4                0                1            112  ...   \n",
              "...            ...              ...            ...  ...   \n",
              "24995            0                1            142  ...   \n",
              "24996            0                1            130  ...   \n",
              "24997            0                1            147  ...   \n",
              "24998            0                1             60  ...   \n",
              "24999            1                1            239  ...   \n",
              "\n",
              "       WH_regional_zone_Zone 4  WH_regional_zone_Zone 5  \\\n",
              "0                            0                        0   \n",
              "1                            0                        1   \n",
              "2                            0                        0   \n",
              "3                            0                        0   \n",
              "4                            0                        1   \n",
              "...                        ...                      ...   \n",
              "24995                        0                        0   \n",
              "24996                        0                        0   \n",
              "24997                        0                        1   \n",
              "24998                        0                        0   \n",
              "24999                        1                        0   \n",
              "\n",
              "       WH_regional_zone_Zone 6  wh_owner_type_Company Owned  \\\n",
              "0                            1                            0   \n",
              "1                            0                            1   \n",
              "2                            0                            1   \n",
              "3                            0                            0   \n",
              "4                            0                            1   \n",
              "...                        ...                          ...   \n",
              "24995                        0                            0   \n",
              "24996                        0                            1   \n",
              "24997                        0                            0   \n",
              "24998                        0                            0   \n",
              "24999                        0                            1   \n",
              "\n",
              "       wh_owner_type_Rented  approved_wh_govt_certificate_A  \\\n",
              "0                         1                               1   \n",
              "1                         0                               1   \n",
              "2                         0                               1   \n",
              "3                         1                               0   \n",
              "4                         0                               0   \n",
              "...                     ...                             ...   \n",
              "24995                     1                               1   \n",
              "24996                     0                               0   \n",
              "24997                     1                               0   \n",
              "24998                     1                               1   \n",
              "24999                     0                               0   \n",
              "\n",
              "       approved_wh_govt_certificate_A+  approved_wh_govt_certificate_B  \\\n",
              "0                                    0                               0   \n",
              "1                                    0                               0   \n",
              "2                                    0                               0   \n",
              "3                                    1                               0   \n",
              "4                                    0                               0   \n",
              "...                                ...                             ...   \n",
              "24995                                0                               0   \n",
              "24996                                0                               1   \n",
              "24997                                0                               0   \n",
              "24998                                0                               0   \n",
              "24999                                0                               0   \n",
              "\n",
              "       approved_wh_govt_certificate_B+  approved_wh_govt_certificate_C  \n",
              "0                                    0                               0  \n",
              "1                                    0                               0  \n",
              "2                                    0                               0  \n",
              "3                                    0                               0  \n",
              "4                                    0                               1  \n",
              "...                                ...                             ...  \n",
              "24995                                0                               0  \n",
              "24996                                0                               0  \n",
              "24997                                1                               0  \n",
              "24998                                0                               0  \n",
              "24999                                1                               0  \n",
              "\n",
              "[25000 rows x 36 columns]"
            ],
            "text/html": [
              "\n",
              "  <div id=\"df-e2c13d19-870d-4961-bed2-51d642f361d9\">\n",
              "    <div class=\"colab-df-container\">\n",
              "      <div>\n",
              "<style scoped>\n",
              "    .dataframe tbody tr th:only-of-type {\n",
              "        vertical-align: middle;\n",
              "    }\n",
              "\n",
              "    .dataframe tbody tr th {\n",
              "        vertical-align: top;\n",
              "    }\n",
              "\n",
              "    .dataframe thead th {\n",
              "        text-align: right;\n",
              "    }\n",
              "</style>\n",
              "<table border=\"1\" class=\"dataframe\">\n",
              "  <thead>\n",
              "    <tr style=\"text-align: right;\">\n",
              "      <th></th>\n",
              "      <th>Location_type</th>\n",
              "      <th>num_refill_req_l3m</th>\n",
              "      <th>transport_issue_l1y</th>\n",
              "      <th>Competitor_in_mkt</th>\n",
              "      <th>retail_shop_num</th>\n",
              "      <th>distributor_num</th>\n",
              "      <th>flood_impacted</th>\n",
              "      <th>flood_proof</th>\n",
              "      <th>electric_supply</th>\n",
              "      <th>dist_from_hub</th>\n",
              "      <th>...</th>\n",
              "      <th>WH_regional_zone_Zone 4</th>\n",
              "      <th>WH_regional_zone_Zone 5</th>\n",
              "      <th>WH_regional_zone_Zone 6</th>\n",
              "      <th>wh_owner_type_Company Owned</th>\n",
              "      <th>wh_owner_type_Rented</th>\n",
              "      <th>approved_wh_govt_certificate_A</th>\n",
              "      <th>approved_wh_govt_certificate_A+</th>\n",
              "      <th>approved_wh_govt_certificate_B</th>\n",
              "      <th>approved_wh_govt_certificate_B+</th>\n",
              "      <th>approved_wh_govt_certificate_C</th>\n",
              "    </tr>\n",
              "  </thead>\n",
              "  <tbody>\n",
              "    <tr>\n",
              "      <th>0</th>\n",
              "      <td>1</td>\n",
              "      <td>3</td>\n",
              "      <td>1</td>\n",
              "      <td>2</td>\n",
              "      <td>4651</td>\n",
              "      <td>24</td>\n",
              "      <td>0</td>\n",
              "      <td>1</td>\n",
              "      <td>1</td>\n",
              "      <td>91</td>\n",
              "      <td>...</td>\n",
              "      <td>0</td>\n",
              "      <td>0</td>\n",
              "      <td>1</td>\n",
              "      <td>0</td>\n",
              "      <td>1</td>\n",
              "      <td>1</td>\n",
              "      <td>0</td>\n",
              "      <td>0</td>\n",
              "      <td>0</td>\n",
              "      <td>0</td>\n",
              "    </tr>\n",
              "    <tr>\n",
              "      <th>1</th>\n",
              "      <td>0</td>\n",
              "      <td>0</td>\n",
              "      <td>0</td>\n",
              "      <td>4</td>\n",
              "      <td>6217</td>\n",
              "      <td>47</td>\n",
              "      <td>0</td>\n",
              "      <td>0</td>\n",
              "      <td>1</td>\n",
              "      <td>210</td>\n",
              "      <td>...</td>\n",
              "      <td>0</td>\n",
              "      <td>1</td>\n",
              "      <td>0</td>\n",
              "      <td>1</td>\n",
              "      <td>0</td>\n",
              "      <td>1</td>\n",
              "      <td>0</td>\n",
              "      <td>0</td>\n",
              "      <td>0</td>\n",
              "      <td>0</td>\n",
              "    </tr>\n",
              "    <tr>\n",
              "      <th>2</th>\n",
              "      <td>0</td>\n",
              "      <td>1</td>\n",
              "      <td>0</td>\n",
              "      <td>4</td>\n",
              "      <td>4306</td>\n",
              "      <td>64</td>\n",
              "      <td>0</td>\n",
              "      <td>0</td>\n",
              "      <td>0</td>\n",
              "      <td>161</td>\n",
              "      <td>...</td>\n",
              "      <td>0</td>\n",
              "      <td>0</td>\n",
              "      <td>0</td>\n",
              "      <td>1</td>\n",
              "      <td>0</td>\n",
              "      <td>1</td>\n",
              "      <td>0</td>\n",
              "      <td>0</td>\n",
              "      <td>0</td>\n",
              "      <td>0</td>\n",
              "    </tr>\n",
              "    <tr>\n",
              "      <th>3</th>\n",
              "      <td>0</td>\n",
              "      <td>7</td>\n",
              "      <td>4</td>\n",
              "      <td>2</td>\n",
              "      <td>6000</td>\n",
              "      <td>50</td>\n",
              "      <td>0</td>\n",
              "      <td>0</td>\n",
              "      <td>0</td>\n",
              "      <td>103</td>\n",
              "      <td>...</td>\n",
              "      <td>0</td>\n",
              "      <td>0</td>\n",
              "      <td>0</td>\n",
              "      <td>0</td>\n",
              "      <td>1</td>\n",
              "      <td>0</td>\n",
              "      <td>1</td>\n",
              "      <td>0</td>\n",
              "      <td>0</td>\n",
              "      <td>0</td>\n",
              "    </tr>\n",
              "    <tr>\n",
              "      <th>4</th>\n",
              "      <td>0</td>\n",
              "      <td>3</td>\n",
              "      <td>1</td>\n",
              "      <td>2</td>\n",
              "      <td>4740</td>\n",
              "      <td>42</td>\n",
              "      <td>1</td>\n",
              "      <td>0</td>\n",
              "      <td>1</td>\n",
              "      <td>112</td>\n",
              "      <td>...</td>\n",
              "      <td>0</td>\n",
              "      <td>1</td>\n",
              "      <td>0</td>\n",
              "      <td>1</td>\n",
              "      <td>0</td>\n",
              "      <td>0</td>\n",
              "      <td>0</td>\n",
              "      <td>0</td>\n",
              "      <td>0</td>\n",
              "      <td>1</td>\n",
              "    </tr>\n",
              "    <tr>\n",
              "      <th>...</th>\n",
              "      <td>...</td>\n",
              "      <td>...</td>\n",
              "      <td>...</td>\n",
              "      <td>...</td>\n",
              "      <td>...</td>\n",
              "      <td>...</td>\n",
              "      <td>...</td>\n",
              "      <td>...</td>\n",
              "      <td>...</td>\n",
              "      <td>...</td>\n",
              "      <td>...</td>\n",
              "      <td>...</td>\n",
              "      <td>...</td>\n",
              "      <td>...</td>\n",
              "      <td>...</td>\n",
              "      <td>...</td>\n",
              "      <td>...</td>\n",
              "      <td>...</td>\n",
              "      <td>...</td>\n",
              "      <td>...</td>\n",
              "      <td>...</td>\n",
              "    </tr>\n",
              "    <tr>\n",
              "      <th>24995</th>\n",
              "      <td>0</td>\n",
              "      <td>3</td>\n",
              "      <td>0</td>\n",
              "      <td>4</td>\n",
              "      <td>5390</td>\n",
              "      <td>19</td>\n",
              "      <td>0</td>\n",
              "      <td>0</td>\n",
              "      <td>1</td>\n",
              "      <td>142</td>\n",
              "      <td>...</td>\n",
              "      <td>0</td>\n",
              "      <td>0</td>\n",
              "      <td>0</td>\n",
              "      <td>0</td>\n",
              "      <td>1</td>\n",
              "      <td>1</td>\n",
              "      <td>0</td>\n",
              "      <td>0</td>\n",
              "      <td>0</td>\n",
              "      <td>0</td>\n",
              "    </tr>\n",
              "    <tr>\n",
              "      <th>24996</th>\n",
              "      <td>0</td>\n",
              "      <td>6</td>\n",
              "      <td>0</td>\n",
              "      <td>4</td>\n",
              "      <td>4490</td>\n",
              "      <td>57</td>\n",
              "      <td>0</td>\n",
              "      <td>0</td>\n",
              "      <td>1</td>\n",
              "      <td>130</td>\n",
              "      <td>...</td>\n",
              "      <td>0</td>\n",
              "      <td>0</td>\n",
              "      <td>0</td>\n",
              "      <td>1</td>\n",
              "      <td>0</td>\n",
              "      <td>0</td>\n",
              "      <td>0</td>\n",
              "      <td>1</td>\n",
              "      <td>0</td>\n",
              "      <td>0</td>\n",
              "    </tr>\n",
              "    <tr>\n",
              "      <th>24997</th>\n",
              "      <td>1</td>\n",
              "      <td>7</td>\n",
              "      <td>0</td>\n",
              "      <td>2</td>\n",
              "      <td>5403</td>\n",
              "      <td>31</td>\n",
              "      <td>1</td>\n",
              "      <td>0</td>\n",
              "      <td>1</td>\n",
              "      <td>147</td>\n",
              "      <td>...</td>\n",
              "      <td>0</td>\n",
              "      <td>1</td>\n",
              "      <td>0</td>\n",
              "      <td>0</td>\n",
              "      <td>1</td>\n",
              "      <td>0</td>\n",
              "      <td>0</td>\n",
              "      <td>0</td>\n",
              "      <td>1</td>\n",
              "      <td>0</td>\n",
              "    </tr>\n",
              "    <tr>\n",
              "      <th>24998</th>\n",
              "      <td>0</td>\n",
              "      <td>1</td>\n",
              "      <td>0</td>\n",
              "      <td>2</td>\n",
              "      <td>10562</td>\n",
              "      <td>25</td>\n",
              "      <td>0</td>\n",
              "      <td>0</td>\n",
              "      <td>1</td>\n",
              "      <td>60</td>\n",
              "      <td>...</td>\n",
              "      <td>0</td>\n",
              "      <td>0</td>\n",
              "      <td>0</td>\n",
              "      <td>0</td>\n",
              "      <td>1</td>\n",
              "      <td>1</td>\n",
              "      <td>0</td>\n",
              "      <td>0</td>\n",
              "      <td>0</td>\n",
              "      <td>0</td>\n",
              "    </tr>\n",
              "    <tr>\n",
              "      <th>24999</th>\n",
              "      <td>0</td>\n",
              "      <td>8</td>\n",
              "      <td>2</td>\n",
              "      <td>4</td>\n",
              "      <td>5664</td>\n",
              "      <td>21</td>\n",
              "      <td>0</td>\n",
              "      <td>1</td>\n",
              "      <td>1</td>\n",
              "      <td>239</td>\n",
              "      <td>...</td>\n",
              "      <td>1</td>\n",
              "      <td>0</td>\n",
              "      <td>0</td>\n",
              "      <td>1</td>\n",
              "      <td>0</td>\n",
              "      <td>0</td>\n",
              "      <td>0</td>\n",
              "      <td>0</td>\n",
              "      <td>1</td>\n",
              "      <td>0</td>\n",
              "    </tr>\n",
              "  </tbody>\n",
              "</table>\n",
              "<p>25000 rows × 36 columns</p>\n",
              "</div>\n",
              "      <button class=\"colab-df-convert\" onclick=\"convertToInteractive('df-e2c13d19-870d-4961-bed2-51d642f361d9')\"\n",
              "              title=\"Convert this dataframe to an interactive table.\"\n",
              "              style=\"display:none;\">\n",
              "        \n",
              "  <svg xmlns=\"http://www.w3.org/2000/svg\" height=\"24px\"viewBox=\"0 0 24 24\"\n",
              "       width=\"24px\">\n",
              "    <path d=\"M0 0h24v24H0V0z\" fill=\"none\"/>\n",
              "    <path d=\"M18.56 5.44l.94 2.06.94-2.06 2.06-.94-2.06-.94-.94-2.06-.94 2.06-2.06.94zm-11 1L8.5 8.5l.94-2.06 2.06-.94-2.06-.94L8.5 2.5l-.94 2.06-2.06.94zm10 10l.94 2.06.94-2.06 2.06-.94-2.06-.94-.94-2.06-.94 2.06-2.06.94z\"/><path d=\"M17.41 7.96l-1.37-1.37c-.4-.4-.92-.59-1.43-.59-.52 0-1.04.2-1.43.59L10.3 9.45l-7.72 7.72c-.78.78-.78 2.05 0 2.83L4 21.41c.39.39.9.59 1.41.59.51 0 1.02-.2 1.41-.59l7.78-7.78 2.81-2.81c.8-.78.8-2.07 0-2.86zM5.41 20L4 18.59l7.72-7.72 1.47 1.35L5.41 20z\"/>\n",
              "  </svg>\n",
              "      </button>\n",
              "      \n",
              "  <style>\n",
              "    .colab-df-container {\n",
              "      display:flex;\n",
              "      flex-wrap:wrap;\n",
              "      gap: 12px;\n",
              "    }\n",
              "\n",
              "    .colab-df-convert {\n",
              "      background-color: #E8F0FE;\n",
              "      border: none;\n",
              "      border-radius: 50%;\n",
              "      cursor: pointer;\n",
              "      display: none;\n",
              "      fill: #1967D2;\n",
              "      height: 32px;\n",
              "      padding: 0 0 0 0;\n",
              "      width: 32px;\n",
              "    }\n",
              "\n",
              "    .colab-df-convert:hover {\n",
              "      background-color: #E2EBFA;\n",
              "      box-shadow: 0px 1px 2px rgba(60, 64, 67, 0.3), 0px 1px 3px 1px rgba(60, 64, 67, 0.15);\n",
              "      fill: #174EA6;\n",
              "    }\n",
              "\n",
              "    [theme=dark] .colab-df-convert {\n",
              "      background-color: #3B4455;\n",
              "      fill: #D2E3FC;\n",
              "    }\n",
              "\n",
              "    [theme=dark] .colab-df-convert:hover {\n",
              "      background-color: #434B5C;\n",
              "      box-shadow: 0px 1px 3px 1px rgba(0, 0, 0, 0.15);\n",
              "      filter: drop-shadow(0px 1px 2px rgba(0, 0, 0, 0.3));\n",
              "      fill: #FFFFFF;\n",
              "    }\n",
              "  </style>\n",
              "\n",
              "      <script>\n",
              "        const buttonEl =\n",
              "          document.querySelector('#df-e2c13d19-870d-4961-bed2-51d642f361d9 button.colab-df-convert');\n",
              "        buttonEl.style.display =\n",
              "          google.colab.kernel.accessAllowed ? 'block' : 'none';\n",
              "\n",
              "        async function convertToInteractive(key) {\n",
              "          const element = document.querySelector('#df-e2c13d19-870d-4961-bed2-51d642f361d9');\n",
              "          const dataTable =\n",
              "            await google.colab.kernel.invokeFunction('convertToInteractive',\n",
              "                                                     [key], {});\n",
              "          if (!dataTable) return;\n",
              "\n",
              "          const docLinkHtml = 'Like what you see? Visit the ' +\n",
              "            '<a target=\"_blank\" href=https://colab.research.google.com/notebooks/data_table.ipynb>data table notebook</a>'\n",
              "            + ' to learn more about interactive tables.';\n",
              "          element.innerHTML = '';\n",
              "          dataTable['output_type'] = 'display_data';\n",
              "          await google.colab.output.renderOutput(dataTable, element);\n",
              "          const docLink = document.createElement('div');\n",
              "          docLink.innerHTML = docLinkHtml;\n",
              "          element.appendChild(docLink);\n",
              "        }\n",
              "      </script>\n",
              "    </div>\n",
              "  </div>\n",
              "  "
            ]
          },
          "metadata": {},
          "execution_count": 40
        }
      ]
    },
    {
      "cell_type": "code",
      "source": [
        "from sklearn.model_selection import train_test_split\n",
        "x_train, x_test, y_train, y_test = train_test_split(x, y, test_size=0.25, random_state= 100)"
      ],
      "metadata": {
        "id": "QMuiuy0U9iN0"
      },
      "execution_count": 26,
      "outputs": []
    },
    {
      "cell_type": "code",
      "source": [
        "print (x_test.shape, y_test.shape )\n",
        "print (x_train.shape, y_train.shape)"
      ],
      "metadata": {
        "colab": {
          "base_uri": "https://localhost:8080/"
        },
        "id": "lpQ-C2Wn9ieY",
        "outputId": "ae4cfee5-35e8-4d11-99a9-0d3039ddc8fa"
      },
      "execution_count": 27,
      "outputs": [
        {
          "output_type": "stream",
          "name": "stdout",
          "text": [
            "(6250, 35) (6250,)\n",
            "(18750, 35) (18750,)\n"
          ]
        }
      ]
    },
    {
      "cell_type": "code",
      "source": [
        "import numpy as np \n",
        "import pandas as pd\n",
        "from sklearn import datasets\n",
        "from sklearn.preprocessing import StandardScaler\n",
        "from sklearn.linear_model import Perceptron\n",
        "from sklearn.model_selection import train_test_split\n",
        "from sklearn.metrics import accuracy_score, confusion_matrix, classification_report"
      ],
      "metadata": {
        "id": "tU7-i-N29ilz"
      },
      "execution_count": 28,
      "outputs": []
    },
    {
      "cell_type": "code",
      "source": [
        "# Create model using Perceptron \n",
        "per_model = Perceptron(random_state = 101)\n",
        "per_model.fit(x_train, y_train)"
      ],
      "metadata": {
        "colab": {
          "base_uri": "https://localhost:8080/",
          "height": 74
        },
        "id": "CsG2Aip49ioU",
        "outputId": "40d16a28-6658-4d05-ab43-2acfadcbb1cd"
      },
      "execution_count": 29,
      "outputs": [
        {
          "output_type": "execute_result",
          "data": {
            "text/plain": [
              "Perceptron(random_state=101)"
            ],
            "text/html": [
              "<style>#sk-container-id-1 {color: black;background-color: white;}#sk-container-id-1 pre{padding: 0;}#sk-container-id-1 div.sk-toggleable {background-color: white;}#sk-container-id-1 label.sk-toggleable__label {cursor: pointer;display: block;width: 100%;margin-bottom: 0;padding: 0.3em;box-sizing: border-box;text-align: center;}#sk-container-id-1 label.sk-toggleable__label-arrow:before {content: \"▸\";float: left;margin-right: 0.25em;color: #696969;}#sk-container-id-1 label.sk-toggleable__label-arrow:hover:before {color: black;}#sk-container-id-1 div.sk-estimator:hover label.sk-toggleable__label-arrow:before {color: black;}#sk-container-id-1 div.sk-toggleable__content {max-height: 0;max-width: 0;overflow: hidden;text-align: left;background-color: #f0f8ff;}#sk-container-id-1 div.sk-toggleable__content pre {margin: 0.2em;color: black;border-radius: 0.25em;background-color: #f0f8ff;}#sk-container-id-1 input.sk-toggleable__control:checked~div.sk-toggleable__content {max-height: 200px;max-width: 100%;overflow: auto;}#sk-container-id-1 input.sk-toggleable__control:checked~label.sk-toggleable__label-arrow:before {content: \"▾\";}#sk-container-id-1 div.sk-estimator input.sk-toggleable__control:checked~label.sk-toggleable__label {background-color: #d4ebff;}#sk-container-id-1 div.sk-label input.sk-toggleable__control:checked~label.sk-toggleable__label {background-color: #d4ebff;}#sk-container-id-1 input.sk-hidden--visually {border: 0;clip: rect(1px 1px 1px 1px);clip: rect(1px, 1px, 1px, 1px);height: 1px;margin: -1px;overflow: hidden;padding: 0;position: absolute;width: 1px;}#sk-container-id-1 div.sk-estimator {font-family: monospace;background-color: #f0f8ff;border: 1px dotted black;border-radius: 0.25em;box-sizing: border-box;margin-bottom: 0.5em;}#sk-container-id-1 div.sk-estimator:hover {background-color: #d4ebff;}#sk-container-id-1 div.sk-parallel-item::after {content: \"\";width: 100%;border-bottom: 1px solid gray;flex-grow: 1;}#sk-container-id-1 div.sk-label:hover label.sk-toggleable__label {background-color: #d4ebff;}#sk-container-id-1 div.sk-serial::before {content: \"\";position: absolute;border-left: 1px solid gray;box-sizing: border-box;top: 0;bottom: 0;left: 50%;z-index: 0;}#sk-container-id-1 div.sk-serial {display: flex;flex-direction: column;align-items: center;background-color: white;padding-right: 0.2em;padding-left: 0.2em;position: relative;}#sk-container-id-1 div.sk-item {position: relative;z-index: 1;}#sk-container-id-1 div.sk-parallel {display: flex;align-items: stretch;justify-content: center;background-color: white;position: relative;}#sk-container-id-1 div.sk-item::before, #sk-container-id-1 div.sk-parallel-item::before {content: \"\";position: absolute;border-left: 1px solid gray;box-sizing: border-box;top: 0;bottom: 0;left: 50%;z-index: -1;}#sk-container-id-1 div.sk-parallel-item {display: flex;flex-direction: column;z-index: 1;position: relative;background-color: white;}#sk-container-id-1 div.sk-parallel-item:first-child::after {align-self: flex-end;width: 50%;}#sk-container-id-1 div.sk-parallel-item:last-child::after {align-self: flex-start;width: 50%;}#sk-container-id-1 div.sk-parallel-item:only-child::after {width: 0;}#sk-container-id-1 div.sk-dashed-wrapped {border: 1px dashed gray;margin: 0 0.4em 0.5em 0.4em;box-sizing: border-box;padding-bottom: 0.4em;background-color: white;}#sk-container-id-1 div.sk-label label {font-family: monospace;font-weight: bold;display: inline-block;line-height: 1.2em;}#sk-container-id-1 div.sk-label-container {text-align: center;}#sk-container-id-1 div.sk-container {/* jupyter's `normalize.less` sets `[hidden] { display: none; }` but bootstrap.min.css set `[hidden] { display: none !important; }` so we also need the `!important` here to be able to override the default hidden behavior on the sphinx rendered scikit-learn.org. See: https://github.com/scikit-learn/scikit-learn/issues/21755 */display: inline-block !important;position: relative;}#sk-container-id-1 div.sk-text-repr-fallback {display: none;}</style><div id=\"sk-container-id-1\" class=\"sk-top-container\"><div class=\"sk-text-repr-fallback\"><pre>Perceptron(random_state=101)</pre><b>In a Jupyter environment, please rerun this cell to show the HTML representation or trust the notebook. <br />On GitHub, the HTML representation is unable to render, please try loading this page with nbviewer.org.</b></div><div class=\"sk-container\" hidden><div class=\"sk-item\"><div class=\"sk-estimator sk-toggleable\"><input class=\"sk-toggleable__control sk-hidden--visually\" id=\"sk-estimator-id-1\" type=\"checkbox\" checked><label for=\"sk-estimator-id-1\" class=\"sk-toggleable__label sk-toggleable__label-arrow\">Perceptron</label><div class=\"sk-toggleable__content\"><pre>Perceptron(random_state=101)</pre></div></div></div></div></div>"
            ]
          },
          "metadata": {},
          "execution_count": 29
        }
      ]
    },
    {
      "cell_type": "code",
      "source": [
        "y_pred_train = per_model.predict(x_train)\n",
        "y_pred_test = per_model.predict(x_test)"
      ],
      "metadata": {
        "id": "cC7l5gOV9ish"
      },
      "execution_count": 30,
      "outputs": []
    },
    {
      "cell_type": "code",
      "source": [
        "# accuracy_score, confusion_matrix, classification_report\n",
        "print (classification_report(y_train, y_pred_train))\n",
        "print (\"######\"*20)\n",
        "print (classification_report(y_test, y_pred_test))"
      ],
      "metadata": {
        "colab": {
          "base_uri": "https://localhost:8080/"
        },
        "id": "yCRVpLcU9iv9",
        "outputId": "6d7eeb9f-f150-44b7-bf74-ca330a73b658"
      },
      "execution_count": 31,
      "outputs": [
        {
          "output_type": "stream",
          "name": "stdout",
          "text": [
            "              precision    recall  f1-score   support\n",
            "\n",
            "           0       0.77      1.00      0.87     14465\n",
            "           1       0.31      0.00      0.00      4285\n",
            "\n",
            "    accuracy                           0.77     18750\n",
            "   macro avg       0.54      0.50      0.44     18750\n",
            "weighted avg       0.67      0.77      0.67     18750\n",
            "\n",
            "########################################################################################################################\n",
            "              precision    recall  f1-score   support\n",
            "\n",
            "           0       0.77      1.00      0.87      4816\n",
            "           1       0.10      0.00      0.00      1434\n",
            "\n",
            "    accuracy                           0.77      6250\n",
            "   macro avg       0.44      0.50      0.44      6250\n",
            "weighted avg       0.62      0.77      0.67      6250\n",
            "\n"
          ]
        }
      ]
    },
    {
      "cell_type": "code",
      "source": [
        "# accuracy_score, confusion_matrix, classification_report\n",
        "print (accuracy_score(y_train, y_pred_train))\n",
        "print (\"######\"*20)\n",
        "print (accuracy_score(y_test, y_pred_test))"
      ],
      "metadata": {
        "colab": {
          "base_uri": "https://localhost:8080/"
        },
        "id": "iPQnExb99i5w",
        "outputId": "469ccf33-dbfe-4f2c-bc4c-566a47a300f1"
      },
      "execution_count": 34,
      "outputs": [
        {
          "output_type": "stream",
          "name": "stdout",
          "text": [
            "0.7709333333333334\n",
            "########################################################################################################################\n",
            "0.76928\n"
          ]
        }
      ]
    },
    {
      "cell_type": "code",
      "source": [
        "knn = Perceptron()\n",
        "knn.fit(x_train,y_train)\n",
        "print('What is Testing Accuracy')\n",
        "print (knn.score(x_test,y_test))\n",
        "print('What is Traning Accuracy')\n",
        "print (knn.score(x_train,y_train))\n",
        "predicted = knn.predict(x_test)"
      ],
      "metadata": {
        "colab": {
          "base_uri": "https://localhost:8080/"
        },
        "id": "KT0ZDZLQ9i9u",
        "outputId": "48bc9afb-0b9d-43fc-d6dd-712acf00a6e2"
      },
      "execution_count": 37,
      "outputs": [
        {
          "output_type": "stream",
          "name": "stdout",
          "text": [
            "What is Testing Accuracy\n",
            "0.77056\n",
            "What is Traning Accuracy\n",
            "0.7714666666666666\n"
          ]
        }
      ]
    },
    {
      "cell_type": "code",
      "source": [
        "import pandas as pd\n",
        "import numpy as np\n",
        "from sklearn import preprocessing\n",
        "from sklearn.model_selection import train_test_split\n",
        "from sklearn.tree import DecisionTreeClassifier\n",
        "from sklearn.metrics import confusion_matrix\n",
        "from sklearn.metrics import accuracy_score\n",
        "from sklearn import svm\n",
        "from sklearn.metrics import roc_curve, auc\n",
        "import matplotlib.pyplot as plt\n",
        "# from sklearn.externals.six import StringIO  \n",
        "from IPython.display import Image  \n",
        "from sklearn.tree import export_graphviz\n",
        "import seaborn as sns\n",
        "import pydotplus"
      ],
      "metadata": {
        "id": "iIncilJJ9i_x"
      },
      "execution_count": 38,
      "outputs": []
    },
    {
      "cell_type": "code",
      "source": [
        "model_dt_2 = DecisionTreeClassifier(random_state=1,max_depth=2)\n",
        "\n",
        "model_dt_2.fit(x_train,y_train)\n",
        "\n",
        "model_dt_2_score_train = model_dt_2.score(x_train,y_train)\n",
        "\n",
        "model_dt_2_score_test = model_dt_2.score(x_test,y_test)\n",
        "\n",
        "print('Training Score',model_dt_2_score_train)\n",
        "\n",
        "print('Testing Score',model_dt_2_score_test)"
      ],
      "metadata": {
        "colab": {
          "base_uri": "https://localhost:8080/"
        },
        "id": "bwkQQvEO9jBv",
        "outputId": "5f90c75d-df67-4186-80d8-aa945242b142"
      },
      "execution_count": 44,
      "outputs": [
        {
          "output_type": "stream",
          "name": "stdout",
          "text": [
            "Training Score 0.7714666666666666\n",
            "Testing Score 0.77056\n"
          ]
        }
      ]
    },
    {
      "cell_type": "code",
      "source": [
        "model_dt_4 = DecisionTreeClassifier(random_state=1,max_depth=4)\n",
        "\n",
        "model_dt_4.fit(x_train,y_train)\n",
        "\n",
        "model_dt_4_score_train = model_dt_4.score(x_train,y_train)\n",
        "\n",
        "model_dt_4_score_test = model_dt_4.score(x_test,y_test)\n",
        "\n",
        "print('Training Score',model_dt_4_score_train)\n",
        "\n",
        "print('Testing Score',model_dt_4_score_test)"
      ],
      "metadata": {
        "colab": {
          "base_uri": "https://localhost:8080/"
        },
        "id": "Ue_aqi_29jDw",
        "outputId": "dd2821a1-f9e1-4c3e-98bf-e3c13808f164"
      },
      "execution_count": 46,
      "outputs": [
        {
          "output_type": "stream",
          "name": "stdout",
          "text": [
            "Training Score 1.0\n",
            "Testing Score 1.0\n"
          ]
        }
      ]
    },
    {
      "cell_type": "code",
      "source": [
        "model_dt_6 = DecisionTreeClassifier(random_state=1,max_depth=6)\n",
        "\n",
        "model_dt_6.fit(x_train,y_train)\n",
        "\n",
        "model_dt_6_score_train = model_dt_6.score(x_train,y_train)\n",
        "\n",
        "model_dt_6_score_test = model_dt_6.score(x_test,y_test)\n",
        "\n",
        "print('Training Score',model_dt_6_score_train)\n",
        "\n",
        "print('Testing Score',model_dt_6_score_test)"
      ],
      "metadata": {
        "colab": {
          "base_uri": "https://localhost:8080/"
        },
        "id": "MuuaTpHe9jF5",
        "outputId": "cbf451b5-0894-4e6e-87db-ec4d104f32a7"
      },
      "execution_count": 47,
      "outputs": [
        {
          "output_type": "stream",
          "name": "stdout",
          "text": [
            "Training Score 1.0\n",
            "Testing Score 1.0\n"
          ]
        }
      ]
    }
  ]
}