{
 "cells": [
  {
   "cell_type": "code",
   "execution_count": 1,
   "metadata": {
    "id": "-HZ3Dnk9tfLW"
   },
   "outputs": [],
   "source": [
    "##### Importing Libraries ######\n",
    "#########################################\n",
    "\n",
    "import pandas as pd\n",
    "import numpy as np\n",
    "import os\n",
    "import seaborn as sns\n",
    "import pickle ### helps storing data in pickle files\n",
    "\n",
    "from sklearn.linear_model import LogisticRegression\n",
    "from sklearn.metrics import roc_auc_score, plot_roc_curve, confusion_matrix,f1_score ## model evaluation metrics\n",
    "from matplotlib import pyplot as plt\n",
    "from sklearn.preprocessing import StandardScaler ## (x-mean(variable))/standard_deviation(variable)\n",
    "from sklearn.model_selection import StratifiedShuffleSplit ### datasplitting\n",
    " \n",
    "from sklearn.model_selection import GridSearchCV          ### hyperparameter finding\n",
    "\n",
    "from sklearn.tree import DecisionTreeClassifier           ### helps fitting a decision tree\n",
    "from sklearn.ensemble import RandomForestClassifier       ### models from sklearn"
   ]
  },
  {
   "cell_type": "code",
   "execution_count": 2,
   "metadata": {
    "id": "Vg0PeDkZtfLc"
   },
   "outputs": [],
   "source": [
    "%matplotlib inline"
   ]
  },
  {
   "cell_type": "code",
   "execution_count": 3,
   "metadata": {
    "id": "yFQWsxdE9Z_9"
   },
   "outputs": [],
   "source": [
    "def capping(series,quantile_val):\n",
    "  cap_value = series.quantile(quantile_val)\n",
    "  series[series>cap_value] = cap_value\n",
    "  return(series, cap_value)\n",
    "\n",
    "def get_percentages(col_1, col_2, data):\n",
    "  x = pd.crosstab(data[col_1],data[col_2])\n",
    "  return(x[1]/(x[1]+x[2]))"
   ]
  },
  {
   "cell_type": "code",
   "execution_count": 4,
   "metadata": {
    "id": "isJJp332tfLd"
   },
   "outputs": [],
   "source": [
    "####### Loading Data ######\n",
    "\n",
    "cwd = os.getcwd() ##gets current working directory\n",
    "\n",
    "data_path = str(cwd) + '/Existing_Base.csv'\n",
    "\n",
    "data = pd.read_csv(data_path)  ## Loads the data"
   ]
  },
  {
   "cell_type": "markdown",
   "metadata": {
    "id": "JhB72m0mtfLd"
   },
   "source": [
    "# Data Exploration"
   ]
  },
  {
   "cell_type": "code",
   "execution_count": 5,
   "metadata": {
    "colab": {
     "base_uri": "https://localhost:8080/"
    },
    "id": "9leT4Y3utfLd",
    "outputId": "b6c75216-67c0-4adb-f5a6-dc2e47f94952"
   },
   "outputs": [
    {
     "data": {
      "text/plain": [
       "(10155, 32)"
      ]
     },
     "execution_count": 5,
     "metadata": {},
     "output_type": "execute_result"
    }
   ],
   "source": [
    "data.shape ## gets the shape of the data"
   ]
  },
  {
   "cell_type": "code",
   "execution_count": 6,
   "metadata": {
    "colab": {
     "base_uri": "https://localhost:8080/"
    },
    "id": "bbW9ZxibtH34",
    "outputId": "d533d1d3-11a3-440d-ee6c-5ef2f39c6025"
   },
   "outputs": [
    {
     "data": {
      "text/plain": [
       "2    9069\n",
       "1    1086\n",
       "Name: Revenue Grid, dtype: int64"
      ]
     },
     "execution_count": 6,
     "metadata": {},
     "output_type": "execute_result"
    }
   ],
   "source": [
    "#### Distribution of target class ####\n",
    "\n",
    "data['Revenue Grid'].value_counts()\n",
    "\n",
    "#### There is class imbalance in dataset."
   ]
  },
  {
   "cell_type": "code",
   "execution_count": 7,
   "metadata": {
    "colab": {
     "base_uri": "https://localhost:8080/",
     "height": 421
    },
    "id": "aX4p7eq0tfLe",
    "outputId": "c39c822a-4b2d-48fc-bf2b-132df93d86e0"
   },
   "outputs": [
    {
     "data": {
      "text/html": [
       "<div>\n",
       "<style scoped>\n",
       "    .dataframe tbody tr th:only-of-type {\n",
       "        vertical-align: middle;\n",
       "    }\n",
       "\n",
       "    .dataframe tbody tr th {\n",
       "        vertical-align: top;\n",
       "    }\n",
       "\n",
       "    .dataframe thead th {\n",
       "        text-align: right;\n",
       "    }\n",
       "</style>\n",
       "<table border=\"1\" class=\"dataframe\">\n",
       "  <thead>\n",
       "    <tr style=\"text-align: right;\">\n",
       "      <th></th>\n",
       "      <th>REF_NO</th>\n",
       "      <th>children</th>\n",
       "      <th>age_band</th>\n",
       "      <th>status</th>\n",
       "      <th>occupation</th>\n",
       "      <th>occupation_partner</th>\n",
       "      <th>home_status</th>\n",
       "      <th>family_income</th>\n",
       "      <th>self_employed</th>\n",
       "      <th>self_employed_partner</th>\n",
       "      <th>...</th>\n",
       "      <th>Investment Tax Saving Bond</th>\n",
       "      <th>Home Loan</th>\n",
       "      <th>Online Purchase Amount</th>\n",
       "      <th>Revenue Grid</th>\n",
       "      <th>gender</th>\n",
       "      <th>region</th>\n",
       "      <th>Investment in Commudity</th>\n",
       "      <th>Investment in Equity</th>\n",
       "      <th>Investment in Derivative</th>\n",
       "      <th>Portfolio Balance</th>\n",
       "    </tr>\n",
       "  </thead>\n",
       "  <tbody>\n",
       "    <tr>\n",
       "      <th>0</th>\n",
       "      <td>1</td>\n",
       "      <td>Zero</td>\n",
       "      <td>51-55</td>\n",
       "      <td>Partner</td>\n",
       "      <td>Manual Worker</td>\n",
       "      <td>Secretarial/Admin</td>\n",
       "      <td>Own Home</td>\n",
       "      <td>&lt;17,500, &gt;=15,000</td>\n",
       "      <td>No</td>\n",
       "      <td>No</td>\n",
       "      <td>...</td>\n",
       "      <td>19.99</td>\n",
       "      <td>0.00</td>\n",
       "      <td>0.00</td>\n",
       "      <td>1</td>\n",
       "      <td>Female</td>\n",
       "      <td>Wales</td>\n",
       "      <td>74.67</td>\n",
       "      <td>18.66</td>\n",
       "      <td>32.32</td>\n",
       "      <td>89.43</td>\n",
       "    </tr>\n",
       "    <tr>\n",
       "      <th>1</th>\n",
       "      <td>2</td>\n",
       "      <td>Zero</td>\n",
       "      <td>55-60</td>\n",
       "      <td>Single/Never Married</td>\n",
       "      <td>Retired</td>\n",
       "      <td>Retired</td>\n",
       "      <td>Own Home</td>\n",
       "      <td>&lt;27,500, &gt;=25,000</td>\n",
       "      <td>No</td>\n",
       "      <td>No</td>\n",
       "      <td>...</td>\n",
       "      <td>0.00</td>\n",
       "      <td>0.00</td>\n",
       "      <td>0.00</td>\n",
       "      <td>2</td>\n",
       "      <td>Female</td>\n",
       "      <td>North West</td>\n",
       "      <td>20.19</td>\n",
       "      <td>0.00</td>\n",
       "      <td>4.33</td>\n",
       "      <td>22.78</td>\n",
       "    </tr>\n",
       "    <tr>\n",
       "      <th>2</th>\n",
       "      <td>3</td>\n",
       "      <td>Zero</td>\n",
       "      <td>26-30</td>\n",
       "      <td>Single/Never Married</td>\n",
       "      <td>Professional</td>\n",
       "      <td>Other</td>\n",
       "      <td>Own Home</td>\n",
       "      <td>&lt;30,000, &gt;=27,500</td>\n",
       "      <td>Yes</td>\n",
       "      <td>No</td>\n",
       "      <td>...</td>\n",
       "      <td>0.00</td>\n",
       "      <td>3.49</td>\n",
       "      <td>0.00</td>\n",
       "      <td>2</td>\n",
       "      <td>Male</td>\n",
       "      <td>North</td>\n",
       "      <td>98.06</td>\n",
       "      <td>31.07</td>\n",
       "      <td>80.96</td>\n",
       "      <td>171.78</td>\n",
       "    </tr>\n",
       "    <tr>\n",
       "      <th>3</th>\n",
       "      <td>5</td>\n",
       "      <td>Zero</td>\n",
       "      <td>18-21</td>\n",
       "      <td>Single/Never Married</td>\n",
       "      <td>Professional</td>\n",
       "      <td>Manual Worker</td>\n",
       "      <td>Own Home</td>\n",
       "      <td>&lt;15,000, &gt;=12,500</td>\n",
       "      <td>No</td>\n",
       "      <td>No</td>\n",
       "      <td>...</td>\n",
       "      <td>0.00</td>\n",
       "      <td>0.00</td>\n",
       "      <td>0.00</td>\n",
       "      <td>2</td>\n",
       "      <td>Female</td>\n",
       "      <td>West Midlands</td>\n",
       "      <td>4.10</td>\n",
       "      <td>14.15</td>\n",
       "      <td>17.57</td>\n",
       "      <td>-41.70</td>\n",
       "    </tr>\n",
       "    <tr>\n",
       "      <th>4</th>\n",
       "      <td>6</td>\n",
       "      <td>Zero</td>\n",
       "      <td>45-50</td>\n",
       "      <td>Partner</td>\n",
       "      <td>Business Manager</td>\n",
       "      <td>Unknown</td>\n",
       "      <td>Own Home</td>\n",
       "      <td>&lt;30,000, &gt;=27,500</td>\n",
       "      <td>No</td>\n",
       "      <td>No</td>\n",
       "      <td>...</td>\n",
       "      <td>0.00</td>\n",
       "      <td>45.91</td>\n",
       "      <td>25.98</td>\n",
       "      <td>2</td>\n",
       "      <td>Female</td>\n",
       "      <td>Scotland</td>\n",
       "      <td>70.16</td>\n",
       "      <td>55.86</td>\n",
       "      <td>80.44</td>\n",
       "      <td>235.02</td>\n",
       "    </tr>\n",
       "  </tbody>\n",
       "</table>\n",
       "<p>5 rows × 32 columns</p>\n",
       "</div>"
      ],
      "text/plain": [
       "   REF_NO children age_band                status        occupation  \\\n",
       "0       1     Zero    51-55               Partner     Manual Worker   \n",
       "1       2     Zero    55-60  Single/Never Married           Retired   \n",
       "2       3     Zero    26-30  Single/Never Married      Professional   \n",
       "3       5     Zero    18-21  Single/Never Married      Professional   \n",
       "4       6     Zero    45-50               Partner  Business Manager   \n",
       "\n",
       "  occupation_partner home_status      family_income self_employed  \\\n",
       "0  Secretarial/Admin    Own Home  <17,500, >=15,000            No   \n",
       "1            Retired    Own Home  <27,500, >=25,000            No   \n",
       "2              Other    Own Home  <30,000, >=27,500           Yes   \n",
       "3      Manual Worker    Own Home  <15,000, >=12,500            No   \n",
       "4            Unknown    Own Home  <30,000, >=27,500            No   \n",
       "\n",
       "  self_employed_partner  ...  Investment Tax Saving Bond Home Loan  \\\n",
       "0                    No  ...                       19.99      0.00   \n",
       "1                    No  ...                        0.00      0.00   \n",
       "2                    No  ...                        0.00      3.49   \n",
       "3                    No  ...                        0.00      0.00   \n",
       "4                    No  ...                        0.00     45.91   \n",
       "\n",
       "  Online Purchase Amount Revenue Grid  gender         region  \\\n",
       "0                   0.00            1  Female          Wales   \n",
       "1                   0.00            2  Female     North West   \n",
       "2                   0.00            2    Male          North   \n",
       "3                   0.00            2  Female  West Midlands   \n",
       "4                  25.98            2  Female       Scotland   \n",
       "\n",
       "   Investment in Commudity  Investment in Equity  Investment in Derivative  \\\n",
       "0                    74.67                 18.66                     32.32   \n",
       "1                    20.19                  0.00                      4.33   \n",
       "2                    98.06                 31.07                     80.96   \n",
       "3                     4.10                 14.15                     17.57   \n",
       "4                    70.16                 55.86                     80.44   \n",
       "\n",
       "   Portfolio Balance  \n",
       "0              89.43  \n",
       "1              22.78  \n",
       "2             171.78  \n",
       "3             -41.70  \n",
       "4             235.02  \n",
       "\n",
       "[5 rows x 32 columns]"
      ]
     },
     "execution_count": 7,
     "metadata": {},
     "output_type": "execute_result"
    }
   ],
   "source": [
    "data.head()"
   ]
  },
  {
   "cell_type": "code",
   "execution_count": 8,
   "metadata": {
    "colab": {
     "base_uri": "https://localhost:8080/"
    },
    "id": "6icQQXwNtfLf",
    "outputId": "50dc61e8-5da5-429c-e000-8c1a38a11903"
   },
   "outputs": [
    {
     "name": "stdout",
     "output_type": "stream",
     "text": [
      "<class 'pandas.core.frame.DataFrame'>\n",
      "RangeIndex: 10155 entries, 0 to 10154\n",
      "Data columns (total 32 columns):\n",
      " #   Column                           Non-Null Count  Dtype  \n",
      "---  ------                           --------------  -----  \n",
      " 0   REF_NO                           10155 non-null  int64  \n",
      " 1   children                         10155 non-null  object \n",
      " 2   age_band                         10155 non-null  object \n",
      " 3   status                           10155 non-null  object \n",
      " 4   occupation                       10155 non-null  object \n",
      " 5   occupation_partner               10155 non-null  object \n",
      " 6   home_status                      10155 non-null  object \n",
      " 7   family_income                    10155 non-null  object \n",
      " 8   self_employed                    10155 non-null  object \n",
      " 9   self_employed_partner            10155 non-null  object \n",
      " 10  year_last_moved                  10155 non-null  int64  \n",
      " 11  TVarea                           10155 non-null  object \n",
      " 12  post_code                        10155 non-null  object \n",
      " 13  post_area                        10155 non-null  object \n",
      " 14  Average Credit Card Transaction  10155 non-null  float64\n",
      " 15  Balance Transfer                 10155 non-null  float64\n",
      " 16  Term Deposit                     10155 non-null  float64\n",
      " 17  Life Insurance                   10155 non-null  float64\n",
      " 18  Medical Insurance                10155 non-null  float64\n",
      " 19  Average A/C Balance              10155 non-null  float64\n",
      " 20  Personal Loan                    10155 non-null  float64\n",
      " 21  Investment in Mutual Fund        10155 non-null  float64\n",
      " 22  Investment Tax Saving Bond       10155 non-null  float64\n",
      " 23  Home Loan                        10155 non-null  float64\n",
      " 24  Online Purchase Amount           10155 non-null  float64\n",
      " 25  Revenue Grid                     10155 non-null  int64  \n",
      " 26  gender                           10155 non-null  object \n",
      " 27  region                           10155 non-null  object \n",
      " 28  Investment in Commudity          10155 non-null  float64\n",
      " 29  Investment in Equity             10155 non-null  float64\n",
      " 30  Investment in Derivative         10155 non-null  float64\n",
      " 31  Portfolio Balance                10155 non-null  float64\n",
      "dtypes: float64(15), int64(3), object(14)\n",
      "memory usage: 2.5+ MB\n"
     ]
    }
   ],
   "source": [
    "data.info() ### prints out information regarding columns in the data\n",
    "\n",
    "#### Insight #####\n",
    "####################\n",
    "\n",
    "# Out of 32 columns, found around 18 columns of numeric type, 14 columns of string type\n",
    "\n",
    "# Ref number is just the index number. so dropped it.\n",
    "# Remove the - and convert age_band into numeric.\n",
    "# Remove the >< and convert the family_income into a numeric column."
   ]
  },
  {
   "cell_type": "code",
   "execution_count": 9,
   "metadata": {
    "colab": {
     "base_uri": "https://localhost:8080/",
     "height": 1000
    },
    "id": "lylf8tiCtfLf",
    "outputId": "bcd5f990-8700-4a12-e6d4-50317eae1ab6"
   },
   "outputs": [
    {
     "data": {
      "image/png": "[encoded data removed]",
      "text/plain": [
       "<Figure size 1440x1440 with 18 Axes>"
      ]
     },
     "metadata": {
      "needs_background": "light"
     },
     "output_type": "display_data"
    }
   ],
   "source": [
    "#### Visualizing numeric columns ######\n",
    "\n",
    "numeric_cols = data.select_dtypes(include = np.number) ### selects numeric columns\n",
    "\n",
    "column_names = list(numeric_cols.columns)\n",
    "\n",
    "col_index = 0\n",
    "\n",
    "plot_rows = 6\n",
    "plot_cols = 3\n",
    "\n",
    "fig, ax = plt.subplots(nrows = plot_rows,ncols=plot_cols,figsize = (20,20))\n",
    "\n",
    "for row_count in range(plot_rows):\n",
    "    for col_count in range(plot_cols):\n",
    "        ax[row_count][col_count].scatter(y = numeric_cols[column_names[col_index]],x=numeric_cols.index)\n",
    "        ax[row_count][col_count].set_ylabel(column_names[col_index])\n",
    "        col_index = col_index + 1\n",
    "        \n",
    "###### Insights #####\n",
    "#####################\n",
    "\n",
    "## Ref Number column just contains the index so can be removed.\n",
    "## year_last_moved column seem to have many values close to 0 or 0, these seem to be noise.\n",
    "## Average_credit_card_transaction,Balance Transfer seems to be highly right skewed.\n",
    "## A single customer with very high value of balance transfer/life insurance etc stands out, this row could be considered outlier and removed, #row number 250\n",
    "## Capping could be done to limit the impact of outliers.\n",
    "## Scaling could be done since the scale is different for most of the variables."
   ]
  },
  {
   "cell_type": "code",
   "execution_count": 10,
   "metadata": {
    "colab": {
     "base_uri": "https://localhost:8080/",
     "height": 356
    },
    "id": "zwNBvOVi9ODn",
    "outputId": "b35e3d4e-77e3-415e-fd1b-c9156e6517bc"
   },
   "outputs": [
    {
     "name": "stderr",
     "output_type": "stream",
     "text": [
      "C:\\Users\\user\\anaconda3\\lib\\site-packages\\seaborn\\distributions.py:2619: FutureWarning: `distplot` is a deprecated function and will be removed in a future version. Please adapt your code to use either `displot` (a figure-level function with similar flexibility) or `kdeplot` (an axes-level function for kernel density plots).\n",
      "  warnings.warn(msg, FutureWarning)\n"
     ]
    },
    {
     "data": {
      "text/plain": [
       "<AxesSubplot:xlabel='Investment Tax Saving Bond', ylabel='Density'>"
      ]
     },
     "execution_count": 10,
     "metadata": {},
     "output_type": "execute_result"
    },
    {
     "data": {
      "image/png": "[encoded data removed]",
      "text/plain": [
       "<Figure size 432x288 with 1 Axes>"
      ]
     },
     "metadata": {
      "needs_background": "light"
     },
     "output_type": "display_data"
    }
   ],
   "source": [
    "sns.distplot((data['Investment Tax Saving Bond']),hist = False)"
   ]
  },
  {
   "cell_type": "code",
   "execution_count": 11,
   "metadata": {
    "colab": {
     "base_uri": "https://localhost:8080/",
     "height": 352
    },
    "id": "yMoaXuhZp6vq",
    "outputId": "d23f9af1-06a1-411d-b53c-7a175de6b628"
   },
   "outputs": [
    {
     "name": "stderr",
     "output_type": "stream",
     "text": [
      "C:\\Users\\user\\anaconda3\\lib\\site-packages\\seaborn\\distributions.py:2619: FutureWarning: `distplot` is a deprecated function and will be removed in a future version. Please adapt your code to use either `displot` (a figure-level function with similar flexibility) or `kdeplot` (an axes-level function for kernel density plots).\n",
      "  warnings.warn(msg, FutureWarning)\n"
     ]
    },
    {
     "data": {
      "text/plain": [
       "<AxesSubplot:xlabel='Portfolio Balance', ylabel='Density'>"
      ]
     },
     "execution_count": 11,
     "metadata": {},
     "output_type": "execute_result"
    },
    {
     "data": {
      "image/png": "[encoded data removed]",
      "text/plain": [
       "<Figure size 432x288 with 1 Axes>"
      ]
     },
     "metadata": {
      "needs_background": "light"
     },
     "output_type": "display_data"
    }
   ],
   "source": [
    "sns.distplot(data['Portfolio Balance'],hist = False)"
   ]
  },
  {
   "cell_type": "code",
   "execution_count": 12,
   "metadata": {
    "colab": {
     "base_uri": "https://localhost:8080/",
     "height": 352
    },
    "id": "Ha3gZezSq1dU",
    "outputId": "1b3ba562-d0f4-4c22-bbdb-8ce790803fde"
   },
   "outputs": [
    {
     "name": "stderr",
     "output_type": "stream",
     "text": [
      "C:\\Users\\user\\anaconda3\\lib\\site-packages\\seaborn\\distributions.py:2619: FutureWarning: `distplot` is a deprecated function and will be removed in a future version. Please adapt your code to use either `displot` (a figure-level function with similar flexibility) or `kdeplot` (an axes-level function for kernel density plots).\n",
      "  warnings.warn(msg, FutureWarning)\n"
     ]
    },
    {
     "data": {
      "text/plain": [
       "<AxesSubplot:xlabel='Investment in Equity', ylabel='Density'>"
      ]
     },
     "execution_count": 12,
     "metadata": {},
     "output_type": "execute_result"
    },
    {
     "data": {
      "image/png": "[encoded data removed]",
      "text/plain": [
       "<Figure size 432x288 with 1 Axes>"
      ]
     },
     "metadata": {
      "needs_background": "light"
     },
     "output_type": "display_data"
    }
   ],
   "source": [
    "sns.distplot(data['Investment in Equity'],hist = False)"
   ]
  },
  {
   "cell_type": "code",
   "execution_count": 13,
   "metadata": {},
   "outputs": [
    {
     "name": "stderr",
     "output_type": "stream",
     "text": [
      "C:\\Users\\user\\anaconda3\\lib\\site-packages\\seaborn\\distributions.py:2619: FutureWarning: `distplot` is a deprecated function and will be removed in a future version. Please adapt your code to use either `displot` (a figure-level function with similar flexibility) or `kdeplot` (an axes-level function for kernel density plots).\n",
      "  warnings.warn(msg, FutureWarning)\n"
     ]
    },
    {
     "data": {
      "text/plain": [
       "<AxesSubplot:xlabel='Online Purchase Amount', ylabel='Density'>"
      ]
     },
     "execution_count": 13,
     "metadata": {},
     "output_type": "execute_result"
    },
    {
     "data": {
      "image/png": "[encoded data removed]",
      "text/plain": [
       "<Figure size 432x288 with 1 Axes>"
      ]
     },
     "metadata": {
      "needs_background": "light"
     },
     "output_type": "display_data"
    }
   ],
   "source": [
    "sns.distplot(data['Online Purchase Amount'],hist = False)"
   ]
  },
  {
   "cell_type": "code",
   "execution_count": 14,
   "metadata": {
    "colab": {
     "base_uri": "https://localhost:8080/",
     "height": 143
    },
    "id": "nQMN23sKrjWB",
    "outputId": "63fcc0f8-490c-46f4-d642-09f51524d8c3"
   },
   "outputs": [
    {
     "data": {
      "text/html": [
       "<div>\n",
       "<style scoped>\n",
       "    .dataframe tbody tr th:only-of-type {\n",
       "        vertical-align: middle;\n",
       "    }\n",
       "\n",
       "    .dataframe tbody tr th {\n",
       "        vertical-align: top;\n",
       "    }\n",
       "\n",
       "    .dataframe thead th {\n",
       "        text-align: right;\n",
       "    }\n",
       "</style>\n",
       "<table border=\"1\" class=\"dataframe\">\n",
       "  <thead>\n",
       "    <tr style=\"text-align: right;\">\n",
       "      <th></th>\n",
       "      <th>Online Purchase Amount</th>\n",
       "    </tr>\n",
       "    <tr>\n",
       "      <th>Revenue Grid</th>\n",
       "      <th></th>\n",
       "    </tr>\n",
       "  </thead>\n",
       "  <tbody>\n",
       "    <tr>\n",
       "      <th>1</th>\n",
       "      <td>118.808066</td>\n",
       "    </tr>\n",
       "    <tr>\n",
       "      <th>2</th>\n",
       "      <td>7.230388</td>\n",
       "    </tr>\n",
       "  </tbody>\n",
       "</table>\n",
       "</div>"
      ],
      "text/plain": [
       "              Online Purchase Amount\n",
       "Revenue Grid                        \n",
       "1                         118.808066\n",
       "2                           7.230388"
      ]
     },
     "execution_count": 14,
     "metadata": {},
     "output_type": "execute_result"
    }
   ],
   "source": [
    "data.groupby(['Revenue Grid']).agg({'Online Purchase Amount': 'mean'})"
   ]
  },
  {
   "cell_type": "code",
   "execution_count": 15,
   "metadata": {
    "colab": {
     "base_uri": "https://localhost:8080/",
     "height": 297
    },
    "id": "oV3J_PMbA7n2",
    "outputId": "3e309d45-c003-473f-f5d2-3ab5640f7769"
   },
   "outputs": [
    {
     "data": {
      "text/plain": [
       "<AxesSubplot:xlabel='Revenue Grid', ylabel='Online Purchase Amount'>"
      ]
     },
     "execution_count": 15,
     "metadata": {},
     "output_type": "execute_result"
    },
    {
     "data": {
      "image/png": "[encoded data removed]",
      "text/plain": [
       "<Figure size 432x288 with 1 Axes>"
      ]
     },
     "metadata": {
      "needs_background": "light"
     },
     "output_type": "display_data"
    }
   ],
   "source": [
    "sns.boxplot(x='Revenue Grid', y = 'Online Purchase Amount', data = data)"
   ]
  },
  {
   "cell_type": "code",
   "execution_count": 16,
   "metadata": {
    "colab": {
     "base_uri": "https://localhost:8080/"
    },
    "id": "B_1mEfqH06pc",
    "outputId": "73182651-24e1-4f70-abf8-1787fbec3fd7"
   },
   "outputs": [
    {
     "data": {
      "text/plain": [
       "84"
      ]
     },
     "execution_count": 16,
     "metadata": {},
     "output_type": "execute_result"
    }
   ],
   "source": [
    "np.sum(data['year_last_moved']==0) #### This computes the number of 0's in the year last moved columns"
   ]
  },
  {
   "cell_type": "code",
   "execution_count": 17,
   "metadata": {
    "colab": {
     "base_uri": "https://localhost:8080/",
     "height": 352
    },
    "id": "Ad8CD0MMAq79",
    "outputId": "6403d2e7-e957-4c40-ca58-4a6b7584a33e"
   },
   "outputs": [
    {
     "name": "stderr",
     "output_type": "stream",
     "text": [
      "C:\\Users\\user\\anaconda3\\lib\\site-packages\\seaborn\\_decorators.py:36: FutureWarning: Pass the following variables as keyword args: x, y. From version 0.12, the only valid positional argument will be `data`, and passing other arguments without an explicit keyword will result in an error or misinterpretation.\n",
      "  warnings.warn(\n"
     ]
    },
    {
     "data": {
      "text/plain": [
       "<AxesSubplot:xlabel='Revenue Grid', ylabel='year_last_moved'>"
      ]
     },
     "execution_count": 17,
     "metadata": {},
     "output_type": "execute_result"
    },
    {
     "data": {
      "image/png": "[encoded data removed]",
      "text/plain": [
       "<Figure size 432x288 with 1 Axes>"
      ]
     },
     "metadata": {
      "needs_background": "light"
     },
     "output_type": "display_data"
    }
   ],
   "source": [
    "sns.boxplot(data.loc[data['year_last_moved']>0,'Revenue Grid'], data.loc[data['year_last_moved']>0,'year_last_moved'])"
   ]
  },
  {
   "cell_type": "code",
   "execution_count": 18,
   "metadata": {
    "colab": {
     "base_uri": "https://localhost:8080/",
     "height": 903
    },
    "id": "Rr-WaQ3FCMcw",
    "outputId": "aa567097-18f9-49da-eb9b-66328553c0b4"
   },
   "outputs": [
    {
     "data": {
      "text/html": [
       "<div>\n",
       "<style scoped>\n",
       "    .dataframe tbody tr th:only-of-type {\n",
       "        vertical-align: middle;\n",
       "    }\n",
       "\n",
       "    .dataframe tbody tr th {\n",
       "        vertical-align: top;\n",
       "    }\n",
       "\n",
       "    .dataframe thead th {\n",
       "        text-align: right;\n",
       "    }\n",
       "</style>\n",
       "<table border=\"1\" class=\"dataframe\">\n",
       "  <thead>\n",
       "    <tr style=\"text-align: right;\">\n",
       "      <th></th>\n",
       "      <th>REF_NO</th>\n",
       "      <th>year_last_moved</th>\n",
       "      <th>Average Credit Card Transaction</th>\n",
       "      <th>Balance Transfer</th>\n",
       "      <th>Term Deposit</th>\n",
       "      <th>Life Insurance</th>\n",
       "      <th>Medical Insurance</th>\n",
       "      <th>Average A/C Balance</th>\n",
       "      <th>Personal Loan</th>\n",
       "      <th>Investment in Mutual Fund</th>\n",
       "      <th>Investment Tax Saving Bond</th>\n",
       "      <th>Home Loan</th>\n",
       "      <th>Online Purchase Amount</th>\n",
       "      <th>Revenue Grid</th>\n",
       "      <th>Investment in Commudity</th>\n",
       "      <th>Investment in Equity</th>\n",
       "      <th>Investment in Derivative</th>\n",
       "      <th>Portfolio Balance</th>\n",
       "    </tr>\n",
       "  </thead>\n",
       "  <tbody>\n",
       "    <tr>\n",
       "      <th>REF_NO</th>\n",
       "      <td>1.000000</td>\n",
       "      <td>0.028739</td>\n",
       "      <td>-0.001217</td>\n",
       "      <td>-0.010711</td>\n",
       "      <td>-0.002313</td>\n",
       "      <td>0.008301</td>\n",
       "      <td>0.020776</td>\n",
       "      <td>-0.005197</td>\n",
       "      <td>-0.010802</td>\n",
       "      <td>-0.006030</td>\n",
       "      <td>0.000775</td>\n",
       "      <td>-0.014010</td>\n",
       "      <td>0.003267</td>\n",
       "      <td>-0.010578</td>\n",
       "      <td>0.002082</td>\n",
       "      <td>-0.007154</td>\n",
       "      <td>-0.000234</td>\n",
       "      <td>-0.000721</td>\n",
       "    </tr>\n",
       "    <tr>\n",
       "      <th>year_last_moved</th>\n",
       "      <td>0.028739</td>\n",
       "      <td>1.000000</td>\n",
       "      <td>0.014296</td>\n",
       "      <td>0.013535</td>\n",
       "      <td>0.004404</td>\n",
       "      <td>0.010689</td>\n",
       "      <td>0.015484</td>\n",
       "      <td>0.003031</td>\n",
       "      <td>0.019718</td>\n",
       "      <td>0.002569</td>\n",
       "      <td>0.013158</td>\n",
       "      <td>0.003282</td>\n",
       "      <td>-0.005826</td>\n",
       "      <td>-0.018655</td>\n",
       "      <td>0.016802</td>\n",
       "      <td>0.008586</td>\n",
       "      <td>0.015582</td>\n",
       "      <td>0.017298</td>\n",
       "    </tr>\n",
       "    <tr>\n",
       "      <th>Average Credit Card Transaction</th>\n",
       "      <td>-0.001217</td>\n",
       "      <td>0.014296</td>\n",
       "      <td>1.000000</td>\n",
       "      <td>0.123855</td>\n",
       "      <td>0.323462</td>\n",
       "      <td>0.145041</td>\n",
       "      <td>0.405090</td>\n",
       "      <td>0.172240</td>\n",
       "      <td>0.087289</td>\n",
       "      <td>0.150667</td>\n",
       "      <td>0.133126</td>\n",
       "      <td>0.087695</td>\n",
       "      <td>0.132518</td>\n",
       "      <td>-0.265197</td>\n",
       "      <td>0.497025</td>\n",
       "      <td>0.205289</td>\n",
       "      <td>0.228141</td>\n",
       "      <td>0.335674</td>\n",
       "    </tr>\n",
       "    <tr>\n",
       "      <th>Balance Transfer</th>\n",
       "      <td>-0.010711</td>\n",
       "      <td>0.013535</td>\n",
       "      <td>0.123855</td>\n",
       "      <td>1.000000</td>\n",
       "      <td>0.229457</td>\n",
       "      <td>0.564538</td>\n",
       "      <td>0.162085</td>\n",
       "      <td>0.358938</td>\n",
       "      <td>0.351499</td>\n",
       "      <td>0.454602</td>\n",
       "      <td>0.166496</td>\n",
       "      <td>0.153097</td>\n",
       "      <td>0.112012</td>\n",
       "      <td>-0.074756</td>\n",
       "      <td>0.739791</td>\n",
       "      <td>0.463556</td>\n",
       "      <td>0.581039</td>\n",
       "      <td>0.639400</td>\n",
       "    </tr>\n",
       "    <tr>\n",
       "      <th>Term Deposit</th>\n",
       "      <td>-0.002313</td>\n",
       "      <td>0.004404</td>\n",
       "      <td>0.323462</td>\n",
       "      <td>0.229457</td>\n",
       "      <td>1.000000</td>\n",
       "      <td>0.274691</td>\n",
       "      <td>0.506367</td>\n",
       "      <td>0.274027</td>\n",
       "      <td>0.146755</td>\n",
       "      <td>0.208948</td>\n",
       "      <td>0.176975</td>\n",
       "      <td>0.170584</td>\n",
       "      <td>0.099455</td>\n",
       "      <td>-0.011817</td>\n",
       "      <td>0.620256</td>\n",
       "      <td>0.266908</td>\n",
       "      <td>0.354304</td>\n",
       "      <td>0.454740</td>\n",
       "    </tr>\n",
       "    <tr>\n",
       "      <th>Life Insurance</th>\n",
       "      <td>0.008301</td>\n",
       "      <td>0.010689</td>\n",
       "      <td>0.145041</td>\n",
       "      <td>0.564538</td>\n",
       "      <td>0.274691</td>\n",
       "      <td>1.000000</td>\n",
       "      <td>0.238435</td>\n",
       "      <td>0.514339</td>\n",
       "      <td>0.380563</td>\n",
       "      <td>0.544439</td>\n",
       "      <td>0.263675</td>\n",
       "      <td>0.279959</td>\n",
       "      <td>0.128785</td>\n",
       "      <td>-0.216090</td>\n",
       "      <td>0.803326</td>\n",
       "      <td>0.564287</td>\n",
       "      <td>0.839266</td>\n",
       "      <td>0.787311</td>\n",
       "    </tr>\n",
       "    <tr>\n",
       "      <th>Medical Insurance</th>\n",
       "      <td>0.020776</td>\n",
       "      <td>0.015484</td>\n",
       "      <td>0.405090</td>\n",
       "      <td>0.162085</td>\n",
       "      <td>0.506367</td>\n",
       "      <td>0.238435</td>\n",
       "      <td>1.000000</td>\n",
       "      <td>0.264615</td>\n",
       "      <td>0.105134</td>\n",
       "      <td>0.209651</td>\n",
       "      <td>0.201057</td>\n",
       "      <td>0.136310</td>\n",
       "      <td>0.149651</td>\n",
       "      <td>-0.092966</td>\n",
       "      <td>0.548282</td>\n",
       "      <td>0.269922</td>\n",
       "      <td>0.392548</td>\n",
       "      <td>0.441631</td>\n",
       "    </tr>\n",
       "    <tr>\n",
       "      <th>Average A/C Balance</th>\n",
       "      <td>-0.005197</td>\n",
       "      <td>0.003031</td>\n",
       "      <td>0.172240</td>\n",
       "      <td>0.358938</td>\n",
       "      <td>0.274027</td>\n",
       "      <td>0.514339</td>\n",
       "      <td>0.264615</td>\n",
       "      <td>1.000000</td>\n",
       "      <td>0.219801</td>\n",
       "      <td>0.448270</td>\n",
       "      <td>0.307552</td>\n",
       "      <td>0.367590</td>\n",
       "      <td>0.162821</td>\n",
       "      <td>-0.112118</td>\n",
       "      <td>0.517832</td>\n",
       "      <td>0.600278</td>\n",
       "      <td>0.657742</td>\n",
       "      <td>0.616051</td>\n",
       "    </tr>\n",
       "    <tr>\n",
       "      <th>Personal Loan</th>\n",
       "      <td>-0.010802</td>\n",
       "      <td>0.019718</td>\n",
       "      <td>0.087289</td>\n",
       "      <td>0.351499</td>\n",
       "      <td>0.146755</td>\n",
       "      <td>0.380563</td>\n",
       "      <td>0.105134</td>\n",
       "      <td>0.219801</td>\n",
       "      <td>1.000000</td>\n",
       "      <td>0.379615</td>\n",
       "      <td>0.233020</td>\n",
       "      <td>0.128062</td>\n",
       "      <td>0.073292</td>\n",
       "      <td>0.028982</td>\n",
       "      <td>0.377170</td>\n",
       "      <td>0.676053</td>\n",
       "      <td>0.687417</td>\n",
       "      <td>0.598919</td>\n",
       "    </tr>\n",
       "    <tr>\n",
       "      <th>Investment in Mutual Fund</th>\n",
       "      <td>-0.006030</td>\n",
       "      <td>0.002569</td>\n",
       "      <td>0.150667</td>\n",
       "      <td>0.454602</td>\n",
       "      <td>0.208948</td>\n",
       "      <td>0.544439</td>\n",
       "      <td>0.209651</td>\n",
       "      <td>0.448270</td>\n",
       "      <td>0.379615</td>\n",
       "      <td>1.000000</td>\n",
       "      <td>0.271580</td>\n",
       "      <td>0.261562</td>\n",
       "      <td>0.115087</td>\n",
       "      <td>-0.114689</td>\n",
       "      <td>0.536715</td>\n",
       "      <td>0.693435</td>\n",
       "      <td>0.761125</td>\n",
       "      <td>0.695337</td>\n",
       "    </tr>\n",
       "    <tr>\n",
       "      <th>Investment Tax Saving Bond</th>\n",
       "      <td>0.000775</td>\n",
       "      <td>0.013158</td>\n",
       "      <td>0.133126</td>\n",
       "      <td>0.166496</td>\n",
       "      <td>0.176975</td>\n",
       "      <td>0.263675</td>\n",
       "      <td>0.201057</td>\n",
       "      <td>0.307552</td>\n",
       "      <td>0.233020</td>\n",
       "      <td>0.271580</td>\n",
       "      <td>1.000000</td>\n",
       "      <td>0.261626</td>\n",
       "      <td>0.211596</td>\n",
       "      <td>-0.288024</td>\n",
       "      <td>0.289110</td>\n",
       "      <td>0.446271</td>\n",
       "      <td>0.407148</td>\n",
       "      <td>0.395889</td>\n",
       "    </tr>\n",
       "    <tr>\n",
       "      <th>Home Loan</th>\n",
       "      <td>-0.014010</td>\n",
       "      <td>0.003282</td>\n",
       "      <td>0.087695</td>\n",
       "      <td>0.153097</td>\n",
       "      <td>0.170584</td>\n",
       "      <td>0.279959</td>\n",
       "      <td>0.136310</td>\n",
       "      <td>0.367590</td>\n",
       "      <td>0.128062</td>\n",
       "      <td>0.261562</td>\n",
       "      <td>0.261626</td>\n",
       "      <td>1.000000</td>\n",
       "      <td>0.101066</td>\n",
       "      <td>-0.028413</td>\n",
       "      <td>0.268989</td>\n",
       "      <td>0.348181</td>\n",
       "      <td>0.335651</td>\n",
       "      <td>0.326663</td>\n",
       "    </tr>\n",
       "    <tr>\n",
       "      <th>Online Purchase Amount</th>\n",
       "      <td>0.003267</td>\n",
       "      <td>-0.005826</td>\n",
       "      <td>0.132518</td>\n",
       "      <td>0.112012</td>\n",
       "      <td>0.099455</td>\n",
       "      <td>0.128785</td>\n",
       "      <td>0.149651</td>\n",
       "      <td>0.162821</td>\n",
       "      <td>0.073292</td>\n",
       "      <td>0.115087</td>\n",
       "      <td>0.211596</td>\n",
       "      <td>0.101066</td>\n",
       "      <td>1.000000</td>\n",
       "      <td>-0.384578</td>\n",
       "      <td>0.180074</td>\n",
       "      <td>0.597440</td>\n",
       "      <td>0.173943</td>\n",
       "      <td>0.309800</td>\n",
       "    </tr>\n",
       "    <tr>\n",
       "      <th>Revenue Grid</th>\n",
       "      <td>-0.010578</td>\n",
       "      <td>-0.018655</td>\n",
       "      <td>-0.265197</td>\n",
       "      <td>-0.074756</td>\n",
       "      <td>-0.011817</td>\n",
       "      <td>-0.216090</td>\n",
       "      <td>-0.092966</td>\n",
       "      <td>-0.112118</td>\n",
       "      <td>0.028982</td>\n",
       "      <td>-0.114689</td>\n",
       "      <td>-0.288024</td>\n",
       "      <td>-0.028413</td>\n",
       "      <td>-0.384578</td>\n",
       "      <td>1.000000</td>\n",
       "      <td>-0.206567</td>\n",
       "      <td>-0.253182</td>\n",
       "      <td>-0.159163</td>\n",
       "      <td>-0.215847</td>\n",
       "    </tr>\n",
       "    <tr>\n",
       "      <th>Investment in Commudity</th>\n",
       "      <td>0.002082</td>\n",
       "      <td>0.016802</td>\n",
       "      <td>0.497025</td>\n",
       "      <td>0.739791</td>\n",
       "      <td>0.620256</td>\n",
       "      <td>0.803326</td>\n",
       "      <td>0.548282</td>\n",
       "      <td>0.517832</td>\n",
       "      <td>0.377170</td>\n",
       "      <td>0.536715</td>\n",
       "      <td>0.289110</td>\n",
       "      <td>0.268989</td>\n",
       "      <td>0.180074</td>\n",
       "      <td>-0.206567</td>\n",
       "      <td>1.000000</td>\n",
       "      <td>0.586210</td>\n",
       "      <td>0.800779</td>\n",
       "      <td>0.858020</td>\n",
       "    </tr>\n",
       "    <tr>\n",
       "      <th>Investment in Equity</th>\n",
       "      <td>-0.007154</td>\n",
       "      <td>0.008586</td>\n",
       "      <td>0.205289</td>\n",
       "      <td>0.463556</td>\n",
       "      <td>0.266908</td>\n",
       "      <td>0.564287</td>\n",
       "      <td>0.269922</td>\n",
       "      <td>0.600278</td>\n",
       "      <td>0.676053</td>\n",
       "      <td>0.693435</td>\n",
       "      <td>0.446271</td>\n",
       "      <td>0.348181</td>\n",
       "      <td>0.597440</td>\n",
       "      <td>-0.253182</td>\n",
       "      <td>0.586210</td>\n",
       "      <td>1.000000</td>\n",
       "      <td>0.839552</td>\n",
       "      <td>0.831134</td>\n",
       "    </tr>\n",
       "    <tr>\n",
       "      <th>Investment in Derivative</th>\n",
       "      <td>-0.000234</td>\n",
       "      <td>0.015582</td>\n",
       "      <td>0.228141</td>\n",
       "      <td>0.581039</td>\n",
       "      <td>0.354304</td>\n",
       "      <td>0.839266</td>\n",
       "      <td>0.392548</td>\n",
       "      <td>0.657742</td>\n",
       "      <td>0.687417</td>\n",
       "      <td>0.761125</td>\n",
       "      <td>0.407148</td>\n",
       "      <td>0.335651</td>\n",
       "      <td>0.173943</td>\n",
       "      <td>-0.159163</td>\n",
       "      <td>0.800779</td>\n",
       "      <td>0.839552</td>\n",
       "      <td>1.000000</td>\n",
       "      <td>0.927232</td>\n",
       "    </tr>\n",
       "    <tr>\n",
       "      <th>Portfolio Balance</th>\n",
       "      <td>-0.000721</td>\n",
       "      <td>0.017298</td>\n",
       "      <td>0.335674</td>\n",
       "      <td>0.639400</td>\n",
       "      <td>0.454740</td>\n",
       "      <td>0.787311</td>\n",
       "      <td>0.441631</td>\n",
       "      <td>0.616051</td>\n",
       "      <td>0.598919</td>\n",
       "      <td>0.695337</td>\n",
       "      <td>0.395889</td>\n",
       "      <td>0.326663</td>\n",
       "      <td>0.309800</td>\n",
       "      <td>-0.215847</td>\n",
       "      <td>0.858020</td>\n",
       "      <td>0.831134</td>\n",
       "      <td>0.927232</td>\n",
       "      <td>1.000000</td>\n",
       "    </tr>\n",
       "  </tbody>\n",
       "</table>\n",
       "</div>"
      ],
      "text/plain": [
       "                                   REF_NO  year_last_moved  \\\n",
       "REF_NO                           1.000000         0.028739   \n",
       "year_last_moved                  0.028739         1.000000   \n",
       "Average Credit Card Transaction -0.001217         0.014296   \n",
       "Balance Transfer                -0.010711         0.013535   \n",
       "Term Deposit                    -0.002313         0.004404   \n",
       "Life Insurance                   0.008301         0.010689   \n",
       "Medical Insurance                0.020776         0.015484   \n",
       "Average A/C Balance             -0.005197         0.003031   \n",
       "Personal Loan                   -0.010802         0.019718   \n",
       "Investment in Mutual Fund       -0.006030         0.002569   \n",
       "Investment Tax Saving Bond       0.000775         0.013158   \n",
       "Home Loan                       -0.014010         0.003282   \n",
       "Online Purchase Amount           0.003267        -0.005826   \n",
       "Revenue Grid                    -0.010578        -0.018655   \n",
       "Investment in Commudity          0.002082         0.016802   \n",
       "Investment in Equity            -0.007154         0.008586   \n",
       "Investment in Derivative        -0.000234         0.015582   \n",
       "Portfolio Balance               -0.000721         0.017298   \n",
       "\n",
       "                                 Average Credit Card Transaction  \\\n",
       "REF_NO                                                 -0.001217   \n",
       "year_last_moved                                         0.014296   \n",
       "Average Credit Card Transaction                         1.000000   \n",
       "Balance Transfer                                        0.123855   \n",
       "Term Deposit                                            0.323462   \n",
       "Life Insurance                                          0.145041   \n",
       "Medical Insurance                                       0.405090   \n",
       "Average A/C Balance                                     0.172240   \n",
       "Personal Loan                                           0.087289   \n",
       "Investment in Mutual Fund                               0.150667   \n",
       "Investment Tax Saving Bond                              0.133126   \n",
       "Home Loan                                               0.087695   \n",
       "Online Purchase Amount                                  0.132518   \n",
       "Revenue Grid                                           -0.265197   \n",
       "Investment in Commudity                                 0.497025   \n",
       "Investment in Equity                                    0.205289   \n",
       "Investment in Derivative                                0.228141   \n",
       "Portfolio Balance                                       0.335674   \n",
       "\n",
       "                                 Balance Transfer  Term Deposit  \\\n",
       "REF_NO                                  -0.010711     -0.002313   \n",
       "year_last_moved                          0.013535      0.004404   \n",
       "Average Credit Card Transaction          0.123855      0.323462   \n",
       "Balance Transfer                         1.000000      0.229457   \n",
       "Term Deposit                             0.229457      1.000000   \n",
       "Life Insurance                           0.564538      0.274691   \n",
       "Medical Insurance                        0.162085      0.506367   \n",
       "Average A/C Balance                      0.358938      0.274027   \n",
       "Personal Loan                            0.351499      0.146755   \n",
       "Investment in Mutual Fund                0.454602      0.208948   \n",
       "Investment Tax Saving Bond               0.166496      0.176975   \n",
       "Home Loan                                0.153097      0.170584   \n",
       "Online Purchase Amount                   0.112012      0.099455   \n",
       "Revenue Grid                            -0.074756     -0.011817   \n",
       "Investment in Commudity                  0.739791      0.620256   \n",
       "Investment in Equity                     0.463556      0.266908   \n",
       "Investment in Derivative                 0.581039      0.354304   \n",
       "Portfolio Balance                        0.639400      0.454740   \n",
       "\n",
       "                                 Life Insurance  Medical Insurance  \\\n",
       "REF_NO                                 0.008301           0.020776   \n",
       "year_last_moved                        0.010689           0.015484   \n",
       "Average Credit Card Transaction        0.145041           0.405090   \n",
       "Balance Transfer                       0.564538           0.162085   \n",
       "Term Deposit                           0.274691           0.506367   \n",
       "Life Insurance                         1.000000           0.238435   \n",
       "Medical Insurance                      0.238435           1.000000   \n",
       "Average A/C Balance                    0.514339           0.264615   \n",
       "Personal Loan                          0.380563           0.105134   \n",
       "Investment in Mutual Fund              0.544439           0.209651   \n",
       "Investment Tax Saving Bond             0.263675           0.201057   \n",
       "Home Loan                              0.279959           0.136310   \n",
       "Online Purchase Amount                 0.128785           0.149651   \n",
       "Revenue Grid                          -0.216090          -0.092966   \n",
       "Investment in Commudity                0.803326           0.548282   \n",
       "Investment in Equity                   0.564287           0.269922   \n",
       "Investment in Derivative               0.839266           0.392548   \n",
       "Portfolio Balance                      0.787311           0.441631   \n",
       "\n",
       "                                 Average A/C Balance  Personal Loan  \\\n",
       "REF_NO                                     -0.005197      -0.010802   \n",
       "year_last_moved                             0.003031       0.019718   \n",
       "Average Credit Card Transaction             0.172240       0.087289   \n",
       "Balance Transfer                            0.358938       0.351499   \n",
       "Term Deposit                                0.274027       0.146755   \n",
       "Life Insurance                              0.514339       0.380563   \n",
       "Medical Insurance                           0.264615       0.105134   \n",
       "Average A/C Balance                         1.000000       0.219801   \n",
       "Personal Loan                               0.219801       1.000000   \n",
       "Investment in Mutual Fund                   0.448270       0.379615   \n",
       "Investment Tax Saving Bond                  0.307552       0.233020   \n",
       "Home Loan                                   0.367590       0.128062   \n",
       "Online Purchase Amount                      0.162821       0.073292   \n",
       "Revenue Grid                               -0.112118       0.028982   \n",
       "Investment in Commudity                     0.517832       0.377170   \n",
       "Investment in Equity                        0.600278       0.676053   \n",
       "Investment in Derivative                    0.657742       0.687417   \n",
       "Portfolio Balance                           0.616051       0.598919   \n",
       "\n",
       "                                 Investment in Mutual Fund  \\\n",
       "REF_NO                                           -0.006030   \n",
       "year_last_moved                                   0.002569   \n",
       "Average Credit Card Transaction                   0.150667   \n",
       "Balance Transfer                                  0.454602   \n",
       "Term Deposit                                      0.208948   \n",
       "Life Insurance                                    0.544439   \n",
       "Medical Insurance                                 0.209651   \n",
       "Average A/C Balance                               0.448270   \n",
       "Personal Loan                                     0.379615   \n",
       "Investment in Mutual Fund                         1.000000   \n",
       "Investment Tax Saving Bond                        0.271580   \n",
       "Home Loan                                         0.261562   \n",
       "Online Purchase Amount                            0.115087   \n",
       "Revenue Grid                                     -0.114689   \n",
       "Investment in Commudity                           0.536715   \n",
       "Investment in Equity                              0.693435   \n",
       "Investment in Derivative                          0.761125   \n",
       "Portfolio Balance                                 0.695337   \n",
       "\n",
       "                                 Investment Tax Saving Bond  Home Loan  \\\n",
       "REF_NO                                             0.000775  -0.014010   \n",
       "year_last_moved                                    0.013158   0.003282   \n",
       "Average Credit Card Transaction                    0.133126   0.087695   \n",
       "Balance Transfer                                   0.166496   0.153097   \n",
       "Term Deposit                                       0.176975   0.170584   \n",
       "Life Insurance                                     0.263675   0.279959   \n",
       "Medical Insurance                                  0.201057   0.136310   \n",
       "Average A/C Balance                                0.307552   0.367590   \n",
       "Personal Loan                                      0.233020   0.128062   \n",
       "Investment in Mutual Fund                          0.271580   0.261562   \n",
       "Investment Tax Saving Bond                         1.000000   0.261626   \n",
       "Home Loan                                          0.261626   1.000000   \n",
       "Online Purchase Amount                             0.211596   0.101066   \n",
       "Revenue Grid                                      -0.288024  -0.028413   \n",
       "Investment in Commudity                            0.289110   0.268989   \n",
       "Investment in Equity                               0.446271   0.348181   \n",
       "Investment in Derivative                           0.407148   0.335651   \n",
       "Portfolio Balance                                  0.395889   0.326663   \n",
       "\n",
       "                                 Online Purchase Amount  Revenue Grid  \\\n",
       "REF_NO                                         0.003267     -0.010578   \n",
       "year_last_moved                               -0.005826     -0.018655   \n",
       "Average Credit Card Transaction                0.132518     -0.265197   \n",
       "Balance Transfer                               0.112012     -0.074756   \n",
       "Term Deposit                                   0.099455     -0.011817   \n",
       "Life Insurance                                 0.128785     -0.216090   \n",
       "Medical Insurance                              0.149651     -0.092966   \n",
       "Average A/C Balance                            0.162821     -0.112118   \n",
       "Personal Loan                                  0.073292      0.028982   \n",
       "Investment in Mutual Fund                      0.115087     -0.114689   \n",
       "Investment Tax Saving Bond                     0.211596     -0.288024   \n",
       "Home Loan                                      0.101066     -0.028413   \n",
       "Online Purchase Amount                         1.000000     -0.384578   \n",
       "Revenue Grid                                  -0.384578      1.000000   \n",
       "Investment in Commudity                        0.180074     -0.206567   \n",
       "Investment in Equity                           0.597440     -0.253182   \n",
       "Investment in Derivative                       0.173943     -0.159163   \n",
       "Portfolio Balance                              0.309800     -0.215847   \n",
       "\n",
       "                                 Investment in Commudity  \\\n",
       "REF_NO                                          0.002082   \n",
       "year_last_moved                                 0.016802   \n",
       "Average Credit Card Transaction                 0.497025   \n",
       "Balance Transfer                                0.739791   \n",
       "Term Deposit                                    0.620256   \n",
       "Life Insurance                                  0.803326   \n",
       "Medical Insurance                               0.548282   \n",
       "Average A/C Balance                             0.517832   \n",
       "Personal Loan                                   0.377170   \n",
       "Investment in Mutual Fund                       0.536715   \n",
       "Investment Tax Saving Bond                      0.289110   \n",
       "Home Loan                                       0.268989   \n",
       "Online Purchase Amount                          0.180074   \n",
       "Revenue Grid                                   -0.206567   \n",
       "Investment in Commudity                         1.000000   \n",
       "Investment in Equity                            0.586210   \n",
       "Investment in Derivative                        0.800779   \n",
       "Portfolio Balance                               0.858020   \n",
       "\n",
       "                                 Investment in Equity  \\\n",
       "REF_NO                                      -0.007154   \n",
       "year_last_moved                              0.008586   \n",
       "Average Credit Card Transaction              0.205289   \n",
       "Balance Transfer                             0.463556   \n",
       "Term Deposit                                 0.266908   \n",
       "Life Insurance                               0.564287   \n",
       "Medical Insurance                            0.269922   \n",
       "Average A/C Balance                          0.600278   \n",
       "Personal Loan                                0.676053   \n",
       "Investment in Mutual Fund                    0.693435   \n",
       "Investment Tax Saving Bond                   0.446271   \n",
       "Home Loan                                    0.348181   \n",
       "Online Purchase Amount                       0.597440   \n",
       "Revenue Grid                                -0.253182   \n",
       "Investment in Commudity                      0.586210   \n",
       "Investment in Equity                         1.000000   \n",
       "Investment in Derivative                     0.839552   \n",
       "Portfolio Balance                            0.831134   \n",
       "\n",
       "                                 Investment in Derivative  Portfolio Balance  \n",
       "REF_NO                                          -0.000234          -0.000721  \n",
       "year_last_moved                                  0.015582           0.017298  \n",
       "Average Credit Card Transaction                  0.228141           0.335674  \n",
       "Balance Transfer                                 0.581039           0.639400  \n",
       "Term Deposit                                     0.354304           0.454740  \n",
       "Life Insurance                                   0.839266           0.787311  \n",
       "Medical Insurance                                0.392548           0.441631  \n",
       "Average A/C Balance                              0.657742           0.616051  \n",
       "Personal Loan                                    0.687417           0.598919  \n",
       "Investment in Mutual Fund                        0.761125           0.695337  \n",
       "Investment Tax Saving Bond                       0.407148           0.395889  \n",
       "Home Loan                                        0.335651           0.326663  \n",
       "Online Purchase Amount                           0.173943           0.309800  \n",
       "Revenue Grid                                    -0.159163          -0.215847  \n",
       "Investment in Commudity                          0.800779           0.858020  \n",
       "Investment in Equity                             0.839552           0.831134  \n",
       "Investment in Derivative                         1.000000           0.927232  \n",
       "Portfolio Balance                                0.927232           1.000000  "
      ]
     },
     "execution_count": 18,
     "metadata": {},
     "output_type": "execute_result"
    }
   ],
   "source": [
    "##### Correlation betwwen feature and the target columns\n",
    "\n",
    "data[column_names].corr()"
   ]
  },
  {
   "cell_type": "code",
   "execution_count": 19,
   "metadata": {
    "colab": {
     "base_uri": "https://localhost:8080/"
    },
    "id": "O6sXz7syuTGU",
    "outputId": "2c2d2ef3-62ef-4fd0-8d7e-d022ccfd785f"
   },
   "outputs": [
    {
     "name": "stdout",
     "output_type": "stream",
     "text": [
      "<class 'pandas.core.frame.DataFrame'>\n",
      "RangeIndex: 10155 entries, 0 to 10154\n",
      "Data columns (total 32 columns):\n",
      " #   Column                           Non-Null Count  Dtype  \n",
      "---  ------                           --------------  -----  \n",
      " 0   REF_NO                           10155 non-null  int64  \n",
      " 1   children                         10155 non-null  object \n",
      " 2   age_band                         10155 non-null  object \n",
      " 3   status                           10155 non-null  object \n",
      " 4   occupation                       10155 non-null  object \n",
      " 5   occupation_partner               10155 non-null  object \n",
      " 6   home_status                      10155 non-null  object \n",
      " 7   family_income                    10155 non-null  object \n",
      " 8   self_employed                    10155 non-null  object \n",
      " 9   self_employed_partner            10155 non-null  object \n",
      " 10  year_last_moved                  10155 non-null  int64  \n",
      " 11  TVarea                           10155 non-null  object \n",
      " 12  post_code                        10155 non-null  object \n",
      " 13  post_area                        10155 non-null  object \n",
      " 14  Average Credit Card Transaction  10155 non-null  float64\n",
      " 15  Balance Transfer                 10155 non-null  float64\n",
      " 16  Term Deposit                     10155 non-null  float64\n",
      " 17  Life Insurance                   10155 non-null  float64\n",
      " 18  Medical Insurance                10155 non-null  float64\n",
      " 19  Average A/C Balance              10155 non-null  float64\n",
      " 20  Personal Loan                    10155 non-null  float64\n",
      " 21  Investment in Mutual Fund        10155 non-null  float64\n",
      " 22  Investment Tax Saving Bond       10155 non-null  float64\n",
      " 23  Home Loan                        10155 non-null  float64\n",
      " 24  Online Purchase Amount           10155 non-null  float64\n",
      " 25  Revenue Grid                     10155 non-null  int64  \n",
      " 26  gender                           10155 non-null  object \n",
      " 27  region                           10155 non-null  object \n",
      " 28  Investment in Commudity          10155 non-null  float64\n",
      " 29  Investment in Equity             10155 non-null  float64\n",
      " 30  Investment in Derivative         10155 non-null  float64\n",
      " 31  Portfolio Balance                10155 non-null  float64\n",
      "dtypes: float64(15), int64(3), object(14)\n",
      "memory usage: 2.5+ MB\n"
     ]
    }
   ],
   "source": [
    "data.info()"
   ]
  },
  {
   "cell_type": "code",
   "execution_count": 20,
   "metadata": {
    "colab": {
     "base_uri": "https://localhost:8080/"
    },
    "id": "UTM2k7HRtfLg",
    "outputId": "fbe88d1b-6b08-4eca-fe4c-b151a8816920"
   },
   "outputs": [
    {
     "name": "stdout",
     "output_type": "stream",
     "text": [
      "Column  children\n",
      "Number of unique elements  5\n",
      "***************\n",
      "\n",
      "Column  age_band\n",
      "Number of unique elements  13\n",
      "***************\n",
      "\n",
      "Column  status\n",
      "Number of unique elements  5\n",
      "***************\n",
      "\n",
      "Column  occupation\n",
      "Number of unique elements  9\n",
      "***************\n",
      "\n",
      "Column  occupation_partner\n",
      "Number of unique elements  9\n",
      "***************\n",
      "\n",
      "Column  home_status\n",
      "Number of unique elements  5\n",
      "***************\n",
      "\n",
      "Column  family_income\n",
      "Number of unique elements  13\n",
      "***************\n",
      "\n",
      "Column  self_employed\n",
      "Number of unique elements  2\n",
      "***************\n",
      "\n",
      "Column  self_employed_partner\n",
      "Number of unique elements  2\n",
      "***************\n",
      "\n",
      "Column  TVarea\n",
      "Number of unique elements  14\n",
      "***************\n",
      "\n",
      "Column  post_code\n",
      "Number of unique elements  10040\n",
      "***************\n",
      "\n",
      "Column  post_area\n",
      "Number of unique elements  2039\n",
      "***************\n",
      "\n",
      "Column  gender\n",
      "Number of unique elements  3\n",
      "***************\n",
      "\n",
      "Column  region\n",
      "Number of unique elements  13\n",
      "***************\n",
      "\n"
     ]
    },
    {
     "name": "stderr",
     "output_type": "stream",
     "text": [
      "C:\\Users\\user\\AppData\\Local\\Temp/ipykernel_8660/3344279863.py:3: DeprecationWarning: `np.object` is a deprecated alias for the builtin `object`. To silence this warning, use `object` by itself. Doing this will not modify any behavior and is safe. \n",
      "Deprecated in NumPy 1.20; for more details and guidance: https://numpy.org/devdocs/release/1.20.0-notes.html#deprecations\n",
      "  cat_data = data.select_dtypes(include = np.object) ##subsets the object columns\n"
     ]
    }
   ],
   "source": [
    "##### Describing categorical columns #####\n",
    "\n",
    "cat_data = data.select_dtypes(include = np.object) ##subsets the object columns\n",
    "\n",
    "column_names = list(cat_data.columns) ### column names of the object columns\n",
    "\n",
    "for column in column_names:\n",
    "    print('Column ', column)\n",
    "    print('Number of unique elements ', cat_data[column].nunique())\n",
    "    print('***************\\n')\n",
    "    \n",
    "##### Insights ######\n",
    "\n",
    "## post_code and post area has too many unique values and doesn't seems like good feature variable. Just removing it or now."
   ]
  },
  {
   "cell_type": "markdown",
   "metadata": {
    "id": "z91eY564tfLg"
   },
   "source": [
    "# Data Preprocessing"
   ]
  },
  {
   "cell_type": "code",
   "execution_count": 21,
   "metadata": {
    "colab": {
     "base_uri": "https://localhost:8080/"
    },
    "id": "MIOq2PW5tfLg",
    "outputId": "d1df59bc-7ff0-4f0c-d9d0-0da6ff1d7afc"
   },
   "outputs": [
    {
     "name": "stdout",
     "output_type": "stream",
     "text": [
      "The shape of the data before preprocessing  (10155, 32)\n"
     ]
    }
   ],
   "source": [
    "print('The shape of the data before preprocessing ', data.shape)"
   ]
  },
  {
   "cell_type": "code",
   "execution_count": 22,
   "metadata": {
    "id": "JgZI3FKdWuoX"
   },
   "outputs": [],
   "source": [
    "data = data.loc[data['Life Insurance']<2500,:] ### Dropping the customer with unusually high feature values"
   ]
  },
  {
   "cell_type": "code",
   "execution_count": 23,
   "metadata": {
    "id": "0IGP0zehMOt6"
   },
   "outputs": [],
   "source": [
    "remove_cols = []"
   ]
  },
  {
   "cell_type": "code",
   "execution_count": 24,
   "metadata": {
    "id": "9qyrblPdtfLh"
   },
   "outputs": [],
   "source": [
    "#### Preprocess -Removing the Ref_no AND YEAR_LAST_Moved column\n",
    "data.drop(['REF_NO'],axis=1,inplace=True)\n",
    "data.drop(['year_last_moved'],axis=1,inplace=True)\n",
    "remove_cols.append('REF_NO')\n",
    "remove_cols.append('year_last_moved')"
   ]
  },
  {
   "cell_type": "code",
   "execution_count": 25,
   "metadata": {
    "colab": {
     "base_uri": "https://localhost:8080/"
    },
    "id": "pTAXtSSh4qW0",
    "outputId": "db80f708-b494-422c-bc69-e780a0787a59"
   },
   "outputs": [
    {
     "data": {
      "text/plain": [
       "(10154, 30)"
      ]
     },
     "execution_count": 25,
     "metadata": {},
     "output_type": "execute_result"
    }
   ],
   "source": [
    "data.shape"
   ]
  },
  {
   "cell_type": "code",
   "execution_count": 26,
   "metadata": {
    "id": "k9nLWk8kA93r"
   },
   "outputs": [],
   "source": [
    "### Removing the post_code AND post_area column\n",
    "data.drop(['post_code','post_area'],axis=1,inplace=True)\n",
    "\n",
    "remove_cols.extend(['post_code','post_area'])"
   ]
  },
  {
   "cell_type": "code",
   "execution_count": 27,
   "metadata": {
    "colab": {
     "base_uri": "https://localhost:8080/"
    },
    "id": "y9hIsseFtfLh",
    "outputId": "e77ad980-d859-4c6a-fe9e-5f534dd93fbe"
   },
   "outputs": [
    {
     "name": "stdout",
     "output_type": "stream",
     "text": [
      "The shape of the data after first preprocessing block  (10154, 28)\n"
     ]
    }
   ],
   "source": [
    "print('The shape of the data after first preprocessing block ', data.shape)\n",
    "\n",
    "data.reset_index(drop=True,inplace=True) ### resetting index"
   ]
  },
  {
   "cell_type": "code",
   "execution_count": 28,
   "metadata": {
    "colab": {
     "base_uri": "https://localhost:8080/"
    },
    "id": "q8dq02nrtfLi",
    "outputId": "65dfa99d-4582-4d85-ce21-d7304b0774f4"
   },
   "outputs": [
    {
     "name": "stdout",
     "output_type": "stream",
     "text": [
      "Average Credit Card Transaction 477.0595900000078\n",
      "Balance Transfer 601.467500000004\n",
      "Term Deposit 531.109205000007\n",
      "Life Insurance 794.1689650000167\n",
      "Medical Insurance 264.1921900000169\n",
      "Average A/C Balance 396.7357850000136\n",
      "Personal Loan 1023.025560000106\n",
      "Investment in Mutual Fund 575.7975700000084\n",
      "Investment Tax Saving Bond 119.57088500000307\n",
      "Home Loan 104.29842500000278\n",
      "Online Purchase Amount 1505.0639500000832\n",
      "Investment in Commudity 348.4696900000052\n",
      "Investment in Equity 366.65306000001567\n",
      "Investment in Derivative 329.4782800000082\n",
      "Portfolio Balance 860.9368800000143\n"
     ]
    }
   ],
   "source": [
    "###### Capping the numeric columns to 99.95th percentile #####\n",
    "\n",
    "numeric_cols = data.select_dtypes(include = np.number) ### Data frame with only numeric columns\n",
    "column_names = list(numeric_cols.columns) ### contains the numeric column names\n",
    "column_names.remove('Revenue Grid')  ### removing revenue grid\n",
    "\n",
    "for column in column_names:  ### iterating over all numeric columns\n",
    "    percentile_9995_val = np.quantile(data[column],0.9995)  ### finding the 99.95th percentile value\n",
    "    print (column, percentile_9995_val)\n",
    "    data.loc[data[column]>percentile_9995_val,column] = percentile_9995_val  ## replace all the values greater than 95th percentile with the 95th percentile value\n",
    "\n"
   ]
  },
  {
   "cell_type": "code",
   "execution_count": 29,
   "metadata": {
    "colab": {
     "base_uri": "https://localhost:8080/"
    },
    "id": "eQ4s1FkAD2WA",
    "outputId": "359fcaa1-053d-4f18-f084-a3f961ac26e7"
   },
   "outputs": [
    {
     "data": {
      "text/plain": [
       "['Average Credit Card Transaction',\n",
       " 'Balance Transfer',\n",
       " 'Term Deposit',\n",
       " 'Life Insurance',\n",
       " 'Medical Insurance',\n",
       " 'Average A/C Balance',\n",
       " 'Personal Loan',\n",
       " 'Investment in Mutual Fund',\n",
       " 'Investment Tax Saving Bond',\n",
       " 'Home Loan',\n",
       " 'Online Purchase Amount',\n",
       " 'Investment in Commudity',\n",
       " 'Investment in Equity',\n",
       " 'Investment in Derivative',\n",
       " 'Portfolio Balance']"
      ]
     },
     "execution_count": 29,
     "metadata": {},
     "output_type": "execute_result"
    }
   ],
   "source": [
    "column_names"
   ]
  },
  {
   "cell_type": "code",
   "execution_count": 30,
   "metadata": {
    "colab": {
     "base_uri": "https://localhost:8080/",
     "height": 399
    },
    "id": "NtEcMZeZ39NT",
    "outputId": "1d139762-52e2-4d7e-9264-756094a6372c"
   },
   "outputs": [
    {
     "data": {
      "text/html": [
       "<div>\n",
       "<style scoped>\n",
       "    .dataframe tbody tr th:only-of-type {\n",
       "        vertical-align: middle;\n",
       "    }\n",
       "\n",
       "    .dataframe tbody tr th {\n",
       "        vertical-align: top;\n",
       "    }\n",
       "\n",
       "    .dataframe thead th {\n",
       "        text-align: right;\n",
       "    }\n",
       "</style>\n",
       "<table border=\"1\" class=\"dataframe\">\n",
       "  <thead>\n",
       "    <tr style=\"text-align: right;\">\n",
       "      <th></th>\n",
       "      <th>Average Credit Card Transaction</th>\n",
       "      <th>Balance Transfer</th>\n",
       "      <th>Term Deposit</th>\n",
       "      <th>Life Insurance</th>\n",
       "      <th>Medical Insurance</th>\n",
       "      <th>Average A/C Balance</th>\n",
       "      <th>Personal Loan</th>\n",
       "      <th>Investment in Mutual Fund</th>\n",
       "      <th>Investment Tax Saving Bond</th>\n",
       "      <th>Home Loan</th>\n",
       "      <th>Online Purchase Amount</th>\n",
       "      <th>Investment in Commudity</th>\n",
       "      <th>Investment in Equity</th>\n",
       "      <th>Investment in Derivative</th>\n",
       "      <th>Portfolio Balance</th>\n",
       "    </tr>\n",
       "  </thead>\n",
       "  <tbody>\n",
       "    <tr>\n",
       "      <th>count</th>\n",
       "      <td>10154.000000</td>\n",
       "      <td>10154.000000</td>\n",
       "      <td>10154.000000</td>\n",
       "      <td>10154.000000</td>\n",
       "      <td>10154.000000</td>\n",
       "      <td>10154.000000</td>\n",
       "      <td>10154.000000</td>\n",
       "      <td>10154.000000</td>\n",
       "      <td>10154.000000</td>\n",
       "      <td>10154.000000</td>\n",
       "      <td>10154.000000</td>\n",
       "      <td>10154.000000</td>\n",
       "      <td>10154.000000</td>\n",
       "      <td>10154.000000</td>\n",
       "      <td>10154.000000</td>\n",
       "    </tr>\n",
       "    <tr>\n",
       "      <th>mean</th>\n",
       "      <td>23.395952</td>\n",
       "      <td>46.056182</td>\n",
       "      <td>27.486741</td>\n",
       "      <td>65.932152</td>\n",
       "      <td>19.090556</td>\n",
       "      <td>32.020525</td>\n",
       "      <td>25.367067</td>\n",
       "      <td>42.051908</td>\n",
       "      <td>6.105100</td>\n",
       "      <td>4.471583</td>\n",
       "      <td>18.630199</td>\n",
       "      <td>36.429104</td>\n",
       "      <td>21.505433</td>\n",
       "      <td>31.761640</td>\n",
       "      <td>89.955236</td>\n",
       "    </tr>\n",
       "    <tr>\n",
       "      <th>std</th>\n",
       "      <td>50.380326</td>\n",
       "      <td>72.306635</td>\n",
       "      <td>53.105956</td>\n",
       "      <td>90.975454</td>\n",
       "      <td>31.882423</td>\n",
       "      <td>44.960507</td>\n",
       "      <td>66.171623</td>\n",
       "      <td>58.405355</td>\n",
       "      <td>12.768501</td>\n",
       "      <td>9.853086</td>\n",
       "      <td>73.769768</td>\n",
       "      <td>40.426748</td>\n",
       "      <td>28.232455</td>\n",
       "      <td>34.507729</td>\n",
       "      <td>98.053353</td>\n",
       "    </tr>\n",
       "    <tr>\n",
       "      <th>min</th>\n",
       "      <td>0.000000</td>\n",
       "      <td>0.000000</td>\n",
       "      <td>0.000000</td>\n",
       "      <td>0.000000</td>\n",
       "      <td>0.000000</td>\n",
       "      <td>0.000000</td>\n",
       "      <td>0.000000</td>\n",
       "      <td>0.000000</td>\n",
       "      <td>0.000000</td>\n",
       "      <td>0.000000</td>\n",
       "      <td>0.000000</td>\n",
       "      <td>0.000000</td>\n",
       "      <td>0.000000</td>\n",
       "      <td>0.000000</td>\n",
       "      <td>-78.430000</td>\n",
       "    </tr>\n",
       "    <tr>\n",
       "      <th>25%</th>\n",
       "      <td>0.000000</td>\n",
       "      <td>0.000000</td>\n",
       "      <td>0.000000</td>\n",
       "      <td>0.000000</td>\n",
       "      <td>0.000000</td>\n",
       "      <td>0.000000</td>\n",
       "      <td>0.000000</td>\n",
       "      <td>0.000000</td>\n",
       "      <td>0.000000</td>\n",
       "      <td>0.000000</td>\n",
       "      <td>0.000000</td>\n",
       "      <td>8.215000</td>\n",
       "      <td>4.670000</td>\n",
       "      <td>8.740000</td>\n",
       "      <td>26.602500</td>\n",
       "    </tr>\n",
       "    <tr>\n",
       "      <th>50%</th>\n",
       "      <td>0.000000</td>\n",
       "      <td>17.960000</td>\n",
       "      <td>0.000000</td>\n",
       "      <td>31.980000</td>\n",
       "      <td>0.510000</td>\n",
       "      <td>14.990000</td>\n",
       "      <td>0.000000</td>\n",
       "      <td>23.480000</td>\n",
       "      <td>0.000000</td>\n",
       "      <td>0.000000</td>\n",
       "      <td>0.000000</td>\n",
       "      <td>23.940000</td>\n",
       "      <td>12.980000</td>\n",
       "      <td>21.335000</td>\n",
       "      <td>66.175000</td>\n",
       "    </tr>\n",
       "    <tr>\n",
       "      <th>75%</th>\n",
       "      <td>23.980000</td>\n",
       "      <td>65.240000</td>\n",
       "      <td>34.987500</td>\n",
       "      <td>94.380000</td>\n",
       "      <td>27.470000</td>\n",
       "      <td>46.477500</td>\n",
       "      <td>21.480000</td>\n",
       "      <td>59.480000</td>\n",
       "      <td>5.970000</td>\n",
       "      <td>4.490000</td>\n",
       "      <td>7.980000</td>\n",
       "      <td>50.787500</td>\n",
       "      <td>28.300000</td>\n",
       "      <td>42.980000</td>\n",
       "      <td>125.917500</td>\n",
       "    </tr>\n",
       "    <tr>\n",
       "      <th>max</th>\n",
       "      <td>477.059590</td>\n",
       "      <td>601.467500</td>\n",
       "      <td>531.109205</td>\n",
       "      <td>794.168965</td>\n",
       "      <td>264.192190</td>\n",
       "      <td>396.735785</td>\n",
       "      <td>1023.025560</td>\n",
       "      <td>575.797570</td>\n",
       "      <td>119.570885</td>\n",
       "      <td>104.298425</td>\n",
       "      <td>1505.063950</td>\n",
       "      <td>348.469690</td>\n",
       "      <td>366.653060</td>\n",
       "      <td>329.478280</td>\n",
       "      <td>860.936880</td>\n",
       "    </tr>\n",
       "  </tbody>\n",
       "</table>\n",
       "</div>"
      ],
      "text/plain": [
       "       Average Credit Card Transaction  Balance Transfer  Term Deposit  \\\n",
       "count                     10154.000000      10154.000000  10154.000000   \n",
       "mean                         23.395952         46.056182     27.486741   \n",
       "std                          50.380326         72.306635     53.105956   \n",
       "min                           0.000000          0.000000      0.000000   \n",
       "25%                           0.000000          0.000000      0.000000   \n",
       "50%                           0.000000         17.960000      0.000000   \n",
       "75%                          23.980000         65.240000     34.987500   \n",
       "max                         477.059590        601.467500    531.109205   \n",
       "\n",
       "       Life Insurance  Medical Insurance  Average A/C Balance  Personal Loan  \\\n",
       "count    10154.000000       10154.000000         10154.000000   10154.000000   \n",
       "mean        65.932152          19.090556            32.020525      25.367067   \n",
       "std         90.975454          31.882423            44.960507      66.171623   \n",
       "min          0.000000           0.000000             0.000000       0.000000   \n",
       "25%          0.000000           0.000000             0.000000       0.000000   \n",
       "50%         31.980000           0.510000            14.990000       0.000000   \n",
       "75%         94.380000          27.470000            46.477500      21.480000   \n",
       "max        794.168965         264.192190           396.735785    1023.025560   \n",
       "\n",
       "       Investment in Mutual Fund  Investment Tax Saving Bond     Home Loan  \\\n",
       "count               10154.000000                10154.000000  10154.000000   \n",
       "mean                   42.051908                    6.105100      4.471583   \n",
       "std                    58.405355                   12.768501      9.853086   \n",
       "min                     0.000000                    0.000000      0.000000   \n",
       "25%                     0.000000                    0.000000      0.000000   \n",
       "50%                    23.480000                    0.000000      0.000000   \n",
       "75%                    59.480000                    5.970000      4.490000   \n",
       "max                   575.797570                  119.570885    104.298425   \n",
       "\n",
       "       Online Purchase Amount  Investment in Commudity  Investment in Equity  \\\n",
       "count            10154.000000             10154.000000          10154.000000   \n",
       "mean                18.630199                36.429104             21.505433   \n",
       "std                 73.769768                40.426748             28.232455   \n",
       "min                  0.000000                 0.000000              0.000000   \n",
       "25%                  0.000000                 8.215000              4.670000   \n",
       "50%                  0.000000                23.940000             12.980000   \n",
       "75%                  7.980000                50.787500             28.300000   \n",
       "max               1505.063950               348.469690            366.653060   \n",
       "\n",
       "       Investment in Derivative  Portfolio Balance  \n",
       "count              10154.000000       10154.000000  \n",
       "mean                  31.761640          89.955236  \n",
       "std                   34.507729          98.053353  \n",
       "min                    0.000000         -78.430000  \n",
       "25%                    8.740000          26.602500  \n",
       "50%                   21.335000          66.175000  \n",
       "75%                   42.980000         125.917500  \n",
       "max                  329.478280         860.936880  "
      ]
     },
     "execution_count": 30,
     "metadata": {},
     "output_type": "execute_result"
    }
   ],
   "source": [
    "data[column_names].describe()"
   ]
  },
  {
   "cell_type": "code",
   "execution_count": 31,
   "metadata": {
    "id": "GKZCE3uruMBN"
   },
   "outputs": [],
   "source": [
    "####### Scaling the columns ######\n",
    "\n",
    "scaler = StandardScaler()  ### instance of this object\n",
    "\n",
    "scaler.fit(data[column_names]) ### it will compute mean and standard deviation of every column\n",
    "\n",
    "data[column_names] = scaler.transform(data[column_names]) #### apply the formula (x-mean)/s.d\n",
    "\n",
    "with open('scaler.pickle','wb') as f:\n",
    "  pickle.dump(scaler,f)"
   ]
  },
  {
   "cell_type": "code",
   "execution_count": 32,
   "metadata": {
    "colab": {
     "base_uri": "https://localhost:8080/",
     "height": 486
    },
    "id": "fSnMITtrTebG",
    "outputId": "e5b892a6-d416-43a7-9bad-73b386c07799"
   },
   "outputs": [
    {
     "data": {
      "text/html": [
       "<div>\n",
       "<style scoped>\n",
       "    .dataframe tbody tr th:only-of-type {\n",
       "        vertical-align: middle;\n",
       "    }\n",
       "\n",
       "    .dataframe tbody tr th {\n",
       "        vertical-align: top;\n",
       "    }\n",
       "\n",
       "    .dataframe thead th {\n",
       "        text-align: right;\n",
       "    }\n",
       "</style>\n",
       "<table border=\"1\" class=\"dataframe\">\n",
       "  <thead>\n",
       "    <tr style=\"text-align: right;\">\n",
       "      <th></th>\n",
       "      <th>Average Credit Card Transaction</th>\n",
       "      <th>Balance Transfer</th>\n",
       "      <th>Term Deposit</th>\n",
       "      <th>Life Insurance</th>\n",
       "      <th>Medical Insurance</th>\n",
       "      <th>Average A/C Balance</th>\n",
       "      <th>Personal Loan</th>\n",
       "      <th>Investment in Mutual Fund</th>\n",
       "      <th>Investment Tax Saving Bond</th>\n",
       "      <th>Home Loan</th>\n",
       "      <th>Online Purchase Amount</th>\n",
       "      <th>Investment in Commudity</th>\n",
       "      <th>Investment in Equity</th>\n",
       "      <th>Investment in Derivative</th>\n",
       "      <th>Portfolio Balance</th>\n",
       "    </tr>\n",
       "  </thead>\n",
       "  <tbody>\n",
       "    <tr>\n",
       "      <th>count</th>\n",
       "      <td>1.015400e+04</td>\n",
       "      <td>1.015400e+04</td>\n",
       "      <td>1.015400e+04</td>\n",
       "      <td>1.015400e+04</td>\n",
       "      <td>1.015400e+04</td>\n",
       "      <td>1.015400e+04</td>\n",
       "      <td>1.015400e+04</td>\n",
       "      <td>1.015400e+04</td>\n",
       "      <td>1.015400e+04</td>\n",
       "      <td>1.015400e+04</td>\n",
       "      <td>1.015400e+04</td>\n",
       "      <td>1.015400e+04</td>\n",
       "      <td>1.015400e+04</td>\n",
       "      <td>1.015400e+04</td>\n",
       "      <td>1.015400e+04</td>\n",
       "    </tr>\n",
       "    <tr>\n",
       "      <th>mean</th>\n",
       "      <td>-1.910909e-16</td>\n",
       "      <td>-3.021815e-16</td>\n",
       "      <td>-4.083574e-16</td>\n",
       "      <td>3.844341e-16</td>\n",
       "      <td>-7.893146e-17</td>\n",
       "      <td>-4.284757e-16</td>\n",
       "      <td>-4.832761e-17</td>\n",
       "      <td>2.331435e-16</td>\n",
       "      <td>-1.734764e-16</td>\n",
       "      <td>-2.830938e-16</td>\n",
       "      <td>3.949744e-16</td>\n",
       "      <td>-1.464042e-16</td>\n",
       "      <td>-2.819840e-17</td>\n",
       "      <td>1.196819e-16</td>\n",
       "      <td>7.185726e-17</td>\n",
       "    </tr>\n",
       "    <tr>\n",
       "      <th>std</th>\n",
       "      <td>1.000049e+00</td>\n",
       "      <td>1.000049e+00</td>\n",
       "      <td>1.000049e+00</td>\n",
       "      <td>1.000049e+00</td>\n",
       "      <td>1.000049e+00</td>\n",
       "      <td>1.000049e+00</td>\n",
       "      <td>1.000049e+00</td>\n",
       "      <td>1.000049e+00</td>\n",
       "      <td>1.000049e+00</td>\n",
       "      <td>1.000049e+00</td>\n",
       "      <td>1.000049e+00</td>\n",
       "      <td>1.000049e+00</td>\n",
       "      <td>1.000049e+00</td>\n",
       "      <td>1.000049e+00</td>\n",
       "      <td>1.000049e+00</td>\n",
       "    </tr>\n",
       "    <tr>\n",
       "      <th>min</th>\n",
       "      <td>-4.644095e-01</td>\n",
       "      <td>-6.369879e-01</td>\n",
       "      <td>-5.176085e-01</td>\n",
       "      <td>-7.247603e-01</td>\n",
       "      <td>-5.988094e-01</td>\n",
       "      <td>-7.122273e-01</td>\n",
       "      <td>-3.833715e-01</td>\n",
       "      <td>-7.200364e-01</td>\n",
       "      <td>-4.781611e-01</td>\n",
       "      <td>-4.538480e-01</td>\n",
       "      <td>-2.525576e-01</td>\n",
       "      <td>-9.011583e-01</td>\n",
       "      <td>-7.617649e-01</td>\n",
       "      <td>-9.204664e-01</td>\n",
       "      <td>-1.717366e+00</td>\n",
       "    </tr>\n",
       "    <tr>\n",
       "      <th>25%</th>\n",
       "      <td>-4.644095e-01</td>\n",
       "      <td>-6.369879e-01</td>\n",
       "      <td>-5.176085e-01</td>\n",
       "      <td>-7.247603e-01</td>\n",
       "      <td>-5.988094e-01</td>\n",
       "      <td>-7.122273e-01</td>\n",
       "      <td>-3.833715e-01</td>\n",
       "      <td>-7.200364e-01</td>\n",
       "      <td>-4.781611e-01</td>\n",
       "      <td>-4.538480e-01</td>\n",
       "      <td>-2.525576e-01</td>\n",
       "      <td>-6.979412e-01</td>\n",
       "      <td>-5.963443e-01</td>\n",
       "      <td>-6.671773e-01</td>\n",
       "      <td>-6.461366e-01</td>\n",
       "    </tr>\n",
       "    <tr>\n",
       "      <th>50%</th>\n",
       "      <td>-4.644095e-01</td>\n",
       "      <td>-3.885890e-01</td>\n",
       "      <td>-5.176085e-01</td>\n",
       "      <td>-3.732196e-01</td>\n",
       "      <td>-5.828124e-01</td>\n",
       "      <td>-3.788072e-01</td>\n",
       "      <td>-3.833715e-01</td>\n",
       "      <td>-3.179986e-01</td>\n",
       "      <td>-4.781611e-01</td>\n",
       "      <td>-4.538480e-01</td>\n",
       "      <td>-2.525576e-01</td>\n",
       "      <td>-3.089469e-01</td>\n",
       "      <td>-3.019877e-01</td>\n",
       "      <td>-3.021686e-01</td>\n",
       "      <td>-2.425354e-01</td>\n",
       "    </tr>\n",
       "    <tr>\n",
       "      <th>75%</th>\n",
       "      <td>1.159335e-02</td>\n",
       "      <td>2.653251e-01</td>\n",
       "      <td>1.412483e-01</td>\n",
       "      <td>3.127135e-01</td>\n",
       "      <td>2.628363e-01</td>\n",
       "      <td>3.215641e-01</td>\n",
       "      <td>-5.874510e-02</td>\n",
       "      <td>2.984136e-01</td>\n",
       "      <td>-1.058125e-02</td>\n",
       "      <td>1.869285e-03</td>\n",
       "      <td>-1.443779e-01</td>\n",
       "      <td>3.551882e-01</td>\n",
       "      <td>2.406770e-01</td>\n",
       "      <td>3.251130e-01</td>\n",
       "      <td>3.667803e-01</td>\n",
       "    </tr>\n",
       "    <tr>\n",
       "      <th>max</th>\n",
       "      <td>9.005221e+00</td>\n",
       "      <td>7.681711e+00</td>\n",
       "      <td>9.483819e+00</td>\n",
       "      <td>8.005156e+00</td>\n",
       "      <td>7.688051e+00</td>\n",
       "      <td>8.112302e+00</td>\n",
       "      <td>1.507758e+01</td>\n",
       "      <td>9.139093e+00</td>\n",
       "      <td>8.886820e+00</td>\n",
       "      <td>1.013203e+01</td>\n",
       "      <td>2.015063e+01</td>\n",
       "      <td>7.719047e+00</td>\n",
       "      <td>1.222581e+01</td>\n",
       "      <td>8.627960e+00</td>\n",
       "      <td>7.863266e+00</td>\n",
       "    </tr>\n",
       "  </tbody>\n",
       "</table>\n",
       "</div>"
      ],
      "text/plain": [
       "       Average Credit Card Transaction  Balance Transfer  Term Deposit  \\\n",
       "count                     1.015400e+04      1.015400e+04  1.015400e+04   \n",
       "mean                     -1.910909e-16     -3.021815e-16 -4.083574e-16   \n",
       "std                       1.000049e+00      1.000049e+00  1.000049e+00   \n",
       "min                      -4.644095e-01     -6.369879e-01 -5.176085e-01   \n",
       "25%                      -4.644095e-01     -6.369879e-01 -5.176085e-01   \n",
       "50%                      -4.644095e-01     -3.885890e-01 -5.176085e-01   \n",
       "75%                       1.159335e-02      2.653251e-01  1.412483e-01   \n",
       "max                       9.005221e+00      7.681711e+00  9.483819e+00   \n",
       "\n",
       "       Life Insurance  Medical Insurance  Average A/C Balance  Personal Loan  \\\n",
       "count    1.015400e+04       1.015400e+04         1.015400e+04   1.015400e+04   \n",
       "mean     3.844341e-16      -7.893146e-17        -4.284757e-16  -4.832761e-17   \n",
       "std      1.000049e+00       1.000049e+00         1.000049e+00   1.000049e+00   \n",
       "min     -7.247603e-01      -5.988094e-01        -7.122273e-01  -3.833715e-01   \n",
       "25%     -7.247603e-01      -5.988094e-01        -7.122273e-01  -3.833715e-01   \n",
       "50%     -3.732196e-01      -5.828124e-01        -3.788072e-01  -3.833715e-01   \n",
       "75%      3.127135e-01       2.628363e-01         3.215641e-01  -5.874510e-02   \n",
       "max      8.005156e+00       7.688051e+00         8.112302e+00   1.507758e+01   \n",
       "\n",
       "       Investment in Mutual Fund  Investment Tax Saving Bond     Home Loan  \\\n",
       "count               1.015400e+04                1.015400e+04  1.015400e+04   \n",
       "mean                2.331435e-16               -1.734764e-16 -2.830938e-16   \n",
       "std                 1.000049e+00                1.000049e+00  1.000049e+00   \n",
       "min                -7.200364e-01               -4.781611e-01 -4.538480e-01   \n",
       "25%                -7.200364e-01               -4.781611e-01 -4.538480e-01   \n",
       "50%                -3.179986e-01               -4.781611e-01 -4.538480e-01   \n",
       "75%                 2.984136e-01               -1.058125e-02  1.869285e-03   \n",
       "max                 9.139093e+00                8.886820e+00  1.013203e+01   \n",
       "\n",
       "       Online Purchase Amount  Investment in Commudity  Investment in Equity  \\\n",
       "count            1.015400e+04             1.015400e+04          1.015400e+04   \n",
       "mean             3.949744e-16            -1.464042e-16         -2.819840e-17   \n",
       "std              1.000049e+00             1.000049e+00          1.000049e+00   \n",
       "min             -2.525576e-01            -9.011583e-01         -7.617649e-01   \n",
       "25%             -2.525576e-01            -6.979412e-01         -5.963443e-01   \n",
       "50%             -2.525576e-01            -3.089469e-01         -3.019877e-01   \n",
       "75%             -1.443779e-01             3.551882e-01          2.406770e-01   \n",
       "max              2.015063e+01             7.719047e+00          1.222581e+01   \n",
       "\n",
       "       Investment in Derivative  Portfolio Balance  \n",
       "count              1.015400e+04       1.015400e+04  \n",
       "mean               1.196819e-16       7.185726e-17  \n",
       "std                1.000049e+00       1.000049e+00  \n",
       "min               -9.204664e-01      -1.717366e+00  \n",
       "25%               -6.671773e-01      -6.461366e-01  \n",
       "50%               -3.021686e-01      -2.425354e-01  \n",
       "75%                3.251130e-01       3.667803e-01  \n",
       "max                8.627960e+00       7.863266e+00  "
      ]
     },
     "execution_count": 32,
     "metadata": {},
     "output_type": "execute_result"
    }
   ],
   "source": [
    "data[column_names].describe()"
   ]
  },
  {
   "cell_type": "code",
   "execution_count": 33,
   "metadata": {
    "colab": {
     "base_uri": "https://localhost:8080/"
    },
    "id": "UVD0oVXxb1ga",
    "outputId": "8a6b07f1-1866-4fa6-ebc3-bffec9b523d7"
   },
   "outputs": [
    {
     "data": {
      "text/plain": [
       "children                            object\n",
       "age_band                            object\n",
       "status                              object\n",
       "occupation                          object\n",
       "occupation_partner                  object\n",
       "home_status                         object\n",
       "family_income                       object\n",
       "self_employed                       object\n",
       "self_employed_partner               object\n",
       "TVarea                              object\n",
       "Average Credit Card Transaction    float64\n",
       "Balance Transfer                   float64\n",
       "Term Deposit                       float64\n",
       "Life Insurance                     float64\n",
       "Medical Insurance                  float64\n",
       "Average A/C Balance                float64\n",
       "Personal Loan                      float64\n",
       "Investment in Mutual Fund          float64\n",
       "Investment Tax Saving Bond         float64\n",
       "Home Loan                          float64\n",
       "Online Purchase Amount             float64\n",
       "Revenue Grid                         int64\n",
       "gender                              object\n",
       "region                              object\n",
       "Investment in Commudity            float64\n",
       "Investment in Equity               float64\n",
       "Investment in Derivative           float64\n",
       "Portfolio Balance                  float64\n",
       "dtype: object"
      ]
     },
     "execution_count": 33,
     "metadata": {},
     "output_type": "execute_result"
    }
   ],
   "source": [
    "data.dtypes"
   ]
  },
  {
   "cell_type": "code",
   "execution_count": 34,
   "metadata": {
    "colab": {
     "base_uri": "https://localhost:8080/"
    },
    "id": "3L0NeqAItfLi",
    "outputId": "96bc78e8-1e00-4283-f3dd-d607af31e6d2"
   },
   "outputs": [
    {
     "name": "stdout",
     "output_type": "stream",
     "text": [
      "Zero    6208\n",
      "1       1847\n",
      "2       1607\n",
      "3        473\n",
      "4+        19\n",
      "Name: children, dtype: int64\n"
     ]
    }
   ],
   "source": [
    "##### Preprocessing categorical columns ######\n",
    "\n",
    "### Analzing the children column ####\n",
    "\n",
    "print(data['children'].value_counts())\n",
    "\n",
    "children_pickle = {}\n",
    "\n",
    "#### Insight ###\n",
    "################\n",
    "\n",
    "#Since the occurances of 4+ children is quite low when compared to rest, we can replace them with 3\n",
    "#Create one hot encoded vectors for the same\n",
    "\n",
    "data.loc[data['children']== '4+','children'] = '3'\n",
    "\n",
    "children_data = pd.get_dummies(data['children'],prefix ='chidren')\n",
    "\n",
    "data.drop(['children'],axis=1,inplace=True)\n",
    "\n",
    "data = pd.concat([data,children_data],axis=1)"
   ]
  },
  {
   "cell_type": "code",
   "execution_count": 35,
   "metadata": {
    "colab": {
     "base_uri": "https://localhost:8080/",
     "height": 89
    },
    "id": "kS9oPbuZ8pUo",
    "outputId": "60e1f863-4d68-49ec-c056-8914234b88cb"
   },
   "outputs": [
    {
     "data": {
      "text/plain": [
       "\"\\nfrom sklearn.preprocessing import OneHotEncoder\\n\\nencoder = OneHotEncoder()\\n\\nencoder.fit(data['children']) #### identify how many unique values are there in the columns and what are they [0,1,2,3]\\n\\nencoder.transform(data['children']) #### for every unique value it will create a one hot column\\n\\n##### store the encoder object in a pickle\\n\""
      ]
     },
     "execution_count": 35,
     "metadata": {},
     "output_type": "execute_result"
    }
   ],
   "source": [
    "'''\n",
    "from sklearn.preprocessing import OneHotEncoder\n",
    "\n",
    "encoder = OneHotEncoder()\n",
    "\n",
    "encoder.fit(data['children']) #### identify how many unique values are there in the columns and what are they [0,1,2,3]\n",
    "\n",
    "encoder.transform(data['children']) #### for every unique value it will create a one hot column\n",
    "\n",
    "##### store the encoder object in a pickle\n",
    "'''"
   ]
  },
  {
   "cell_type": "code",
   "execution_count": 36,
   "metadata": {
    "colab": {
     "base_uri": "https://localhost:8080/",
     "height": 142
    },
    "id": "BiYmah8dXYR3",
    "outputId": "a39ebd84-56a3-4416-bff6-188cd41f39fe"
   },
   "outputs": [
    {
     "data": {
      "text/plain": [
       "\"\\nfrom sklearn.preprocessing import OneHotEncoder\\n\\nage_band_encoder = OneHotEncoder()\\n\\nage_band_encoder.fit(data[['age_band']]) #### try to identify what all are the unique values in the age band column\\n\\ndummy_cols = age_band_encoder.transform(data[['age_band']]) ##### create dummies for each of the unique values identified \\n\\ndummy_cols = pd.DataFrame(dummy_cols.toarray())\\n\\ndummy_cols.columns = age_band_encoder.categories_\\n\\ndata.drop(['age_band'],axis=1,inplace=True)\\n\\ndata = pd.concat([data,dummy_cols],axis=1)\\n\\nwith open('age_band_encoder.pickle','wb') as f:\\n  pickle.dump(age_band_encoder,f)\\n\""
      ]
     },
     "execution_count": 36,
     "metadata": {},
     "output_type": "execute_result"
    }
   ],
   "source": [
    "'''\n",
    "from sklearn.preprocessing import OneHotEncoder\n",
    "\n",
    "age_band_encoder = OneHotEncoder()\n",
    "\n",
    "age_band_encoder.fit(data[['age_band']]) #### try to identify what all are the unique values in the age band column\n",
    "\n",
    "dummy_cols = age_band_encoder.transform(data[['age_band']]) ##### create dummies for each of the unique values identified \n",
    "\n",
    "dummy_cols = pd.DataFrame(dummy_cols.toarray())\n",
    "\n",
    "dummy_cols.columns = age_band_encoder.categories_\n",
    "\n",
    "data.drop(['age_band'],axis=1,inplace=True)\n",
    "\n",
    "data = pd.concat([data,dummy_cols],axis=1)\n",
    "\n",
    "with open('age_band_encoder.pickle','wb') as f:\n",
    "  pickle.dump(age_band_encoder,f)\n",
    "'''"
   ]
  },
  {
   "cell_type": "code",
   "execution_count": 37,
   "metadata": {
    "colab": {
     "base_uri": "https://localhost:8080/"
    },
    "id": "Ng0450e7tfLj",
    "outputId": "39c637b2-ac2a-459c-bd55-a6f589f0e64d"
   },
   "outputs": [
    {
     "name": "stdout",
     "output_type": "stream",
     "text": [
      "45-50      1359\n",
      "36-40      1134\n",
      "41-45      1111\n",
      "31-35      1061\n",
      "51-55      1052\n",
      "55-60      1047\n",
      "26-30       927\n",
      "61-65       881\n",
      "65-70       598\n",
      "22-25       456\n",
      "71+         410\n",
      "18-21        63\n",
      "Unknown      55\n",
      "Name: age_band, dtype: int64\n"
     ]
    }
   ],
   "source": [
    "#### Analyzing age_band column ###\n",
    "\n",
    "print(data['age_band'].value_counts())\n",
    "\n",
    "#### Insight ####\n",
    "#################\n",
    "\n",
    "#Adding unknown to the most prominant class of 45-50 (In 2nd iteration)\n",
    "#The mean age of the band could be taken and this column could be converted into a numeric column, however it so can\n",
    "#happen that the band actually matters rather than the actual age, hence created dummies \n",
    "\n",
    "#data.loc[data['age_band']=='Unknown','age_band'] ='45-50'\n",
    "\n",
    "age_band_dummies = pd.get_dummies(data['age_band'],prefix = 'age_band')\n",
    "\n",
    "data.drop(['age_band'],axis=1,inplace=True)\n",
    "\n",
    "data = pd.concat([data,age_band_dummies],axis=1)"
   ]
  },
  {
   "cell_type": "code",
   "execution_count": 38,
   "metadata": {
    "colab": {
     "base_uri": "https://localhost:8080/",
     "height": 421
    },
    "id": "jcZnoFoO9MJK",
    "outputId": "92e124b1-d952-4032-c64e-9efc05ab5d1b"
   },
   "outputs": [
    {
     "data": {
      "text/html": [
       "<div>\n",
       "<style scoped>\n",
       "    .dataframe tbody tr th:only-of-type {\n",
       "        vertical-align: middle;\n",
       "    }\n",
       "\n",
       "    .dataframe tbody tr th {\n",
       "        vertical-align: top;\n",
       "    }\n",
       "\n",
       "    .dataframe thead th {\n",
       "        text-align: right;\n",
       "    }\n",
       "</style>\n",
       "<table border=\"1\" class=\"dataframe\">\n",
       "  <thead>\n",
       "    <tr style=\"text-align: right;\">\n",
       "      <th></th>\n",
       "      <th>status</th>\n",
       "      <th>occupation</th>\n",
       "      <th>occupation_partner</th>\n",
       "      <th>home_status</th>\n",
       "      <th>family_income</th>\n",
       "      <th>self_employed</th>\n",
       "      <th>self_employed_partner</th>\n",
       "      <th>TVarea</th>\n",
       "      <th>Average Credit Card Transaction</th>\n",
       "      <th>Balance Transfer</th>\n",
       "      <th>...</th>\n",
       "      <th>age_band_31-35</th>\n",
       "      <th>age_band_36-40</th>\n",
       "      <th>age_band_41-45</th>\n",
       "      <th>age_band_45-50</th>\n",
       "      <th>age_band_51-55</th>\n",
       "      <th>age_band_55-60</th>\n",
       "      <th>age_band_61-65</th>\n",
       "      <th>age_band_65-70</th>\n",
       "      <th>age_band_71+</th>\n",
       "      <th>age_band_Unknown</th>\n",
       "    </tr>\n",
       "  </thead>\n",
       "  <tbody>\n",
       "    <tr>\n",
       "      <th>0</th>\n",
       "      <td>Partner</td>\n",
       "      <td>Manual Worker</td>\n",
       "      <td>Secretarial/Admin</td>\n",
       "      <td>Own Home</td>\n",
       "      <td>&lt;17,500, &gt;=15,000</td>\n",
       "      <td>No</td>\n",
       "      <td>No</td>\n",
       "      <td>HTV</td>\n",
       "      <td>2.482124</td>\n",
       "      <td>1.340106</td>\n",
       "      <td>...</td>\n",
       "      <td>0</td>\n",
       "      <td>0</td>\n",
       "      <td>0</td>\n",
       "      <td>0</td>\n",
       "      <td>1</td>\n",
       "      <td>0</td>\n",
       "      <td>0</td>\n",
       "      <td>0</td>\n",
       "      <td>0</td>\n",
       "      <td>0</td>\n",
       "    </tr>\n",
       "    <tr>\n",
       "      <th>1</th>\n",
       "      <td>Single/Never Married</td>\n",
       "      <td>Retired</td>\n",
       "      <td>Retired</td>\n",
       "      <td>Own Home</td>\n",
       "      <td>&lt;27,500, &gt;=25,000</td>\n",
       "      <td>No</td>\n",
       "      <td>No</td>\n",
       "      <td>Granada</td>\n",
       "      <td>-0.464410</td>\n",
       "      <td>0.400036</td>\n",
       "      <td>...</td>\n",
       "      <td>0</td>\n",
       "      <td>0</td>\n",
       "      <td>0</td>\n",
       "      <td>0</td>\n",
       "      <td>0</td>\n",
       "      <td>1</td>\n",
       "      <td>0</td>\n",
       "      <td>0</td>\n",
       "      <td>0</td>\n",
       "      <td>0</td>\n",
       "    </tr>\n",
       "    <tr>\n",
       "      <th>2</th>\n",
       "      <td>Single/Never Married</td>\n",
       "      <td>Professional</td>\n",
       "      <td>Other</td>\n",
       "      <td>Own Home</td>\n",
       "      <td>&lt;30,000, &gt;=27,500</td>\n",
       "      <td>Yes</td>\n",
       "      <td>No</td>\n",
       "      <td>Tyne Tees</td>\n",
       "      <td>-0.464410</td>\n",
       "      <td>1.664989</td>\n",
       "      <td>...</td>\n",
       "      <td>0</td>\n",
       "      <td>0</td>\n",
       "      <td>0</td>\n",
       "      <td>0</td>\n",
       "      <td>0</td>\n",
       "      <td>0</td>\n",
       "      <td>0</td>\n",
       "      <td>0</td>\n",
       "      <td>0</td>\n",
       "      <td>0</td>\n",
       "    </tr>\n",
       "    <tr>\n",
       "      <th>3</th>\n",
       "      <td>Single/Never Married</td>\n",
       "      <td>Professional</td>\n",
       "      <td>Manual Worker</td>\n",
       "      <td>Own Home</td>\n",
       "      <td>&lt;15,000, &gt;=12,500</td>\n",
       "      <td>No</td>\n",
       "      <td>No</td>\n",
       "      <td>Central</td>\n",
       "      <td>-0.464410</td>\n",
       "      <td>-0.636988</td>\n",
       "      <td>...</td>\n",
       "      <td>0</td>\n",
       "      <td>0</td>\n",
       "      <td>0</td>\n",
       "      <td>0</td>\n",
       "      <td>0</td>\n",
       "      <td>0</td>\n",
       "      <td>0</td>\n",
       "      <td>0</td>\n",
       "      <td>0</td>\n",
       "      <td>0</td>\n",
       "    </tr>\n",
       "    <tr>\n",
       "      <th>4</th>\n",
       "      <td>Partner</td>\n",
       "      <td>Business Manager</td>\n",
       "      <td>Unknown</td>\n",
       "      <td>Own Home</td>\n",
       "      <td>&lt;30,000, &gt;=27,500</td>\n",
       "      <td>No</td>\n",
       "      <td>No</td>\n",
       "      <td>Scottish TV</td>\n",
       "      <td>0.993573</td>\n",
       "      <td>0.164638</td>\n",
       "      <td>...</td>\n",
       "      <td>0</td>\n",
       "      <td>0</td>\n",
       "      <td>0</td>\n",
       "      <td>1</td>\n",
       "      <td>0</td>\n",
       "      <td>0</td>\n",
       "      <td>0</td>\n",
       "      <td>0</td>\n",
       "      <td>0</td>\n",
       "      <td>0</td>\n",
       "    </tr>\n",
       "  </tbody>\n",
       "</table>\n",
       "<p>5 rows × 43 columns</p>\n",
       "</div>"
      ],
      "text/plain": [
       "                 status        occupation occupation_partner home_status  \\\n",
       "0               Partner     Manual Worker  Secretarial/Admin    Own Home   \n",
       "1  Single/Never Married           Retired            Retired    Own Home   \n",
       "2  Single/Never Married      Professional              Other    Own Home   \n",
       "3  Single/Never Married      Professional      Manual Worker    Own Home   \n",
       "4               Partner  Business Manager            Unknown    Own Home   \n",
       "\n",
       "       family_income self_employed self_employed_partner       TVarea  \\\n",
       "0  <17,500, >=15,000            No                    No          HTV   \n",
       "1  <27,500, >=25,000            No                    No      Granada   \n",
       "2  <30,000, >=27,500           Yes                    No    Tyne Tees   \n",
       "3  <15,000, >=12,500            No                    No      Central   \n",
       "4  <30,000, >=27,500            No                    No  Scottish TV   \n",
       "\n",
       "   Average Credit Card Transaction  Balance Transfer  ...  age_band_31-35  \\\n",
       "0                         2.482124          1.340106  ...               0   \n",
       "1                        -0.464410          0.400036  ...               0   \n",
       "2                        -0.464410          1.664989  ...               0   \n",
       "3                        -0.464410         -0.636988  ...               0   \n",
       "4                         0.993573          0.164638  ...               0   \n",
       "\n",
       "   age_band_36-40  age_band_41-45  age_band_45-50  age_band_51-55  \\\n",
       "0               0               0               0               1   \n",
       "1               0               0               0               0   \n",
       "2               0               0               0               0   \n",
       "3               0               0               0               0   \n",
       "4               0               0               1               0   \n",
       "\n",
       "   age_band_55-60  age_band_61-65  age_band_65-70  age_band_71+  \\\n",
       "0               0               0               0             0   \n",
       "1               1               0               0             0   \n",
       "2               0               0               0             0   \n",
       "3               0               0               0             0   \n",
       "4               0               0               0             0   \n",
       "\n",
       "   age_band_Unknown  \n",
       "0                 0  \n",
       "1                 0  \n",
       "2                 0  \n",
       "3                 0  \n",
       "4                 0  \n",
       "\n",
       "[5 rows x 43 columns]"
      ]
     },
     "execution_count": 38,
     "metadata": {},
     "output_type": "execute_result"
    }
   ],
   "source": [
    "data.head()"
   ]
  },
  {
   "cell_type": "code",
   "execution_count": 39,
   "metadata": {
    "colab": {
     "base_uri": "https://localhost:8080/"
    },
    "id": "uAh7KmwItfLj",
    "outputId": "da0ae529-0564-4f61-8275-953fc7a29c7c"
   },
   "outputs": [
    {
     "name": "stdout",
     "output_type": "stream",
     "text": [
      "Partner                 7708\n",
      "Single/Never Married    1101\n",
      "Divorced/Separated       679\n",
      "Widowed                  618\n",
      "Unknown                   48\n",
      "Name: status, dtype: int64\n"
     ]
    }
   ],
   "source": [
    "#### Analyzing status column ###\n",
    "\n",
    "print(data['status'].value_counts())\n",
    "\n",
    "#### Insight ####\n",
    "#################\n",
    "\n",
    "#Lets add unknown to the most prominant class of Partner (In 2nd iteration)\n",
    "#Create dummeis for the rest \n",
    "\n",
    "#data.loc[data['status']=='Unknown','status'] ='Partner'\n",
    "\n",
    "status_dummies = pd.get_dummies(data['status'],prefix = 'status')\n",
    "\n",
    "data.drop(['status'],axis=1,inplace=True)\n",
    "\n",
    "data = pd.concat([data,status_dummies],axis=1)"
   ]
  },
  {
   "cell_type": "code",
   "execution_count": 40,
   "metadata": {
    "colab": {
     "base_uri": "https://localhost:8080/"
    },
    "id": "-PAkiwettfLk",
    "outputId": "8d006fb1-1370-4c61-a226-f3b98e016639"
   },
   "outputs": [
    {
     "name": "stdout",
     "output_type": "stream",
     "text": [
      "Professional         2448\n",
      "Retired              2206\n",
      "Secretarial/Admin    1797\n",
      "Housewife            1255\n",
      "Business Manager      732\n",
      "Unknown               567\n",
      "Manual Worker         556\n",
      "Other                 537\n",
      "Student                56\n",
      "Name: occupation, dtype: int64\n"
     ]
    }
   ],
   "source": [
    "#### Analyzing occupation column ###\n",
    "\n",
    "print(data['occupation'].value_counts())\n",
    "\n",
    "occupation_dummies = pd.get_dummies(data['occupation'], drop_first=True, prefix = 'occupation')\n",
    "\n",
    "data.drop(['occupation'],axis=1,inplace=True)\n",
    "\n",
    "data = pd.concat([data,occupation_dummies],axis=1)"
   ]
  },
  {
   "cell_type": "code",
   "execution_count": 41,
   "metadata": {
    "colab": {
     "base_uri": "https://localhost:8080/"
    },
    "id": "izYURhind_Yd",
    "outputId": "b36d9c42-8848-417f-83f7-91280d6b9acf"
   },
   "outputs": [
    {
     "name": "stdout",
     "output_type": "stream",
     "text": [
      "<class 'pandas.core.frame.DataFrame'>\n",
      "RangeIndex: 10154 entries, 0 to 10153\n",
      "Data columns (total 54 columns):\n",
      " #   Column                           Non-Null Count  Dtype  \n",
      "---  ------                           --------------  -----  \n",
      " 0   occupation_partner               10154 non-null  object \n",
      " 1   home_status                      10154 non-null  object \n",
      " 2   family_income                    10154 non-null  object \n",
      " 3   self_employed                    10154 non-null  object \n",
      " 4   self_employed_partner            10154 non-null  object \n",
      " 5   TVarea                           10154 non-null  object \n",
      " 6   Average Credit Card Transaction  10154 non-null  float64\n",
      " 7   Balance Transfer                 10154 non-null  float64\n",
      " 8   Term Deposit                     10154 non-null  float64\n",
      " 9   Life Insurance                   10154 non-null  float64\n",
      " 10  Medical Insurance                10154 non-null  float64\n",
      " 11  Average A/C Balance              10154 non-null  float64\n",
      " 12  Personal Loan                    10154 non-null  float64\n",
      " 13  Investment in Mutual Fund        10154 non-null  float64\n",
      " 14  Investment Tax Saving Bond       10154 non-null  float64\n",
      " 15  Home Loan                        10154 non-null  float64\n",
      " 16  Online Purchase Amount           10154 non-null  float64\n",
      " 17  Revenue Grid                     10154 non-null  int64  \n",
      " 18  gender                           10154 non-null  object \n",
      " 19  region                           10154 non-null  object \n",
      " 20  Investment in Commudity          10154 non-null  float64\n",
      " 21  Investment in Equity             10154 non-null  float64\n",
      " 22  Investment in Derivative         10154 non-null  float64\n",
      " 23  Portfolio Balance                10154 non-null  float64\n",
      " 24  chidren_1                        10154 non-null  uint8  \n",
      " 25  chidren_2                        10154 non-null  uint8  \n",
      " 26  chidren_3                        10154 non-null  uint8  \n",
      " 27  chidren_Zero                     10154 non-null  uint8  \n",
      " 28  age_band_18-21                   10154 non-null  uint8  \n",
      " 29  age_band_22-25                   10154 non-null  uint8  \n",
      " 30  age_band_26-30                   10154 non-null  uint8  \n",
      " 31  age_band_31-35                   10154 non-null  uint8  \n",
      " 32  age_band_36-40                   10154 non-null  uint8  \n",
      " 33  age_band_41-45                   10154 non-null  uint8  \n",
      " 34  age_band_45-50                   10154 non-null  uint8  \n",
      " 35  age_band_51-55                   10154 non-null  uint8  \n",
      " 36  age_band_55-60                   10154 non-null  uint8  \n",
      " 37  age_band_61-65                   10154 non-null  uint8  \n",
      " 38  age_band_65-70                   10154 non-null  uint8  \n",
      " 39  age_band_71+                     10154 non-null  uint8  \n",
      " 40  age_band_Unknown                 10154 non-null  uint8  \n",
      " 41  status_Divorced/Separated        10154 non-null  uint8  \n",
      " 42  status_Partner                   10154 non-null  uint8  \n",
      " 43  status_Single/Never Married      10154 non-null  uint8  \n",
      " 44  status_Unknown                   10154 non-null  uint8  \n",
      " 45  status_Widowed                   10154 non-null  uint8  \n",
      " 46  occupation_Housewife             10154 non-null  uint8  \n",
      " 47  occupation_Manual Worker         10154 non-null  uint8  \n",
      " 48  occupation_Other                 10154 non-null  uint8  \n",
      " 49  occupation_Professional          10154 non-null  uint8  \n",
      " 50  occupation_Retired               10154 non-null  uint8  \n",
      " 51  occupation_Secretarial/Admin     10154 non-null  uint8  \n",
      " 52  occupation_Student               10154 non-null  uint8  \n",
      " 53  occupation_Unknown               10154 non-null  uint8  \n",
      "dtypes: float64(15), int64(1), object(8), uint8(30)\n",
      "memory usage: 2.1+ MB\n"
     ]
    }
   ],
   "source": [
    "data.info()"
   ]
  },
  {
   "cell_type": "code",
   "execution_count": 42,
   "metadata": {
    "colab": {
     "base_uri": "https://localhost:8080/"
    },
    "id": "M7Lhw61QtfLk",
    "outputId": "286325af-fa38-40c9-fbd5-cee3137dd08a"
   },
   "outputs": [
    {
     "name": "stdout",
     "output_type": "stream",
     "text": [
      "Unknown              2394\n",
      "Professional         2050\n",
      "Retired              1936\n",
      "Manual Worker        1508\n",
      "Business Manager      737\n",
      "Secretarial/Admin     662\n",
      "Housewife             527\n",
      "Other                 324\n",
      "Student                16\n",
      "Name: occupation_partner, dtype: int64\n"
     ]
    }
   ],
   "source": [
    "#### Analyzing occupation_partner column ###\n",
    "\n",
    "print(data['occupation_partner'].value_counts())\n",
    "\n",
    "occupation_partner_dummies = pd.get_dummies(data['occupation_partner'],drop_first=True,prefix = 'occupation_partner')\n",
    "\n",
    "data.drop(['occupation_partner'],axis=1,inplace=True)\n",
    "\n",
    "data = pd.concat([data,occupation_partner_dummies],axis=1)"
   ]
  },
  {
   "cell_type": "code",
   "execution_count": 43,
   "metadata": {
    "colab": {
     "base_uri": "https://localhost:8080/"
    },
    "id": "92yWDGjAtfLk",
    "outputId": "917f1581-10bd-4cf9-a1a2-f87fd36ba007"
   },
   "outputs": [
    {
     "name": "stdout",
     "output_type": "stream",
     "text": [
      "Own Home                9412\n",
      "Rent from Council/HA     322\n",
      "Rent Privately           261\n",
      "Live in Parental Hom     109\n",
      "Unclassified              50\n",
      "Name: home_status, dtype: int64\n"
     ]
    }
   ],
   "source": [
    "#### Analyzing home_status column ###\n",
    "\n",
    "print(data['home_status'].value_counts())\n",
    "\n",
    "#### Insight ####\n",
    "#################\n",
    "\n",
    "#Apart form own home the other types seem to be some/kind of rented property and the occurances of those are quite few compared to own house\n",
    "#combine all others into a category called rent\n",
    "#Create dummies for rest\n",
    "\n",
    "#data.loc[~(data['home_status'] == 'Own Home'),'home_status'] ='Rented Home' (In 2nd iteration)\n",
    "\n",
    "home_status_dummies = pd.get_dummies(data['home_status'],prefix = 'home_status')\n",
    "\n",
    "data.drop(['home_status'],axis=1,inplace=True)\n",
    "\n",
    "data = pd.concat([data,home_status_dummies],axis=1)"
   ]
  },
  {
   "cell_type": "code",
   "execution_count": 44,
   "metadata": {
    "colab": {
     "base_uri": "https://localhost:8080/"
    },
    "id": "OnIiMALytfLk",
    "outputId": "0d554b89-6810-451f-a687-b1cfdaf84d7d"
   },
   "outputs": [
    {
     "name": "stdout",
     "output_type": "stream",
     "text": [
      ">=35,000             2516\n",
      "<27,500, >=25,000    1227\n",
      "<30,000, >=27,500     994\n",
      "<25,000, >=22,500     833\n",
      "<20,000, >=17,500     683\n",
      "<12,500, >=10,000     677\n",
      "<17,500, >=15,000     634\n",
      "<15,000, >=12,500     629\n",
      "<22,500, >=20,000     590\n",
      "<10,000, >= 8,000     563\n",
      "< 8,000, >= 4,000     402\n",
      "< 4,000               278\n",
      "Unknown               128\n",
      "Name: family_income, dtype: int64\n"
     ]
    }
   ],
   "source": [
    "#### Analyzing family_income column ###\n",
    "\n",
    "print(data['family_income'].value_counts())\n",
    "\n",
    "#### Insight ####\n",
    "#################\n",
    "\n",
    "#The family income could be converted into numeric field by taking the mean of the range. Will explore it in the next set of experiments\n",
    "#In the current experiment, created dummies\n",
    "\n",
    "income_dummies = pd.get_dummies(data['family_income'], prefix = 'income')\n",
    "\n",
    "data.drop(['family_income'],axis=1,inplace=True)\n",
    "\n",
    "data = pd.concat([data,income_dummies],axis=1)"
   ]
  },
  {
   "cell_type": "code",
   "execution_count": 45,
   "metadata": {
    "id": "boxBtXgttfLk"
   },
   "outputs": [],
   "source": [
    "#### Analyzing the self employed, self employed partner and gender column ####\n",
    "\n",
    "cols = ['self_employed','self_employed_partner','gender']\n",
    "\n",
    "for column in cols:\n",
    "    dummies = pd.get_dummies(data[column],drop_first=True,prefix = column)\n",
    "    data.drop(column,axis=1,inplace=True)\n",
    "    data = pd.concat([data,dummies],axis=1)"
   ]
  },
  {
   "cell_type": "code",
   "execution_count": 46,
   "metadata": {
    "colab": {
     "base_uri": "https://localhost:8080/"
    },
    "id": "vaOxRuEWgbPT",
    "outputId": "237913ea-ba36-41d0-f77b-f56c2bd2aa9e"
   },
   "outputs": [
    {
     "name": "stdout",
     "output_type": "stream",
     "text": [
      "<class 'pandas.core.frame.DataFrame'>\n",
      "RangeIndex: 10154 entries, 0 to 10153\n",
      "Data columns (total 78 columns):\n",
      " #   Column                                Non-Null Count  Dtype  \n",
      "---  ------                                --------------  -----  \n",
      " 0   TVarea                                10154 non-null  object \n",
      " 1   Average Credit Card Transaction       10154 non-null  float64\n",
      " 2   Balance Transfer                      10154 non-null  float64\n",
      " 3   Term Deposit                          10154 non-null  float64\n",
      " 4   Life Insurance                        10154 non-null  float64\n",
      " 5   Medical Insurance                     10154 non-null  float64\n",
      " 6   Average A/C Balance                   10154 non-null  float64\n",
      " 7   Personal Loan                         10154 non-null  float64\n",
      " 8   Investment in Mutual Fund             10154 non-null  float64\n",
      " 9   Investment Tax Saving Bond            10154 non-null  float64\n",
      " 10  Home Loan                             10154 non-null  float64\n",
      " 11  Online Purchase Amount                10154 non-null  float64\n",
      " 12  Revenue Grid                          10154 non-null  int64  \n",
      " 13  region                                10154 non-null  object \n",
      " 14  Investment in Commudity               10154 non-null  float64\n",
      " 15  Investment in Equity                  10154 non-null  float64\n",
      " 16  Investment in Derivative              10154 non-null  float64\n",
      " 17  Portfolio Balance                     10154 non-null  float64\n",
      " 18  chidren_1                             10154 non-null  uint8  \n",
      " 19  chidren_2                             10154 non-null  uint8  \n",
      " 20  chidren_3                             10154 non-null  uint8  \n",
      " 21  chidren_Zero                          10154 non-null  uint8  \n",
      " 22  age_band_18-21                        10154 non-null  uint8  \n",
      " 23  age_band_22-25                        10154 non-null  uint8  \n",
      " 24  age_band_26-30                        10154 non-null  uint8  \n",
      " 25  age_band_31-35                        10154 non-null  uint8  \n",
      " 26  age_band_36-40                        10154 non-null  uint8  \n",
      " 27  age_band_41-45                        10154 non-null  uint8  \n",
      " 28  age_band_45-50                        10154 non-null  uint8  \n",
      " 29  age_band_51-55                        10154 non-null  uint8  \n",
      " 30  age_band_55-60                        10154 non-null  uint8  \n",
      " 31  age_band_61-65                        10154 non-null  uint8  \n",
      " 32  age_band_65-70                        10154 non-null  uint8  \n",
      " 33  age_band_71+                          10154 non-null  uint8  \n",
      " 34  age_band_Unknown                      10154 non-null  uint8  \n",
      " 35  status_Divorced/Separated             10154 non-null  uint8  \n",
      " 36  status_Partner                        10154 non-null  uint8  \n",
      " 37  status_Single/Never Married           10154 non-null  uint8  \n",
      " 38  status_Unknown                        10154 non-null  uint8  \n",
      " 39  status_Widowed                        10154 non-null  uint8  \n",
      " 40  occupation_Housewife                  10154 non-null  uint8  \n",
      " 41  occupation_Manual Worker              10154 non-null  uint8  \n",
      " 42  occupation_Other                      10154 non-null  uint8  \n",
      " 43  occupation_Professional               10154 non-null  uint8  \n",
      " 44  occupation_Retired                    10154 non-null  uint8  \n",
      " 45  occupation_Secretarial/Admin          10154 non-null  uint8  \n",
      " 46  occupation_Student                    10154 non-null  uint8  \n",
      " 47  occupation_Unknown                    10154 non-null  uint8  \n",
      " 48  occupation_partner_Housewife          10154 non-null  uint8  \n",
      " 49  occupation_partner_Manual Worker      10154 non-null  uint8  \n",
      " 50  occupation_partner_Other              10154 non-null  uint8  \n",
      " 51  occupation_partner_Professional       10154 non-null  uint8  \n",
      " 52  occupation_partner_Retired            10154 non-null  uint8  \n",
      " 53  occupation_partner_Secretarial/Admin  10154 non-null  uint8  \n",
      " 54  occupation_partner_Student            10154 non-null  uint8  \n",
      " 55  occupation_partner_Unknown            10154 non-null  uint8  \n",
      " 56  home_status_Live in Parental Hom      10154 non-null  uint8  \n",
      " 57  home_status_Own Home                  10154 non-null  uint8  \n",
      " 58  home_status_Rent Privately            10154 non-null  uint8  \n",
      " 59  home_status_Rent from Council/HA      10154 non-null  uint8  \n",
      " 60  home_status_Unclassified              10154 non-null  uint8  \n",
      " 61  income_< 4,000                        10154 non-null  uint8  \n",
      " 62  income_< 8,000, >= 4,000              10154 non-null  uint8  \n",
      " 63  income_<10,000, >= 8,000              10154 non-null  uint8  \n",
      " 64  income_<12,500, >=10,000              10154 non-null  uint8  \n",
      " 65  income_<15,000, >=12,500              10154 non-null  uint8  \n",
      " 66  income_<17,500, >=15,000              10154 non-null  uint8  \n",
      " 67  income_<20,000, >=17,500              10154 non-null  uint8  \n",
      " 68  income_<22,500, >=20,000              10154 non-null  uint8  \n",
      " 69  income_<25,000, >=22,500              10154 non-null  uint8  \n",
      " 70  income_<27,500, >=25,000              10154 non-null  uint8  \n",
      " 71  income_<30,000, >=27,500              10154 non-null  uint8  \n",
      " 72  income_>=35,000                       10154 non-null  uint8  \n",
      " 73  income_Unknown                        10154 non-null  uint8  \n",
      " 74  self_employed_Yes                     10154 non-null  uint8  \n",
      " 75  self_employed_partner_Yes             10154 non-null  uint8  \n",
      " 76  gender_Male                           10154 non-null  uint8  \n",
      " 77  gender_Unknown                        10154 non-null  uint8  \n",
      "dtypes: float64(15), int64(1), object(2), uint8(60)\n",
      "memory usage: 2.0+ MB\n"
     ]
    }
   ],
   "source": [
    "data.info()"
   ]
  },
  {
   "cell_type": "code",
   "execution_count": 47,
   "metadata": {
    "colab": {
     "base_uri": "https://localhost:8080/"
    },
    "id": "kjfxRAErtfLl",
    "outputId": "814e75ee-78b9-4b52-9020-acd10386f00a"
   },
   "outputs": [
    {
     "name": "stdout",
     "output_type": "stream",
     "text": [
      "Central          1618\n",
      "Carlton          1541\n",
      "Meridian         1226\n",
      "Yorkshire        1042\n",
      "Granada          1039\n",
      "HTV               845\n",
      "Anglia            751\n",
      "Tyne Tees         535\n",
      "Scottish TV       520\n",
      "TV South West     363\n",
      "Grampian          227\n",
      "Unknown           189\n",
      "Ulster            159\n",
      "Border             99\n",
      "Name: TVarea, dtype: int64\n"
     ]
    }
   ],
   "source": [
    "#### Analyzing the TVarea column #####\n",
    "\n",
    "print(data['TVarea'].value_counts())\n",
    "\n",
    "### Insight ####\n",
    "################\n",
    "\n",
    "#Intuitively, TVArea doesn't make sense in predicting if the user is a high transaction user or not.\n",
    "#In the current set , removing this column. \n",
    "data.drop(['TVarea'],axis=1,inplace=True)"
   ]
  },
  {
   "cell_type": "code",
   "execution_count": 48,
   "metadata": {
    "colab": {
     "base_uri": "https://localhost:8080/"
    },
    "id": "oCOHC3ictfLl",
    "outputId": "d230e5b2-f73b-4fcf-ec01-5980c2c73206"
   },
   "outputs": [
    {
     "name": "stdout",
     "output_type": "stream",
     "text": [
      "South East          2100\n",
      "North West          1896\n",
      "Unknown             1080\n",
      "South West           971\n",
      "West Midlands        820\n",
      "Scotland             787\n",
      "East Midlands        771\n",
      "North                570\n",
      "Wales                556\n",
      "East Anglia          423\n",
      "Northern Ireland     159\n",
      "Isle of Man           16\n",
      "Channel Islands        5\n",
      "Name: region, dtype: int64\n"
     ]
    }
   ],
   "source": [
    "### Analyzing the region column ####\n",
    "\n",
    "print(data['region'].value_counts())\n",
    "\n",
    "region_dummies = pd.get_dummies(data['region'],drop_first=True,prefix = 'region')\n",
    "\n",
    "data.drop(['region'],axis=1,inplace=True)\n",
    "\n",
    "data = pd.concat([data,region_dummies],axis=1)"
   ]
  },
  {
   "cell_type": "code",
   "execution_count": 49,
   "metadata": {
    "colab": {
     "base_uri": "https://localhost:8080/"
    },
    "id": "dP_3mZmkhTzP",
    "outputId": "bbca911a-ec03-4b26-dbb3-43c80ed5a06a"
   },
   "outputs": [
    {
     "name": "stdout",
     "output_type": "stream",
     "text": [
      "<class 'pandas.core.frame.DataFrame'>\n",
      "RangeIndex: 10154 entries, 0 to 10153\n",
      "Data columns (total 88 columns):\n",
      " #   Column                                Non-Null Count  Dtype  \n",
      "---  ------                                --------------  -----  \n",
      " 0   Average Credit Card Transaction       10154 non-null  float64\n",
      " 1   Balance Transfer                      10154 non-null  float64\n",
      " 2   Term Deposit                          10154 non-null  float64\n",
      " 3   Life Insurance                        10154 non-null  float64\n",
      " 4   Medical Insurance                     10154 non-null  float64\n",
      " 5   Average A/C Balance                   10154 non-null  float64\n",
      " 6   Personal Loan                         10154 non-null  float64\n",
      " 7   Investment in Mutual Fund             10154 non-null  float64\n",
      " 8   Investment Tax Saving Bond            10154 non-null  float64\n",
      " 9   Home Loan                             10154 non-null  float64\n",
      " 10  Online Purchase Amount                10154 non-null  float64\n",
      " 11  Revenue Grid                          10154 non-null  int64  \n",
      " 12  Investment in Commudity               10154 non-null  float64\n",
      " 13  Investment in Equity                  10154 non-null  float64\n",
      " 14  Investment in Derivative              10154 non-null  float64\n",
      " 15  Portfolio Balance                     10154 non-null  float64\n",
      " 16  chidren_1                             10154 non-null  uint8  \n",
      " 17  chidren_2                             10154 non-null  uint8  \n",
      " 18  chidren_3                             10154 non-null  uint8  \n",
      " 19  chidren_Zero                          10154 non-null  uint8  \n",
      " 20  age_band_18-21                        10154 non-null  uint8  \n",
      " 21  age_band_22-25                        10154 non-null  uint8  \n",
      " 22  age_band_26-30                        10154 non-null  uint8  \n",
      " 23  age_band_31-35                        10154 non-null  uint8  \n",
      " 24  age_band_36-40                        10154 non-null  uint8  \n",
      " 25  age_band_41-45                        10154 non-null  uint8  \n",
      " 26  age_band_45-50                        10154 non-null  uint8  \n",
      " 27  age_band_51-55                        10154 non-null  uint8  \n",
      " 28  age_band_55-60                        10154 non-null  uint8  \n",
      " 29  age_band_61-65                        10154 non-null  uint8  \n",
      " 30  age_band_65-70                        10154 non-null  uint8  \n",
      " 31  age_band_71+                          10154 non-null  uint8  \n",
      " 32  age_band_Unknown                      10154 non-null  uint8  \n",
      " 33  status_Divorced/Separated             10154 non-null  uint8  \n",
      " 34  status_Partner                        10154 non-null  uint8  \n",
      " 35  status_Single/Never Married           10154 non-null  uint8  \n",
      " 36  status_Unknown                        10154 non-null  uint8  \n",
      " 37  status_Widowed                        10154 non-null  uint8  \n",
      " 38  occupation_Housewife                  10154 non-null  uint8  \n",
      " 39  occupation_Manual Worker              10154 non-null  uint8  \n",
      " 40  occupation_Other                      10154 non-null  uint8  \n",
      " 41  occupation_Professional               10154 non-null  uint8  \n",
      " 42  occupation_Retired                    10154 non-null  uint8  \n",
      " 43  occupation_Secretarial/Admin          10154 non-null  uint8  \n",
      " 44  occupation_Student                    10154 non-null  uint8  \n",
      " 45  occupation_Unknown                    10154 non-null  uint8  \n",
      " 46  occupation_partner_Housewife          10154 non-null  uint8  \n",
      " 47  occupation_partner_Manual Worker      10154 non-null  uint8  \n",
      " 48  occupation_partner_Other              10154 non-null  uint8  \n",
      " 49  occupation_partner_Professional       10154 non-null  uint8  \n",
      " 50  occupation_partner_Retired            10154 non-null  uint8  \n",
      " 51  occupation_partner_Secretarial/Admin  10154 non-null  uint8  \n",
      " 52  occupation_partner_Student            10154 non-null  uint8  \n",
      " 53  occupation_partner_Unknown            10154 non-null  uint8  \n",
      " 54  home_status_Live in Parental Hom      10154 non-null  uint8  \n",
      " 55  home_status_Own Home                  10154 non-null  uint8  \n",
      " 56  home_status_Rent Privately            10154 non-null  uint8  \n",
      " 57  home_status_Rent from Council/HA      10154 non-null  uint8  \n",
      " 58  home_status_Unclassified              10154 non-null  uint8  \n",
      " 59  income_< 4,000                        10154 non-null  uint8  \n",
      " 60  income_< 8,000, >= 4,000              10154 non-null  uint8  \n",
      " 61  income_<10,000, >= 8,000              10154 non-null  uint8  \n",
      " 62  income_<12,500, >=10,000              10154 non-null  uint8  \n",
      " 63  income_<15,000, >=12,500              10154 non-null  uint8  \n",
      " 64  income_<17,500, >=15,000              10154 non-null  uint8  \n",
      " 65  income_<20,000, >=17,500              10154 non-null  uint8  \n",
      " 66  income_<22,500, >=20,000              10154 non-null  uint8  \n",
      " 67  income_<25,000, >=22,500              10154 non-null  uint8  \n",
      " 68  income_<27,500, >=25,000              10154 non-null  uint8  \n",
      " 69  income_<30,000, >=27,500              10154 non-null  uint8  \n",
      " 70  income_>=35,000                       10154 non-null  uint8  \n",
      " 71  income_Unknown                        10154 non-null  uint8  \n",
      " 72  self_employed_Yes                     10154 non-null  uint8  \n",
      " 73  self_employed_partner_Yes             10154 non-null  uint8  \n",
      " 74  gender_Male                           10154 non-null  uint8  \n",
      " 75  gender_Unknown                        10154 non-null  uint8  \n",
      " 76  region_East Anglia                    10154 non-null  uint8  \n",
      " 77  region_East Midlands                  10154 non-null  uint8  \n",
      " 78  region_Isle of Man                    10154 non-null  uint8  \n",
      " 79  region_North                          10154 non-null  uint8  \n",
      " 80  region_North West                     10154 non-null  uint8  \n",
      " 81  region_Northern Ireland               10154 non-null  uint8  \n",
      " 82  region_Scotland                       10154 non-null  uint8  \n",
      " 83  region_South East                     10154 non-null  uint8  \n",
      " 84  region_South West                     10154 non-null  uint8  \n",
      " 85  region_Unknown                        10154 non-null  uint8  \n",
      " 86  region_Wales                          10154 non-null  uint8  \n",
      " 87  region_West Midlands                  10154 non-null  uint8  \n",
      "dtypes: float64(15), int64(1), uint8(72)\n",
      "memory usage: 1.9 MB\n"
     ]
    }
   ],
   "source": [
    "data.info()"
   ]
  },
  {
   "cell_type": "code",
   "execution_count": 50,
   "metadata": {
    "colab": {
     "base_uri": "https://localhost:8080/"
    },
    "id": "zav9pMkjtfLl",
    "outputId": "0537d1e1-67ba-46cf-9089-0af7f4390906"
   },
   "outputs": [
    {
     "name": "stdout",
     "output_type": "stream",
     "text": [
      "The shape of data after all preprocessing  (10154, 88)\n"
     ]
    }
   ],
   "source": [
    "print('The shape of data after all preprocessing ',data.shape)"
   ]
  },
  {
   "cell_type": "markdown",
   "metadata": {
    "id": "3Ny5cFgltfLm"
   },
   "source": [
    "\n",
    "# Modelling Data Prep"
   ]
  },
  {
   "cell_type": "code",
   "execution_count": 51,
   "metadata": {
    "id": "cnwXCvl5tfLm"
   },
   "outputs": [],
   "source": [
    "#### Since its a classification problem, converting target column into 0/1s #####\n",
    "\n",
    "data.loc[data['Revenue Grid']==2,'Revenue Grid'] = 0 ## this replaces all the 2's with 0 ### making targets as 1 and 0 \n",
    "\n",
    "data.reset_index(drop=True,inplace=True)\n",
    "\n",
    "features_df = data.drop(['Revenue Grid'],axis=1)\n",
    "\n",
    "target_df = data['Revenue Grid']"
   ]
  },
  {
   "cell_type": "code",
   "execution_count": 52,
   "metadata": {
    "colab": {
     "base_uri": "https://localhost:8080/"
    },
    "id": "csg_XRWCZ-eP",
    "outputId": "71a8b5db-a225-4f79-f805-b76c3b29d918"
   },
   "outputs": [
    {
     "data": {
      "text/plain": [
       "0    9068\n",
       "1    1086\n",
       "Name: Revenue Grid, dtype: int64"
      ]
     },
     "execution_count": 52,
     "metadata": {},
     "output_type": "execute_result"
    }
   ],
   "source": [
    "data['Revenue Grid'].value_counts()"
   ]
  },
  {
   "cell_type": "code",
   "execution_count": 53,
   "metadata": {
    "colab": {
     "base_uri": "https://localhost:8080/"
    },
    "id": "3RRBRsOpaTpB",
    "outputId": "4308933b-8f16-4c78-e8f6-d507750ea4b6"
   },
   "outputs": [
    {
     "data": {
      "text/plain": [
       "(89.3, 10.7)"
      ]
     },
     "execution_count": 53,
     "metadata": {},
     "output_type": "execute_result"
    }
   ],
   "source": [
    "round((9068/(9068+1086)*100),2), round(((1086/(9068+1086))*100),2) ### Imbalance data between Revenue Grid"
   ]
  },
  {
   "cell_type": "code",
   "execution_count": 54,
   "metadata": {
    "colab": {
     "base_uri": "https://localhost:8080/"
    },
    "id": "otBuoOvyi2ff",
    "outputId": "990ff955-14eb-4e89-eecd-30ad1d53cab9"
   },
   "outputs": [
    {
     "data": {
      "text/plain": [
       "((10154, 87), (10154,))"
      ]
     },
     "execution_count": 54,
     "metadata": {},
     "output_type": "execute_result"
    }
   ],
   "source": [
    "features_df.shape, target_df.shape"
   ]
  },
  {
   "cell_type": "code",
   "execution_count": 55,
   "metadata": {
    "colab": {
     "base_uri": "https://localhost:8080/",
     "height": 334
    },
    "id": "ndEba9OLAtUk",
    "outputId": "7973bc38-a701-42cf-9d7e-32fd35eb96c9"
   },
   "outputs": [
    {
     "data": {
      "text/html": [
       "<div>\n",
       "<style scoped>\n",
       "    .dataframe tbody tr th:only-of-type {\n",
       "        vertical-align: middle;\n",
       "    }\n",
       "\n",
       "    .dataframe tbody tr th {\n",
       "        vertical-align: top;\n",
       "    }\n",
       "\n",
       "    .dataframe thead th {\n",
       "        text-align: right;\n",
       "    }\n",
       "</style>\n",
       "<table border=\"1\" class=\"dataframe\">\n",
       "  <thead>\n",
       "    <tr style=\"text-align: right;\">\n",
       "      <th></th>\n",
       "      <th>Average Credit Card Transaction</th>\n",
       "      <th>Balance Transfer</th>\n",
       "      <th>Term Deposit</th>\n",
       "      <th>Life Insurance</th>\n",
       "      <th>Medical Insurance</th>\n",
       "      <th>Average A/C Balance</th>\n",
       "      <th>Personal Loan</th>\n",
       "      <th>Investment in Mutual Fund</th>\n",
       "      <th>Investment Tax Saving Bond</th>\n",
       "      <th>Home Loan</th>\n",
       "      <th>...</th>\n",
       "      <th>region_Isle of Man</th>\n",
       "      <th>region_North</th>\n",
       "      <th>region_North West</th>\n",
       "      <th>region_Northern Ireland</th>\n",
       "      <th>region_Scotland</th>\n",
       "      <th>region_South East</th>\n",
       "      <th>region_South West</th>\n",
       "      <th>region_Unknown</th>\n",
       "      <th>region_Wales</th>\n",
       "      <th>region_West Midlands</th>\n",
       "    </tr>\n",
       "  </thead>\n",
       "  <tbody>\n",
       "    <tr>\n",
       "      <th>0</th>\n",
       "      <td>2.482124</td>\n",
       "      <td>1.340106</td>\n",
       "      <td>-0.517609</td>\n",
       "      <td>0.176186</td>\n",
       "      <td>-0.598809</td>\n",
       "      <td>-0.045165</td>\n",
       "      <td>-0.383372</td>\n",
       "      <td>0.340706</td>\n",
       "      <td>1.087487</td>\n",
       "      <td>-0.453848</td>\n",
       "      <td>...</td>\n",
       "      <td>0</td>\n",
       "      <td>0</td>\n",
       "      <td>0</td>\n",
       "      <td>0</td>\n",
       "      <td>0</td>\n",
       "      <td>0</td>\n",
       "      <td>0</td>\n",
       "      <td>0</td>\n",
       "      <td>1</td>\n",
       "      <td>0</td>\n",
       "    </tr>\n",
       "    <tr>\n",
       "      <th>1</th>\n",
       "      <td>-0.464410</td>\n",
       "      <td>0.400036</td>\n",
       "      <td>-0.517609</td>\n",
       "      <td>-0.439065</td>\n",
       "      <td>-0.598809</td>\n",
       "      <td>-0.712227</td>\n",
       "      <td>-0.383372</td>\n",
       "      <td>-0.720036</td>\n",
       "      <td>-0.478161</td>\n",
       "      <td>-0.453848</td>\n",
       "      <td>...</td>\n",
       "      <td>0</td>\n",
       "      <td>0</td>\n",
       "      <td>1</td>\n",
       "      <td>0</td>\n",
       "      <td>0</td>\n",
       "      <td>0</td>\n",
       "      <td>0</td>\n",
       "      <td>0</td>\n",
       "      <td>0</td>\n",
       "      <td>0</td>\n",
       "    </tr>\n",
       "    <tr>\n",
       "      <th>2</th>\n",
       "      <td>-0.464410</td>\n",
       "      <td>1.664989</td>\n",
       "      <td>-0.122341</td>\n",
       "      <td>2.478129</td>\n",
       "      <td>-0.238719</td>\n",
       "      <td>3.000992</td>\n",
       "      <td>-0.383372</td>\n",
       "      <td>-0.446247</td>\n",
       "      <td>-0.478161</td>\n",
       "      <td>-0.099627</td>\n",
       "      <td>...</td>\n",
       "      <td>0</td>\n",
       "      <td>1</td>\n",
       "      <td>0</td>\n",
       "      <td>0</td>\n",
       "      <td>0</td>\n",
       "      <td>0</td>\n",
       "      <td>0</td>\n",
       "      <td>0</td>\n",
       "      <td>0</td>\n",
       "      <td>0</td>\n",
       "    </tr>\n",
       "    <tr>\n",
       "      <th>3</th>\n",
       "      <td>-0.464410</td>\n",
       "      <td>-0.636988</td>\n",
       "      <td>-0.517609</td>\n",
       "      <td>-0.499524</td>\n",
       "      <td>-0.598809</td>\n",
       "      <td>0.165475</td>\n",
       "      <td>-0.383372</td>\n",
       "      <td>0.058013</td>\n",
       "      <td>-0.478161</td>\n",
       "      <td>-0.453848</td>\n",
       "      <td>...</td>\n",
       "      <td>0</td>\n",
       "      <td>0</td>\n",
       "      <td>0</td>\n",
       "      <td>0</td>\n",
       "      <td>0</td>\n",
       "      <td>0</td>\n",
       "      <td>0</td>\n",
       "      <td>0</td>\n",
       "      <td>0</td>\n",
       "      <td>1</td>\n",
       "    </tr>\n",
       "    <tr>\n",
       "      <th>4</th>\n",
       "      <td>0.993573</td>\n",
       "      <td>0.164638</td>\n",
       "      <td>-0.517609</td>\n",
       "      <td>1.225532</td>\n",
       "      <td>0.717027</td>\n",
       "      <td>0.165697</td>\n",
       "      <td>-0.217582</td>\n",
       "      <td>2.924330</td>\n",
       "      <td>-0.478161</td>\n",
       "      <td>4.205835</td>\n",
       "      <td>...</td>\n",
       "      <td>0</td>\n",
       "      <td>0</td>\n",
       "      <td>0</td>\n",
       "      <td>0</td>\n",
       "      <td>1</td>\n",
       "      <td>0</td>\n",
       "      <td>0</td>\n",
       "      <td>0</td>\n",
       "      <td>0</td>\n",
       "      <td>0</td>\n",
       "    </tr>\n",
       "  </tbody>\n",
       "</table>\n",
       "<p>5 rows × 87 columns</p>\n",
       "</div>"
      ],
      "text/plain": [
       "   Average Credit Card Transaction  Balance Transfer  Term Deposit  \\\n",
       "0                         2.482124          1.340106     -0.517609   \n",
       "1                        -0.464410          0.400036     -0.517609   \n",
       "2                        -0.464410          1.664989     -0.122341   \n",
       "3                        -0.464410         -0.636988     -0.517609   \n",
       "4                         0.993573          0.164638     -0.517609   \n",
       "\n",
       "   Life Insurance  Medical Insurance  Average A/C Balance  Personal Loan  \\\n",
       "0        0.176186          -0.598809            -0.045165      -0.383372   \n",
       "1       -0.439065          -0.598809            -0.712227      -0.383372   \n",
       "2        2.478129          -0.238719             3.000992      -0.383372   \n",
       "3       -0.499524          -0.598809             0.165475      -0.383372   \n",
       "4        1.225532           0.717027             0.165697      -0.217582   \n",
       "\n",
       "   Investment in Mutual Fund  Investment Tax Saving Bond  Home Loan  ...  \\\n",
       "0                   0.340706                    1.087487  -0.453848  ...   \n",
       "1                  -0.720036                   -0.478161  -0.453848  ...   \n",
       "2                  -0.446247                   -0.478161  -0.099627  ...   \n",
       "3                   0.058013                   -0.478161  -0.453848  ...   \n",
       "4                   2.924330                   -0.478161   4.205835  ...   \n",
       "\n",
       "   region_Isle of Man  region_North  region_North West  \\\n",
       "0                   0             0                  0   \n",
       "1                   0             0                  1   \n",
       "2                   0             1                  0   \n",
       "3                   0             0                  0   \n",
       "4                   0             0                  0   \n",
       "\n",
       "   region_Northern Ireland  region_Scotland  region_South East  \\\n",
       "0                        0                0                  0   \n",
       "1                        0                0                  0   \n",
       "2                        0                0                  0   \n",
       "3                        0                0                  0   \n",
       "4                        0                1                  0   \n",
       "\n",
       "   region_South West  region_Unknown  region_Wales  region_West Midlands  \n",
       "0                  0               0             1                     0  \n",
       "1                  0               0             0                     0  \n",
       "2                  0               0             0                     0  \n",
       "3                  0               0             0                     1  \n",
       "4                  0               0             0                     0  \n",
       "\n",
       "[5 rows x 87 columns]"
      ]
     },
     "execution_count": 55,
     "metadata": {},
     "output_type": "execute_result"
    }
   ],
   "source": [
    "features_df.head()"
   ]
  },
  {
   "cell_type": "code",
   "execution_count": 56,
   "metadata": {
    "id": "PH9h1JrbtfLm"
   },
   "outputs": [],
   "source": [
    "##### Creating a test set to validate the model ######\n",
    "\n",
    "#split_size = 0.2\n",
    "\n",
    "split_ins = StratifiedShuffleSplit(n_splits=5, random_state=2364)\n",
    "\n",
    "splits = split_ins.split(features_df,target_df) ### return the rows that should be in training set and rows that goes in validation set\n",
    "\n",
    "for train_index, val_index in splits:\n",
    "    features_train = features_df.iloc[train_index,:]   ## features for the training set\n",
    "    target_train = target_df[train_index]    ##### target values for the training set\n",
    "    features_val = features_df.iloc[val_index,:]   #### features for the validation set\n",
    "    target_val = target_df[val_index]            #### targets for the validation set"
   ]
  },
  {
   "cell_type": "code",
   "execution_count": 57,
   "metadata": {
    "colab": {
     "base_uri": "https://localhost:8080/"
    },
    "id": "Eh-7OOm1tfLn",
    "outputId": "6a78601a-e2c5-4a6e-9c95-bf6fe7cfbc94"
   },
   "outputs": [
    {
     "data": {
      "text/plain": [
       "((9138, 87), (1016, 87), (9138,), (1016,))"
      ]
     },
     "execution_count": 57,
     "metadata": {},
     "output_type": "execute_result"
    }
   ],
   "source": [
    "features_train.shape,features_val.shape,target_train.shape,target_val.shape"
   ]
  },
  {
   "cell_type": "code",
   "execution_count": 73,
   "metadata": {
    "colab": {
     "base_uri": "https://localhost:8080/"
    },
    "id": "ADb3MbLxaJGv",
    "outputId": "64e1ae79-ebf7-4746-cce6-672a5d68d225"
   },
   "outputs": [
    {
     "data": {
      "text/plain": [
       "0    907\n",
       "1    109\n",
       "Name: Revenue Grid, dtype: int64"
      ]
     },
     "execution_count": 73,
     "metadata": {},
     "output_type": "execute_result"
    }
   ],
   "source": [
    "target_val.value_counts()"
   ]
  },
  {
   "cell_type": "code",
   "execution_count": 59,
   "metadata": {
    "id": "hy0r4NbnrTOI"
   },
   "outputs": [],
   "source": [
    "features_train.reset_index(drop=True, inplace=True)\n",
    "target_train.reset_index(drop=True, inplace=True)\n",
    "features_val.reset_index(drop=True, inplace=True)\n",
    "target_val.reset_index(drop=True, inplace=True)"
   ]
  },
  {
   "cell_type": "markdown",
   "metadata": {
    "id": "Mq05OBNWtfLn"
   },
   "source": [
    "# Modelling"
   ]
  },
  {
   "cell_type": "code",
   "execution_count": 60,
   "metadata": {
    "id": "2qtx8YqJtfLn"
   },
   "outputs": [],
   "source": [
    "### logistic regression model ####\n",
    "LR_model = LogisticRegression(class_weight = 'balanced',max_iter=200, random_state=2000) "
   ]
  },
  {
   "cell_type": "code",
   "execution_count": 61,
   "metadata": {
    "colab": {
     "base_uri": "https://localhost:8080/"
    },
    "id": "qHPQA3ywfAzR",
    "outputId": "f6ab0d0a-6562-43c5-f4b4-dea3a24b430b"
   },
   "outputs": [
    {
     "data": {
      "text/html": [
       "<style>#sk-container-id-1 {color: black;background-color: white;}#sk-container-id-1 pre{padding: 0;}#sk-container-id-1 div.sk-toggleable {background-color: white;}#sk-container-id-1 label.sk-toggleable__label {cursor: pointer;display: block;width: 100%;margin-bottom: 0;padding: 0.3em;box-sizing: border-box;text-align: center;}#sk-container-id-1 label.sk-toggleable__label-arrow:before {content: \"▸\";float: left;margin-right: 0.25em;color: #696969;}#sk-container-id-1 label.sk-toggleable__label-arrow:hover:before {color: black;}#sk-container-id-1 div.sk-estimator:hover label.sk-toggleable__label-arrow:before {color: black;}#sk-container-id-1 div.sk-toggleable__content {max-height: 0;max-width: 0;overflow: hidden;text-align: left;background-color: #f0f8ff;}#sk-container-id-1 div.sk-toggleable__content pre {margin: 0.2em;color: black;border-radius: 0.25em;background-color: #f0f8ff;}#sk-container-id-1 input.sk-toggleable__control:checked~div.sk-toggleable__content {max-height: 200px;max-width: 100%;overflow: auto;}#sk-container-id-1 input.sk-toggleable__control:checked~label.sk-toggleable__label-arrow:before {content: \"▾\";}#sk-container-id-1 div.sk-estimator input.sk-toggleable__control:checked~label.sk-toggleable__label {background-color: #d4ebff;}#sk-container-id-1 div.sk-label input.sk-toggleable__control:checked~label.sk-toggleable__label {background-color: #d4ebff;}#sk-container-id-1 input.sk-hidden--visually {border: 0;clip: rect(1px 1px 1px 1px);clip: rect(1px, 1px, 1px, 1px);height: 1px;margin: -1px;overflow: hidden;padding: 0;position: absolute;width: 1px;}#sk-container-id-1 div.sk-estimator {font-family: monospace;background-color: #f0f8ff;border: 1px dotted black;border-radius: 0.25em;box-sizing: border-box;margin-bottom: 0.5em;}#sk-container-id-1 div.sk-estimator:hover {background-color: #d4ebff;}#sk-container-id-1 div.sk-parallel-item::after {content: \"\";width: 100%;border-bottom: 1px solid gray;flex-grow: 1;}#sk-container-id-1 div.sk-label:hover label.sk-toggleable__label {background-color: #d4ebff;}#sk-container-id-1 div.sk-serial::before {content: \"\";position: absolute;border-left: 1px solid gray;box-sizing: border-box;top: 0;bottom: 0;left: 50%;z-index: 0;}#sk-container-id-1 div.sk-serial {display: flex;flex-direction: column;align-items: center;background-color: white;padding-right: 0.2em;padding-left: 0.2em;position: relative;}#sk-container-id-1 div.sk-item {position: relative;z-index: 1;}#sk-container-id-1 div.sk-parallel {display: flex;align-items: stretch;justify-content: center;background-color: white;position: relative;}#sk-container-id-1 div.sk-item::before, #sk-container-id-1 div.sk-parallel-item::before {content: \"\";position: absolute;border-left: 1px solid gray;box-sizing: border-box;top: 0;bottom: 0;left: 50%;z-index: -1;}#sk-container-id-1 div.sk-parallel-item {display: flex;flex-direction: column;z-index: 1;position: relative;background-color: white;}#sk-container-id-1 div.sk-parallel-item:first-child::after {align-self: flex-end;width: 50%;}#sk-container-id-1 div.sk-parallel-item:last-child::after {align-self: flex-start;width: 50%;}#sk-container-id-1 div.sk-parallel-item:only-child::after {width: 0;}#sk-container-id-1 div.sk-dashed-wrapped {border: 1px dashed gray;margin: 0 0.4em 0.5em 0.4em;box-sizing: border-box;padding-bottom: 0.4em;background-color: white;}#sk-container-id-1 div.sk-label label {font-family: monospace;font-weight: bold;display: inline-block;line-height: 1.2em;}#sk-container-id-1 div.sk-label-container {text-align: center;}#sk-container-id-1 div.sk-container {/* jupyter's `normalize.less` sets `[hidden] { display: none; }` but bootstrap.min.css set `[hidden] { display: none !important; }` so we also need the `!important` here to be able to override the default hidden behavior on the sphinx rendered scikit-learn.org. See: https://github.com/scikit-learn/scikit-learn/issues/21755 */display: inline-block !important;position: relative;}#sk-container-id-1 div.sk-text-repr-fallback {display: none;}</style><div id=\"sk-container-id-1\" class=\"sk-top-container\"><div class=\"sk-text-repr-fallback\"><pre>LogisticRegression(class_weight=&#x27;balanced&#x27;, max_iter=200, random_state=2000)</pre><b>In a Jupyter environment, please rerun this cell to show the HTML representation or trust the notebook. <br />On GitHub, the HTML representation is unable to render, please try loading this page with nbviewer.org.</b></div><div class=\"sk-container\" hidden><div class=\"sk-item\"><div class=\"sk-estimator sk-toggleable\"><input class=\"sk-toggleable__control sk-hidden--visually\" id=\"sk-estimator-id-1\" type=\"checkbox\" checked><label for=\"sk-estimator-id-1\" class=\"sk-toggleable__label sk-toggleable__label-arrow\">LogisticRegression</label><div class=\"sk-toggleable__content\"><pre>LogisticRegression(class_weight=&#x27;balanced&#x27;, max_iter=200, random_state=2000)</pre></div></div></div></div></div>"
      ],
      "text/plain": [
       "LogisticRegression(class_weight='balanced', max_iter=200, random_state=2000)"
      ]
     },
     "execution_count": 61,
     "metadata": {},
     "output_type": "execute_result"
    }
   ],
   "source": [
    "LR_model"
   ]
  },
  {
   "cell_type": "code",
   "execution_count": 62,
   "metadata": {
    "colab": {
     "base_uri": "https://localhost:8080/"
    },
    "id": "kYylWboStfLn",
    "outputId": "4d1ecc50-3145-410a-fa65-1c70b1c475bd"
   },
   "outputs": [
    {
     "data": {
      "text/html": [
       "<style>#sk-container-id-2 {color: black;background-color: white;}#sk-container-id-2 pre{padding: 0;}#sk-container-id-2 div.sk-toggleable {background-color: white;}#sk-container-id-2 label.sk-toggleable__label {cursor: pointer;display: block;width: 100%;margin-bottom: 0;padding: 0.3em;box-sizing: border-box;text-align: center;}#sk-container-id-2 label.sk-toggleable__label-arrow:before {content: \"▸\";float: left;margin-right: 0.25em;color: #696969;}#sk-container-id-2 label.sk-toggleable__label-arrow:hover:before {color: black;}#sk-container-id-2 div.sk-estimator:hover label.sk-toggleable__label-arrow:before {color: black;}#sk-container-id-2 div.sk-toggleable__content {max-height: 0;max-width: 0;overflow: hidden;text-align: left;background-color: #f0f8ff;}#sk-container-id-2 div.sk-toggleable__content pre {margin: 0.2em;color: black;border-radius: 0.25em;background-color: #f0f8ff;}#sk-container-id-2 input.sk-toggleable__control:checked~div.sk-toggleable__content {max-height: 200px;max-width: 100%;overflow: auto;}#sk-container-id-2 input.sk-toggleable__control:checked~label.sk-toggleable__label-arrow:before {content: \"▾\";}#sk-container-id-2 div.sk-estimator input.sk-toggleable__control:checked~label.sk-toggleable__label {background-color: #d4ebff;}#sk-container-id-2 div.sk-label input.sk-toggleable__control:checked~label.sk-toggleable__label {background-color: #d4ebff;}#sk-container-id-2 input.sk-hidden--visually {border: 0;clip: rect(1px 1px 1px 1px);clip: rect(1px, 1px, 1px, 1px);height: 1px;margin: -1px;overflow: hidden;padding: 0;position: absolute;width: 1px;}#sk-container-id-2 div.sk-estimator {font-family: monospace;background-color: #f0f8ff;border: 1px dotted black;border-radius: 0.25em;box-sizing: border-box;margin-bottom: 0.5em;}#sk-container-id-2 div.sk-estimator:hover {background-color: #d4ebff;}#sk-container-id-2 div.sk-parallel-item::after {content: \"\";width: 100%;border-bottom: 1px solid gray;flex-grow: 1;}#sk-container-id-2 div.sk-label:hover label.sk-toggleable__label {background-color: #d4ebff;}#sk-container-id-2 div.sk-serial::before {content: \"\";position: absolute;border-left: 1px solid gray;box-sizing: border-box;top: 0;bottom: 0;left: 50%;z-index: 0;}#sk-container-id-2 div.sk-serial {display: flex;flex-direction: column;align-items: center;background-color: white;padding-right: 0.2em;padding-left: 0.2em;position: relative;}#sk-container-id-2 div.sk-item {position: relative;z-index: 1;}#sk-container-id-2 div.sk-parallel {display: flex;align-items: stretch;justify-content: center;background-color: white;position: relative;}#sk-container-id-2 div.sk-item::before, #sk-container-id-2 div.sk-parallel-item::before {content: \"\";position: absolute;border-left: 1px solid gray;box-sizing: border-box;top: 0;bottom: 0;left: 50%;z-index: -1;}#sk-container-id-2 div.sk-parallel-item {display: flex;flex-direction: column;z-index: 1;position: relative;background-color: white;}#sk-container-id-2 div.sk-parallel-item:first-child::after {align-self: flex-end;width: 50%;}#sk-container-id-2 div.sk-parallel-item:last-child::after {align-self: flex-start;width: 50%;}#sk-container-id-2 div.sk-parallel-item:only-child::after {width: 0;}#sk-container-id-2 div.sk-dashed-wrapped {border: 1px dashed gray;margin: 0 0.4em 0.5em 0.4em;box-sizing: border-box;padding-bottom: 0.4em;background-color: white;}#sk-container-id-2 div.sk-label label {font-family: monospace;font-weight: bold;display: inline-block;line-height: 1.2em;}#sk-container-id-2 div.sk-label-container {text-align: center;}#sk-container-id-2 div.sk-container {/* jupyter's `normalize.less` sets `[hidden] { display: none; }` but bootstrap.min.css set `[hidden] { display: none !important; }` so we also need the `!important` here to be able to override the default hidden behavior on the sphinx rendered scikit-learn.org. See: https://github.com/scikit-learn/scikit-learn/issues/21755 */display: inline-block !important;position: relative;}#sk-container-id-2 div.sk-text-repr-fallback {display: none;}</style><div id=\"sk-container-id-2\" class=\"sk-top-container\"><div class=\"sk-text-repr-fallback\"><pre>LogisticRegression(class_weight=&#x27;balanced&#x27;, max_iter=200, random_state=2000)</pre><b>In a Jupyter environment, please rerun this cell to show the HTML representation or trust the notebook. <br />On GitHub, the HTML representation is unable to render, please try loading this page with nbviewer.org.</b></div><div class=\"sk-container\" hidden><div class=\"sk-item\"><div class=\"sk-estimator sk-toggleable\"><input class=\"sk-toggleable__control sk-hidden--visually\" id=\"sk-estimator-id-2\" type=\"checkbox\" checked><label for=\"sk-estimator-id-2\" class=\"sk-toggleable__label sk-toggleable__label-arrow\">LogisticRegression</label><div class=\"sk-toggleable__content\"><pre>LogisticRegression(class_weight=&#x27;balanced&#x27;, max_iter=200, random_state=2000)</pre></div></div></div></div></div>"
      ],
      "text/plain": [
       "LogisticRegression(class_weight='balanced', max_iter=200, random_state=2000)"
      ]
     },
     "execution_count": 62,
     "metadata": {},
     "output_type": "execute_result"
    }
   ],
   "source": [
    "### Fitting the model ####\n",
    "\n",
    "LR_model.fit(features_train,target_train)"
   ]
  },
  {
   "cell_type": "code",
   "execution_count": 65,
   "metadata": {
    "colab": {
     "base_uri": "https://localhost:8080/"
    },
    "id": "NxFqOxTEp0yx",
    "outputId": "d2de54d3-1676-4ae6-c4e5-dd4e55217791",
    "scrolled": true
   },
   "outputs": [
    {
     "data": {
      "text/plain": [
       "{'Average Credit Card Transaction': 1.1276876031820238,\n",
       " 'Balance Transfer': -0.47447260291927246,\n",
       " 'Term Deposit': -1.062557879967702,\n",
       " 'Life Insurance': 1.2659088570520292,\n",
       " 'Medical Insurance': -0.36345584663571084,\n",
       " 'Average A/C Balance': -0.1633626285971397,\n",
       " 'Personal Loan': -2.1536803728318765,\n",
       " 'Investment in Mutual Fund': 0.0037125009541886913,\n",
       " 'Investment Tax Saving Bond': 1.146522926945977,\n",
       " 'Home Loan': -0.7718371507721002,\n",
       " 'Online Purchase Amount': 3.9611197370364275,\n",
       " 'Investment in Commudity': 0.3142042867596878,\n",
       " 'Investment in Equity': 0.26264421081087763,\n",
       " 'Investment in Derivative': -0.05540467092359169,\n",
       " 'Portfolio Balance': -0.09950639159810473,\n",
       " 'chidren_1': 0.2637558705444524,\n",
       " 'chidren_2': -0.08340418126704395,\n",
       " 'chidren_3': -0.08116021018272647,\n",
       " 'chidren_Zero': -0.08974500441377017,\n",
       " 'age_band_18-21': 0.44654449333021456,\n",
       " 'age_band_22-25': -0.45216601943563284,\n",
       " 'age_band_26-30': 0.12977810661024558,\n",
       " 'age_band_31-35': -0.16479362307865994,\n",
       " 'age_band_36-40': -0.2089953318420842,\n",
       " 'age_band_41-45': -0.35184151861192015,\n",
       " 'age_band_45-50': 0.12090997656467241,\n",
       " 'age_band_51-55': -0.09184662197084507,\n",
       " 'age_band_55-60': -0.16166011895569818,\n",
       " 'age_band_61-65': 0.17609916926537253,\n",
       " 'age_band_65-70': 0.0029335791032306362,\n",
       " 'age_band_71+': 0.5422018176653927,\n",
       " 'age_band_Unknown': 0.022282566036629158,\n",
       " 'status_Divorced/Separated': -0.1631844624807242,\n",
       " 'status_Partner': 0.1666840170880872,\n",
       " 'status_Single/Never Married': 0.0028278410926243676,\n",
       " 'status_Unknown': 0.5391055625057259,\n",
       " 'status_Widowed': -0.5359864835247993,\n",
       " 'occupation_Housewife': -0.24944746042771063,\n",
       " 'occupation_Manual Worker': 0.3515045021118493,\n",
       " 'occupation_Other': 0.1914389538187246,\n",
       " 'occupation_Professional': -0.04655829536466333,\n",
       " 'occupation_Retired': 0.04571275623904061,\n",
       " 'occupation_Secretarial/Admin': 0.033426332797884144,\n",
       " 'occupation_Student': -0.22484561245132992,\n",
       " 'occupation_Unknown': 0.32725682586050625,\n",
       " 'occupation_partner_Housewife': -0.5187632695944047,\n",
       " 'occupation_partner_Manual Worker': 0.10480391259892545,\n",
       " 'occupation_partner_Other': -0.007544111972855768,\n",
       " 'occupation_partner_Professional': 0.1356378782660488,\n",
       " 'occupation_partner_Retired': -0.3043857052544362,\n",
       " 'occupation_partner_Secretarial/Admin': 0.16697506306821633,\n",
       " 'occupation_partner_Student': 0.3744766361659565,\n",
       " 'occupation_partner_Unknown': 0.15007874851903388,\n",
       " 'home_status_Live in Parental Hom': -0.9238576606489468,\n",
       " 'home_status_Own Home': 0.1609242685844989,\n",
       " 'home_status_Rent Privately': 0.13123140453662868,\n",
       " 'home_status_Rent from Council/HA': 0.2259453347090244,\n",
       " 'home_status_Unclassified': 0.41520312749970334,\n",
       " 'income_< 4,000': -0.12649176537133505,\n",
       " 'income_< 8,000, >= 4,000': -0.29348322802745874,\n",
       " 'income_<10,000, >= 8,000': 0.21730795039357712,\n",
       " 'income_<12,500, >=10,000': 0.26016541172204843,\n",
       " 'income_<15,000, >=12,500': 0.10885672783543977,\n",
       " 'income_<17,500, >=15,000': 0.023686891263896368,\n",
       " 'income_<20,000, >=17,500': 0.1823897518730969,\n",
       " 'income_<22,500, >=20,000': 0.17557817403557607,\n",
       " 'income_<25,000, >=22,500': 0.17338920266298305,\n",
       " 'income_<27,500, >=25,000': 0.08219249891295811,\n",
       " 'income_<30,000, >=27,500': 0.30283016681567876,\n",
       " 'income_>=35,000': 0.043050402638832884,\n",
       " 'income_Unknown': -1.1400257100743698,\n",
       " 'self_employed_Yes': 0.28044696418897835,\n",
       " 'self_employed_partner_Yes': 0.11793961143926132,\n",
       " 'gender_Male': 0.3427305494374127,\n",
       " 'gender_Unknown': 1.1137215845636796,\n",
       " 'region_East Anglia': 0.11924029245980766,\n",
       " 'region_East Midlands': 0.1319392351695114,\n",
       " 'region_Isle of Man': -0.7776558780335375,\n",
       " 'region_North': -0.11849823557708641,\n",
       " 'region_North West': 0.1382108921467317,\n",
       " 'region_Northern Ireland': 0.02569783134849156,\n",
       " 'region_Scotland': 0.36738207103268394,\n",
       " 'region_South East': -0.09977260470134312,\n",
       " 'region_South West': 0.14884059625663892,\n",
       " 'region_Unknown': 0.19048403866187996,\n",
       " 'region_Wales': -0.01774421871154256,\n",
       " 'region_West Midlands': 0.048223074262228466}"
      ]
     },
     "execution_count": 65,
     "metadata": {},
     "output_type": "execute_result"
    }
   ],
   "source": [
    "dict(zip(list(features_df.columns), list(LR_model.coef_[0])))"
   ]
  },
  {
   "cell_type": "code",
   "execution_count": 66,
   "metadata": {
    "id": "9Mi73YW--Pzu"
   },
   "outputs": [],
   "source": [
    "prediction_train = pd.DataFrame(LR_model.predict_proba(features_train)) #### give me the predicted probabilities on features_train"
   ]
  },
  {
   "cell_type": "code",
   "execution_count": 67,
   "metadata": {},
   "outputs": [
    {
     "data": {
      "text/html": [
       "<div>\n",
       "<style scoped>\n",
       "    .dataframe tbody tr th:only-of-type {\n",
       "        vertical-align: middle;\n",
       "    }\n",
       "\n",
       "    .dataframe tbody tr th {\n",
       "        vertical-align: top;\n",
       "    }\n",
       "\n",
       "    .dataframe thead th {\n",
       "        text-align: right;\n",
       "    }\n",
       "</style>\n",
       "<table border=\"1\" class=\"dataframe\">\n",
       "  <thead>\n",
       "    <tr style=\"text-align: right;\">\n",
       "      <th></th>\n",
       "      <th>0</th>\n",
       "      <th>1</th>\n",
       "    </tr>\n",
       "  </thead>\n",
       "  <tbody>\n",
       "    <tr>\n",
       "      <th>0</th>\n",
       "      <td>0.479966</td>\n",
       "      <td>5.200339e-01</td>\n",
       "    </tr>\n",
       "    <tr>\n",
       "      <th>1</th>\n",
       "      <td>0.999999</td>\n",
       "      <td>7.826262e-07</td>\n",
       "    </tr>\n",
       "    <tr>\n",
       "      <th>2</th>\n",
       "      <td>0.961750</td>\n",
       "      <td>3.825043e-02</td>\n",
       "    </tr>\n",
       "    <tr>\n",
       "      <th>3</th>\n",
       "      <td>0.961566</td>\n",
       "      <td>3.843357e-02</td>\n",
       "    </tr>\n",
       "    <tr>\n",
       "      <th>4</th>\n",
       "      <td>0.788871</td>\n",
       "      <td>2.111289e-01</td>\n",
       "    </tr>\n",
       "    <tr>\n",
       "      <th>...</th>\n",
       "      <td>...</td>\n",
       "      <td>...</td>\n",
       "    </tr>\n",
       "    <tr>\n",
       "      <th>9133</th>\n",
       "      <td>0.928133</td>\n",
       "      <td>7.186694e-02</td>\n",
       "    </tr>\n",
       "    <tr>\n",
       "      <th>9134</th>\n",
       "      <td>0.935667</td>\n",
       "      <td>6.433260e-02</td>\n",
       "    </tr>\n",
       "    <tr>\n",
       "      <th>9135</th>\n",
       "      <td>0.785294</td>\n",
       "      <td>2.147061e-01</td>\n",
       "    </tr>\n",
       "    <tr>\n",
       "      <th>9136</th>\n",
       "      <td>0.954509</td>\n",
       "      <td>4.549135e-02</td>\n",
       "    </tr>\n",
       "    <tr>\n",
       "      <th>9137</th>\n",
       "      <td>0.903007</td>\n",
       "      <td>9.699268e-02</td>\n",
       "    </tr>\n",
       "  </tbody>\n",
       "</table>\n",
       "<p>9138 rows × 2 columns</p>\n",
       "</div>"
      ],
      "text/plain": [
       "             0             1\n",
       "0     0.479966  5.200339e-01\n",
       "1     0.999999  7.826262e-07\n",
       "2     0.961750  3.825043e-02\n",
       "3     0.961566  3.843357e-02\n",
       "4     0.788871  2.111289e-01\n",
       "...        ...           ...\n",
       "9133  0.928133  7.186694e-02\n",
       "9134  0.935667  6.433260e-02\n",
       "9135  0.785294  2.147061e-01\n",
       "9136  0.954509  4.549135e-02\n",
       "9137  0.903007  9.699268e-02\n",
       "\n",
       "[9138 rows x 2 columns]"
      ]
     },
     "execution_count": 67,
     "metadata": {},
     "output_type": "execute_result"
    }
   ],
   "source": [
    "prediction_train"
   ]
  },
  {
   "cell_type": "code",
   "execution_count": 68,
   "metadata": {
    "id": "c8uGFGgLuqVL"
   },
   "outputs": [],
   "source": [
    "predictions = LR_model.predict(features_train) ### applies a threshold of 0.5"
   ]
  },
  {
   "cell_type": "code",
   "execution_count": 69,
   "metadata": {},
   "outputs": [
    {
     "data": {
      "text/plain": [
       "array([1, 0, 0, ..., 0, 0, 0], dtype=int64)"
      ]
     },
     "execution_count": 69,
     "metadata": {},
     "output_type": "execute_result"
    }
   ],
   "source": [
    "predictions"
   ]
  },
  {
   "cell_type": "code",
   "execution_count": null,
   "metadata": {
    "colab": {
     "base_uri": "https://localhost:8080/",
     "height": 352
    },
    "id": "0vcmOxw2tfLn",
    "outputId": "07c4af9b-3c45-467e-c0e1-cfefbbe6e3b2"
   },
   "outputs": [],
   "source": [
    "#### Plotting the roc curve for the model fit ####\n",
    "\n",
    "plot_roc_curve(LR_model,X =features_train, y= target_train)"
   ]
  },
  {
   "cell_type": "code",
   "execution_count": 70,
   "metadata": {
    "colab": {
     "base_uri": "https://localhost:8080/"
    },
    "id": "v8wlitG7tfLo",
    "outputId": "157b6f06-8582-44fb-e979-8421c797c17b"
   },
   "outputs": [
    {
     "name": "stdout",
     "output_type": "stream",
     "text": [
      "[[7446  715]\n",
      " [  97  880]]\n",
      "The F1-SCORE on the train set prediction  0.6842923794712286\n"
     ]
    }
   ],
   "source": [
    "### Getting confusion matrix, F-score on the train data #####\n",
    "\n",
    "print(confusion_matrix(y_true = target_train, y_pred = LR_model.predict(features_train))) ### confusion matrix for pred on train set\n",
    "\n",
    "print ('The F1-SCORE on the train set prediction ',f1_score(y_true=target_train, y_pred = LR_model.predict(features_train)))"
   ]
  },
  {
   "cell_type": "code",
   "execution_count": null,
   "metadata": {
    "colab": {
     "base_uri": "https://localhost:8080/"
    },
    "id": "ZpjAmbj4txp5",
    "outputId": "3284f560-6e53-4469-bb4e-607ca1156357"
   },
   "outputs": [],
   "source": [
    "LR_model.predict(features_train)"
   ]
  },
  {
   "cell_type": "code",
   "execution_count": 74,
   "metadata": {
    "colab": {
     "base_uri": "https://localhost:8080/"
    },
    "id": "OO1yNKwCtfLo",
    "outputId": "8bf375c5-c144-43ba-91bb-41acf9947d34"
   },
   "outputs": [
    {
     "name": "stdout",
     "output_type": "stream",
     "text": [
      "[[830  77]\n",
      " [  9 100]]\n",
      "The F1-SCORE on the test set prediction  0.6993006993006994\n"
     ]
    }
   ],
   "source": [
    "##### Evaluating the performace on the test set #####\n",
    "\n",
    "predicted_val = LR_model.predict(features_val)\n",
    "\n",
    "print (confusion_matrix(y_true = target_val, y_pred = predicted_val))\n",
    "\n",
    "print ('The F1-SCORE on the test set prediction ',f1_score(y_true=target_val,y_pred = predicted_val))"
   ]
  },
  {
   "cell_type": "code",
   "execution_count": 75,
   "metadata": {
    "colab": {
     "base_uri": "https://localhost:8080/"
    },
    "id": "PQarbAcIB7PH",
    "outputId": "00b7e2ac-67ff-4e9f-baa0-9301516004b6"
   },
   "outputs": [
    {
     "data": {
      "text/html": [
       "<style>#sk-container-id-3 {color: black;background-color: white;}#sk-container-id-3 pre{padding: 0;}#sk-container-id-3 div.sk-toggleable {background-color: white;}#sk-container-id-3 label.sk-toggleable__label {cursor: pointer;display: block;width: 100%;margin-bottom: 0;padding: 0.3em;box-sizing: border-box;text-align: center;}#sk-container-id-3 label.sk-toggleable__label-arrow:before {content: \"▸\";float: left;margin-right: 0.25em;color: #696969;}#sk-container-id-3 label.sk-toggleable__label-arrow:hover:before {color: black;}#sk-container-id-3 div.sk-estimator:hover label.sk-toggleable__label-arrow:before {color: black;}#sk-container-id-3 div.sk-toggleable__content {max-height: 0;max-width: 0;overflow: hidden;text-align: left;background-color: #f0f8ff;}#sk-container-id-3 div.sk-toggleable__content pre {margin: 0.2em;color: black;border-radius: 0.25em;background-color: #f0f8ff;}#sk-container-id-3 input.sk-toggleable__control:checked~div.sk-toggleable__content {max-height: 200px;max-width: 100%;overflow: auto;}#sk-container-id-3 input.sk-toggleable__control:checked~label.sk-toggleable__label-arrow:before {content: \"▾\";}#sk-container-id-3 div.sk-estimator input.sk-toggleable__control:checked~label.sk-toggleable__label {background-color: #d4ebff;}#sk-container-id-3 div.sk-label input.sk-toggleable__control:checked~label.sk-toggleable__label {background-color: #d4ebff;}#sk-container-id-3 input.sk-hidden--visually {border: 0;clip: rect(1px 1px 1px 1px);clip: rect(1px, 1px, 1px, 1px);height: 1px;margin: -1px;overflow: hidden;padding: 0;position: absolute;width: 1px;}#sk-container-id-3 div.sk-estimator {font-family: monospace;background-color: #f0f8ff;border: 1px dotted black;border-radius: 0.25em;box-sizing: border-box;margin-bottom: 0.5em;}#sk-container-id-3 div.sk-estimator:hover {background-color: #d4ebff;}#sk-container-id-3 div.sk-parallel-item::after {content: \"\";width: 100%;border-bottom: 1px solid gray;flex-grow: 1;}#sk-container-id-3 div.sk-label:hover label.sk-toggleable__label {background-color: #d4ebff;}#sk-container-id-3 div.sk-serial::before {content: \"\";position: absolute;border-left: 1px solid gray;box-sizing: border-box;top: 0;bottom: 0;left: 50%;z-index: 0;}#sk-container-id-3 div.sk-serial {display: flex;flex-direction: column;align-items: center;background-color: white;padding-right: 0.2em;padding-left: 0.2em;position: relative;}#sk-container-id-3 div.sk-item {position: relative;z-index: 1;}#sk-container-id-3 div.sk-parallel {display: flex;align-items: stretch;justify-content: center;background-color: white;position: relative;}#sk-container-id-3 div.sk-item::before, #sk-container-id-3 div.sk-parallel-item::before {content: \"\";position: absolute;border-left: 1px solid gray;box-sizing: border-box;top: 0;bottom: 0;left: 50%;z-index: -1;}#sk-container-id-3 div.sk-parallel-item {display: flex;flex-direction: column;z-index: 1;position: relative;background-color: white;}#sk-container-id-3 div.sk-parallel-item:first-child::after {align-self: flex-end;width: 50%;}#sk-container-id-3 div.sk-parallel-item:last-child::after {align-self: flex-start;width: 50%;}#sk-container-id-3 div.sk-parallel-item:only-child::after {width: 0;}#sk-container-id-3 div.sk-dashed-wrapped {border: 1px dashed gray;margin: 0 0.4em 0.5em 0.4em;box-sizing: border-box;padding-bottom: 0.4em;background-color: white;}#sk-container-id-3 div.sk-label label {font-family: monospace;font-weight: bold;display: inline-block;line-height: 1.2em;}#sk-container-id-3 div.sk-label-container {text-align: center;}#sk-container-id-3 div.sk-container {/* jupyter's `normalize.less` sets `[hidden] { display: none; }` but bootstrap.min.css set `[hidden] { display: none !important; }` so we also need the `!important` here to be able to override the default hidden behavior on the sphinx rendered scikit-learn.org. See: https://github.com/scikit-learn/scikit-learn/issues/21755 */display: inline-block !important;position: relative;}#sk-container-id-3 div.sk-text-repr-fallback {display: none;}</style><div id=\"sk-container-id-3\" class=\"sk-top-container\"><div class=\"sk-text-repr-fallback\"><pre>DecisionTreeClassifier(class_weight=&#x27;balanced&#x27;, max_depth=5,\n",
       "                       min_samples_split=25)</pre><b>In a Jupyter environment, please rerun this cell to show the HTML representation or trust the notebook. <br />On GitHub, the HTML representation is unable to render, please try loading this page with nbviewer.org.</b></div><div class=\"sk-container\" hidden><div class=\"sk-item\"><div class=\"sk-estimator sk-toggleable\"><input class=\"sk-toggleable__control sk-hidden--visually\" id=\"sk-estimator-id-3\" type=\"checkbox\" checked><label for=\"sk-estimator-id-3\" class=\"sk-toggleable__label sk-toggleable__label-arrow\">DecisionTreeClassifier</label><div class=\"sk-toggleable__content\"><pre>DecisionTreeClassifier(class_weight=&#x27;balanced&#x27;, max_depth=5,\n",
       "                       min_samples_split=25)</pre></div></div></div></div></div>"
      ],
      "text/plain": [
       "DecisionTreeClassifier(class_weight='balanced', max_depth=5,\n",
       "                       min_samples_split=25)"
      ]
     },
     "execution_count": 75,
     "metadata": {},
     "output_type": "execute_result"
    }
   ],
   "source": [
    "##### fitting a decision tree #####\n",
    "\n",
    "clf = DecisionTreeClassifier(class_weight ='balanced',\n",
    "                             max_depth = 5, \n",
    "                             criterion = 'gini',\n",
    "                             min_samples_split=25)\n",
    "\n",
    "clf.fit(features_train,target_train)"
   ]
  },
  {
   "cell_type": "code",
   "execution_count": 76,
   "metadata": {
    "colab": {
     "base_uri": "https://localhost:8080/"
    },
    "id": "hH5plhDbNGYC",
    "outputId": "56593d88-33d4-437e-97e1-56a50a46d9db"
   },
   "outputs": [
    {
     "data": {
      "text/plain": [
       "array([0, 0, 0, ..., 0, 0, 0], dtype=int64)"
      ]
     },
     "execution_count": 76,
     "metadata": {},
     "output_type": "execute_result"
    }
   ],
   "source": [
    "clf.predict(features_train) "
   ]
  },
  {
   "cell_type": "code",
   "execution_count": 77,
   "metadata": {
    "colab": {
     "base_uri": "https://localhost:8080/"
    },
    "id": "i-rBR5ljB30u",
    "outputId": "c5ede67f-28a1-451e-bc75-49c1fa926b9f"
   },
   "outputs": [
    {
     "data": {
      "text/plain": [
       "array([0, 0, 0, ..., 0, 0, 0], dtype=int64)"
      ]
     },
     "execution_count": 77,
     "metadata": {},
     "output_type": "execute_result"
    }
   ],
   "source": [
    "clf.predict(features_val)"
   ]
  },
  {
   "cell_type": "code",
   "execution_count": 78,
   "metadata": {
    "colab": {
     "base_uri": "https://localhost:8080/"
    },
    "id": "60xGvRs-PbIL",
    "outputId": "8a065086-aedf-4d5c-f801-2b9753e23af8"
   },
   "outputs": [
    {
     "data": {
      "text/plain": [
       "{'Average Credit Card Transaction': 0.062259444091556836,\n",
       " 'Balance Transfer': 0.0,\n",
       " 'Term Deposit': 0.023580583468520325,\n",
       " 'Life Insurance': 0.09046156701881382,\n",
       " 'Medical Insurance': 0.0032710591167206407,\n",
       " 'Average A/C Balance': 1.2468461371876041e-17,\n",
       " 'Personal Loan': 0.04058514721067547,\n",
       " 'Investment in Mutual Fund': 0.0,\n",
       " 'Investment Tax Saving Bond': 0.18826144296192918,\n",
       " 'Home Loan': 0.0032277915088953493,\n",
       " 'Online Purchase Amount': 0.3972091550975649,\n",
       " 'Investment in Commudity': 0.18948622991741085,\n",
       " 'Investment in Equity': 0.0,\n",
       " 'Investment in Derivative': 0.0,\n",
       " 'Portfolio Balance': 0.0,\n",
       " 'chidren_1': 0.0,\n",
       " 'chidren_2': 0.0,\n",
       " 'chidren_3': 0.0,\n",
       " 'chidren_Zero': 0.0,\n",
       " 'age_band_18-21': 0.0,\n",
       " 'age_band_22-25': 0.0,\n",
       " 'age_band_26-30': 0.0,\n",
       " 'age_band_31-35': 0.0,\n",
       " 'age_band_36-40': 0.0,\n",
       " 'age_band_41-45': 0.0,\n",
       " 'age_band_45-50': 0.0,\n",
       " 'age_band_51-55': 0.0,\n",
       " 'age_band_55-60': 0.0016575796079110502,\n",
       " 'age_band_61-65': 0.0,\n",
       " 'age_band_65-70': 0.0,\n",
       " 'age_band_71+': 0.0,\n",
       " 'age_band_Unknown': 0.0,\n",
       " 'status_Divorced/Separated': 0.0,\n",
       " 'status_Partner': 0.0,\n",
       " 'status_Single/Never Married': 0.0,\n",
       " 'status_Unknown': 0.0,\n",
       " 'status_Widowed': 0.0,\n",
       " 'occupation_Housewife': 0.0,\n",
       " 'occupation_Manual Worker': 0.0,\n",
       " 'occupation_Other': 0.0,\n",
       " 'occupation_Professional': 0.0,\n",
       " 'occupation_Retired': 0.0,\n",
       " 'occupation_Secretarial/Admin': 0.0,\n",
       " 'occupation_Student': 0.0,\n",
       " 'occupation_Unknown': 0.0,\n",
       " 'occupation_partner_Housewife': 1.3883722088753326e-15,\n",
       " 'occupation_partner_Manual Worker': 0.0,\n",
       " 'occupation_partner_Other': 0.0,\n",
       " 'occupation_partner_Professional': 0.0,\n",
       " 'occupation_partner_Retired': 0.0,\n",
       " 'occupation_partner_Secretarial/Admin': 0.0,\n",
       " 'occupation_partner_Student': 0.0,\n",
       " 'occupation_partner_Unknown': 0.0,\n",
       " 'home_status_Live in Parental Hom': 0.0,\n",
       " 'home_status_Own Home': 0.0,\n",
       " 'home_status_Rent Privately': 0.0,\n",
       " 'home_status_Rent from Council/HA': 0.0,\n",
       " 'home_status_Unclassified': 0.0,\n",
       " 'income_< 4,000': 0.0,\n",
       " 'income_< 8,000, >= 4,000': 0.0,\n",
       " 'income_<10,000, >= 8,000': 0.0,\n",
       " 'income_<12,500, >=10,000': 0.0,\n",
       " 'income_<15,000, >=12,500': 0.0,\n",
       " 'income_<17,500, >=15,000': 0.0,\n",
       " 'income_<20,000, >=17,500': 0.0,\n",
       " 'income_<22,500, >=20,000': 0.0,\n",
       " 'income_<25,000, >=22,500': 0.0,\n",
       " 'income_<27,500, >=25,000': 0.0,\n",
       " 'income_<30,000, >=27,500': 0.0,\n",
       " 'income_>=35,000': 0.0,\n",
       " 'income_Unknown': 0.0,\n",
       " 'self_employed_Yes': 0.0,\n",
       " 'self_employed_partner_Yes': 0.0,\n",
       " 'gender_Male': 0.0,\n",
       " 'gender_Unknown': 0.0,\n",
       " 'region_East Anglia': 0.0,\n",
       " 'region_East Midlands': 0.0,\n",
       " 'region_Isle of Man': 0.0,\n",
       " 'region_North': 0.0,\n",
       " 'region_North West': 0.0,\n",
       " 'region_Northern Ireland': 0.0,\n",
       " 'region_Scotland': 0.0,\n",
       " 'region_South East': 0.0,\n",
       " 'region_South West': 0.0,\n",
       " 'region_Unknown': 0.0,\n",
       " 'region_Wales': 0.0,\n",
       " 'region_West Midlands': 0.0}"
      ]
     },
     "execution_count": 78,
     "metadata": {},
     "output_type": "execute_result"
    }
   ],
   "source": [
    "clf.classes_ ### give us the classes that were present on the training set and that were used by the model to train on\n",
    "\n",
    "dict(zip(list(features_train.columns),list(clf.feature_importances_)))"
   ]
  },
  {
   "cell_type": "code",
   "execution_count": 80,
   "metadata": {
    "colab": {
     "base_uri": "https://localhost:8080/",
     "height": 768
    },
    "id": "tz9rzuqRpzlw",
    "outputId": "ec351bc0-7d19-4b52-f2b8-93e2b9627594"
   },
   "outputs": [
    {
     "data": {
      "image/png": "[encoded data removed]",
      "text/plain": [
       "<Figure size 1440x1440 with 1 Axes>"
      ]
     },
     "metadata": {
      "needs_background": "light"
     },
     "output_type": "display_data"
    }
   ],
   "source": [
    "from sklearn.tree import plot_tree\n",
    "plot_rows =1\n",
    "plot_cols = 1\n",
    "\n",
    "fig, ax1 = plt.subplots(nrows = plot_rows,ncols=plot_cols,figsize = (20,20))\n",
    "\n",
    "plot_tree(clf,ax=ax1,fontsize=10)\n",
    "plt.show()"
   ]
  },
  {
   "cell_type": "code",
   "execution_count": 81,
   "metadata": {
    "colab": {
     "base_uri": "https://localhost:8080/",
     "height": 387
    },
    "id": "0mmaqIMbrLqB",
    "outputId": "17efc706-cb6d-4bd2-a634-0e638c1dbb0d"
   },
   "outputs": [
    {
     "name": "stderr",
     "output_type": "stream",
     "text": [
      "C:\\Users\\user\\anaconda3\\lib\\site-packages\\sklearn\\utils\\deprecation.py:87: FutureWarning: Function plot_roc_curve is deprecated; Function :func:`plot_roc_curve` is deprecated in 1.0 and will be removed in 1.2. Use one of the class methods: :meth:`sklearn.metrics.RocCurveDisplay.from_predictions` or :meth:`sklearn.metrics.RocCurveDisplay.from_estimator`.\n",
      "  warnings.warn(msg, category=FutureWarning)\n"
     ]
    },
    {
     "name": "stdout",
     "output_type": "stream",
     "text": [
      "[[7599  562]\n",
      " [  76  901]]\n",
      "The F1-SCORE on the train set prediction  0.7385245901639345\n"
     ]
    },
    {
     "data": {
      "image/png": "[encoded data removed]",
      "text/plain": [
       "<Figure size 432x288 with 1 Axes>"
      ]
     },
     "metadata": {
      "needs_background": "light"
     },
     "output_type": "display_data"
    }
   ],
   "source": [
    "### Evaluating on the train and the test set ####\n",
    "\n",
    "predicted_train = clf.predict(features_train)\n",
    "\n",
    "plot_roc_curve(clf,X =features_train, y= target_train)\n",
    "\n",
    "#print ('The score for the DT model ', roc_auc_score(Y_train,predicted_train))\n",
    "\n",
    "print(confusion_matrix(y_true = target_train, y_pred = predicted_train))\n",
    "\n",
    "print ('The F1-SCORE on the train set prediction ',f1_score(y_true=target_train,y_pred = predicted_train))"
   ]
  },
  {
   "cell_type": "code",
   "execution_count": 83,
   "metadata": {
    "colab": {
     "base_uri": "https://localhost:8080/",
     "height": 387
    },
    "id": "ycG_KiDqp9Jn",
    "outputId": "ab2fe5e0-a6d5-46c7-de9e-9bdeee24b491"
   },
   "outputs": [
    {
     "name": "stderr",
     "output_type": "stream",
     "text": [
      "C:\\Users\\user\\anaconda3\\lib\\site-packages\\sklearn\\utils\\deprecation.py:87: FutureWarning: Function plot_roc_curve is deprecated; Function :func:`plot_roc_curve` is deprecated in 1.0 and will be removed in 1.2. Use one of the class methods: :meth:`sklearn.metrics.RocCurveDisplay.from_predictions` or :meth:`sklearn.metrics.RocCurveDisplay.from_estimator`.\n",
      "  warnings.warn(msg, category=FutureWarning)\n"
     ]
    },
    {
     "name": "stdout",
     "output_type": "stream",
     "text": [
      "[[848  59]\n",
      " [ 11  98]]\n",
      "The F1-SCORE on the val set prediction  0.7368421052631579\n"
     ]
    },
    {
     "data": {
      "image/png": "[encoded data removed]",
      "text/plain": [
       "<Figure size 432x288 with 1 Axes>"
      ]
     },
     "metadata": {
      "needs_background": "light"
     },
     "output_type": "display_data"
    }
   ],
   "source": [
    "plot_roc_curve(clf,X =features_val, y= target_val)\n",
    "\n",
    "predicted_test = clf.predict(features_val)\n",
    "\n",
    "print (confusion_matrix(y_true = target_val, y_pred = predicted_test))\n",
    "\n",
    "print ('The F1-SCORE on the val set prediction ',f1_score(y_true=target_val,y_pred = predicted_test))"
   ]
  },
  {
   "cell_type": "code",
   "execution_count": 94,
   "metadata": {
    "colab": {
     "base_uri": "https://localhost:8080/"
    },
    "id": "n3qgu8p-tfLo",
    "outputId": "b9f57c3b-79c5-4a33-9712-9dd2dd90aee7"
   },
   "outputs": [
    {
     "data": {
      "text/html": [
       "<style>#sk-container-id-5 {color: black;background-color: white;}#sk-container-id-5 pre{padding: 0;}#sk-container-id-5 div.sk-toggleable {background-color: white;}#sk-container-id-5 label.sk-toggleable__label {cursor: pointer;display: block;width: 100%;margin-bottom: 0;padding: 0.3em;box-sizing: border-box;text-align: center;}#sk-container-id-5 label.sk-toggleable__label-arrow:before {content: \"▸\";float: left;margin-right: 0.25em;color: #696969;}#sk-container-id-5 label.sk-toggleable__label-arrow:hover:before {color: black;}#sk-container-id-5 div.sk-estimator:hover label.sk-toggleable__label-arrow:before {color: black;}#sk-container-id-5 div.sk-toggleable__content {max-height: 0;max-width: 0;overflow: hidden;text-align: left;background-color: #f0f8ff;}#sk-container-id-5 div.sk-toggleable__content pre {margin: 0.2em;color: black;border-radius: 0.25em;background-color: #f0f8ff;}#sk-container-id-5 input.sk-toggleable__control:checked~div.sk-toggleable__content {max-height: 200px;max-width: 100%;overflow: auto;}#sk-container-id-5 input.sk-toggleable__control:checked~label.sk-toggleable__label-arrow:before {content: \"▾\";}#sk-container-id-5 div.sk-estimator input.sk-toggleable__control:checked~label.sk-toggleable__label {background-color: #d4ebff;}#sk-container-id-5 div.sk-label input.sk-toggleable__control:checked~label.sk-toggleable__label {background-color: #d4ebff;}#sk-container-id-5 input.sk-hidden--visually {border: 0;clip: rect(1px 1px 1px 1px);clip: rect(1px, 1px, 1px, 1px);height: 1px;margin: -1px;overflow: hidden;padding: 0;position: absolute;width: 1px;}#sk-container-id-5 div.sk-estimator {font-family: monospace;background-color: #f0f8ff;border: 1px dotted black;border-radius: 0.25em;box-sizing: border-box;margin-bottom: 0.5em;}#sk-container-id-5 div.sk-estimator:hover {background-color: #d4ebff;}#sk-container-id-5 div.sk-parallel-item::after {content: \"\";width: 100%;border-bottom: 1px solid gray;flex-grow: 1;}#sk-container-id-5 div.sk-label:hover label.sk-toggleable__label {background-color: #d4ebff;}#sk-container-id-5 div.sk-serial::before {content: \"\";position: absolute;border-left: 1px solid gray;box-sizing: border-box;top: 0;bottom: 0;left: 50%;z-index: 0;}#sk-container-id-5 div.sk-serial {display: flex;flex-direction: column;align-items: center;background-color: white;padding-right: 0.2em;padding-left: 0.2em;position: relative;}#sk-container-id-5 div.sk-item {position: relative;z-index: 1;}#sk-container-id-5 div.sk-parallel {display: flex;align-items: stretch;justify-content: center;background-color: white;position: relative;}#sk-container-id-5 div.sk-item::before, #sk-container-id-5 div.sk-parallel-item::before {content: \"\";position: absolute;border-left: 1px solid gray;box-sizing: border-box;top: 0;bottom: 0;left: 50%;z-index: -1;}#sk-container-id-5 div.sk-parallel-item {display: flex;flex-direction: column;z-index: 1;position: relative;background-color: white;}#sk-container-id-5 div.sk-parallel-item:first-child::after {align-self: flex-end;width: 50%;}#sk-container-id-5 div.sk-parallel-item:last-child::after {align-self: flex-start;width: 50%;}#sk-container-id-5 div.sk-parallel-item:only-child::after {width: 0;}#sk-container-id-5 div.sk-dashed-wrapped {border: 1px dashed gray;margin: 0 0.4em 0.5em 0.4em;box-sizing: border-box;padding-bottom: 0.4em;background-color: white;}#sk-container-id-5 div.sk-label label {font-family: monospace;font-weight: bold;display: inline-block;line-height: 1.2em;}#sk-container-id-5 div.sk-label-container {text-align: center;}#sk-container-id-5 div.sk-container {/* jupyter's `normalize.less` sets `[hidden] { display: none; }` but bootstrap.min.css set `[hidden] { display: none !important; }` so we also need the `!important` here to be able to override the default hidden behavior on the sphinx rendered scikit-learn.org. See: https://github.com/scikit-learn/scikit-learn/issues/21755 */display: inline-block !important;position: relative;}#sk-container-id-5 div.sk-text-repr-fallback {display: none;}</style><div id=\"sk-container-id-5\" class=\"sk-top-container\"><div class=\"sk-text-repr-fallback\"><pre>GridSearchCV(cv=3, estimator=DecisionTreeClassifier(),\n",
       "             param_grid={&#x27;class_weight&#x27;: [None, &#x27;balanced&#x27;, {0: 0.4, 1: 0.6},\n",
       "                                          {0: 0.45, 1: 0.55},\n",
       "                                          {0: 0.35, 1: 0.65}],\n",
       "                         &#x27;criterion&#x27;: [&#x27;gini&#x27;], &#x27;max_depth&#x27;: [5, 8, 10, 15, 20],\n",
       "                         &#x27;min_samples_split&#x27;: [2, 5, 10, 20]},\n",
       "             return_train_score=True, scoring=&#x27;f1&#x27;)</pre><b>In a Jupyter environment, please rerun this cell to show the HTML representation or trust the notebook. <br />On GitHub, the HTML representation is unable to render, please try loading this page with nbviewer.org.</b></div><div class=\"sk-container\" hidden><div class=\"sk-item sk-dashed-wrapped\"><div class=\"sk-label-container\"><div class=\"sk-label sk-toggleable\"><input class=\"sk-toggleable__control sk-hidden--visually\" id=\"sk-estimator-id-7\" type=\"checkbox\" ><label for=\"sk-estimator-id-7\" class=\"sk-toggleable__label sk-toggleable__label-arrow\">GridSearchCV</label><div class=\"sk-toggleable__content\"><pre>GridSearchCV(cv=3, estimator=DecisionTreeClassifier(),\n",
       "             param_grid={&#x27;class_weight&#x27;: [None, &#x27;balanced&#x27;, {0: 0.4, 1: 0.6},\n",
       "                                          {0: 0.45, 1: 0.55},\n",
       "                                          {0: 0.35, 1: 0.65}],\n",
       "                         &#x27;criterion&#x27;: [&#x27;gini&#x27;], &#x27;max_depth&#x27;: [5, 8, 10, 15, 20],\n",
       "                         &#x27;min_samples_split&#x27;: [2, 5, 10, 20]},\n",
       "             return_train_score=True, scoring=&#x27;f1&#x27;)</pre></div></div></div><div class=\"sk-parallel\"><div class=\"sk-parallel-item\"><div class=\"sk-item\"><div class=\"sk-label-container\"><div class=\"sk-label sk-toggleable\"><input class=\"sk-toggleable__control sk-hidden--visually\" id=\"sk-estimator-id-8\" type=\"checkbox\" ><label for=\"sk-estimator-id-8\" class=\"sk-toggleable__label sk-toggleable__label-arrow\">estimator: DecisionTreeClassifier</label><div class=\"sk-toggleable__content\"><pre>DecisionTreeClassifier()</pre></div></div></div><div class=\"sk-serial\"><div class=\"sk-item\"><div class=\"sk-estimator sk-toggleable\"><input class=\"sk-toggleable__control sk-hidden--visually\" id=\"sk-estimator-id-9\" type=\"checkbox\" ><label for=\"sk-estimator-id-9\" class=\"sk-toggleable__label sk-toggleable__label-arrow\">DecisionTreeClassifier</label><div class=\"sk-toggleable__content\"><pre>DecisionTreeClassifier()</pre></div></div></div></div></div></div></div></div></div></div>"
      ],
      "text/plain": [
       "GridSearchCV(cv=3, estimator=DecisionTreeClassifier(),\n",
       "             param_grid={'class_weight': [None, 'balanced', {0: 0.4, 1: 0.6},\n",
       "                                          {0: 0.45, 1: 0.55},\n",
       "                                          {0: 0.35, 1: 0.65}],\n",
       "                         'criterion': ['gini'], 'max_depth': [5, 8, 10, 15, 20],\n",
       "                         'min_samples_split': [2, 5, 10, 20]},\n",
       "             return_train_score=True, scoring='f1')"
      ]
     },
     "execution_count": 94,
     "metadata": {},
     "output_type": "execute_result"
    }
   ],
   "source": [
    "##### Creating a decision tree classifier ####\n",
    "\n",
    "clf = DecisionTreeClassifier()\n",
    "#clf = LogisticRegression()  \n",
    "#clf = SVC()\n",
    "\n",
    "params={'class_weight':[None,'balanced', {0:0.4,1:0.6}, {0:0.45, 1:0.55}, {0:0.35, 1:0.65}],\n",
    "        'max_depth' : [5, 8, 10, 15, 20],\n",
    "        'criterion' :['gini'],\n",
    "        'min_samples_split' : [2,5,10,20]}           ### parameter distribution \n",
    "\n",
    "grid_search = GridSearchCV(estimator = clf, param_grid = params, cv = 3, scoring = 'f1', return_train_score=True) #### cv- 5 (5 fold cross validation)\n",
    "\n",
    "grid_search.fit(features_train,target_train)"
   ]
  },
  {
   "cell_type": "code",
   "execution_count": 102,
   "metadata": {
    "colab": {
     "base_uri": "https://localhost:8080/"
    },
    "id": "oHmLiSfzJ9YH",
    "outputId": "752bf19d-d43f-48e1-bb34-091570673ed1"
   },
   "outputs": [
    {
     "data": {
      "text/plain": [
       "['mean_fit_time',\n",
       " 'std_fit_time',\n",
       " 'mean_score_time',\n",
       " 'std_score_time',\n",
       " 'param_class_weight',\n",
       " 'param_criterion',\n",
       " 'param_max_depth',\n",
       " 'param_min_samples_split',\n",
       " 'params',\n",
       " 'split0_test_score',\n",
       " 'split1_test_score',\n",
       " 'split2_test_score',\n",
       " 'mean_test_score',\n",
       " 'std_test_score',\n",
       " 'rank_test_score',\n",
       " 'split0_train_score',\n",
       " 'split1_train_score',\n",
       " 'split2_train_score',\n",
       " 'mean_train_score',\n",
       " 'std_train_score']"
      ]
     },
     "execution_count": 102,
     "metadata": {},
     "output_type": "execute_result"
    }
   ],
   "source": [
    "list(grid_search.cv_results_.keys())"
   ]
  },
  {
   "cell_type": "code",
   "execution_count": 126,
   "metadata": {
    "colab": {
     "base_uri": "https://localhost:8080/"
    },
    "id": "rZBfUfRxtz7Y",
    "outputId": "23f90322-1b45-49d7-8635-52f0066bd2bd"
   },
   "outputs": [
    {
     "data": {
      "text/plain": [
       "{'class_weight': None,\n",
       " 'criterion': 'gini',\n",
       " 'max_depth': 5,\n",
       " 'min_samples_split': 10}"
      ]
     },
     "execution_count": 126,
     "metadata": {},
     "output_type": "execute_result"
    }
   ],
   "source": [
    "grid_search.cv_results_['params'][2]"
   ]
  },
  {
   "cell_type": "code",
   "execution_count": 124,
   "metadata": {
    "colab": {
     "base_uri": "https://localhost:8080/"
    },
    "id": "dp8SmW6CuQTq",
    "outputId": "91bb9eb5-5471-4a61-ce90-eceb27bd4c50"
   },
   "outputs": [
    {
     "data": {
      "text/plain": [
       "0.8013339787434325"
      ]
     },
     "execution_count": 124,
     "metadata": {},
     "output_type": "execute_result"
    }
   ],
   "source": [
    "grid_search.cv_results_['mean_train_score'][2]"
   ]
  },
  {
   "cell_type": "code",
   "execution_count": 125,
   "metadata": {
    "colab": {
     "base_uri": "https://localhost:8080/"
    },
    "id": "pZzbMWSmucaS",
    "outputId": "b0247901-086e-4613-eab0-0a44d10b8613"
   },
   "outputs": [
    {
     "data": {
      "text/plain": [
       "0.7413270457317892"
      ]
     },
     "execution_count": 125,
     "metadata": {},
     "output_type": "execute_result"
    }
   ],
   "source": [
    "grid_search.cv_results_['mean_test_score'][2]"
   ]
  },
  {
   "cell_type": "code",
   "execution_count": 137,
   "metadata": {
    "colab": {
     "base_uri": "https://localhost:8080/"
    },
    "id": "2_12QiSqvWu9",
    "outputId": "68389746-a643-49ed-8669-07355c3e8290"
   },
   "outputs": [
    {
     "data": {
      "text/plain": [
       "46"
      ]
     },
     "execution_count": 137,
     "metadata": {},
     "output_type": "execute_result"
    }
   ],
   "source": [
    "list(grid_search.cv_results_['rank_test_score']).index(2)"
   ]
  },
  {
   "cell_type": "code",
   "execution_count": 116,
   "metadata": {
    "id": "ceajJI9NxoTo"
   },
   "outputs": [],
   "source": [
    "df = pd.DataFrame(zip(grid_search.cv_results_['params'], \n",
    "                      grid_search.cv_results_['mean_train_score'], \n",
    "                      grid_search.cv_results_['mean_test_score']), columns = ['param_comb', 'Train_F1', 'Val_F1'])\n",
    "\n",
    "df.to_excel('grid_search_results.xlsx', index=None)"
   ]
  },
  {
   "cell_type": "code",
   "execution_count": 138,
   "metadata": {
    "colab": {
     "base_uri": "https://localhost:8080/"
    },
    "id": "GAp58S-uxFYS",
    "outputId": "528103cc-d687-45b8-a740-8c92458f74fb"
   },
   "outputs": [
    {
     "data": {
      "text/html": [
       "<style>#sk-container-id-6 {color: black;background-color: white;}#sk-container-id-6 pre{padding: 0;}#sk-container-id-6 div.sk-toggleable {background-color: white;}#sk-container-id-6 label.sk-toggleable__label {cursor: pointer;display: block;width: 100%;margin-bottom: 0;padding: 0.3em;box-sizing: border-box;text-align: center;}#sk-container-id-6 label.sk-toggleable__label-arrow:before {content: \"▸\";float: left;margin-right: 0.25em;color: #696969;}#sk-container-id-6 label.sk-toggleable__label-arrow:hover:before {color: black;}#sk-container-id-6 div.sk-estimator:hover label.sk-toggleable__label-arrow:before {color: black;}#sk-container-id-6 div.sk-toggleable__content {max-height: 0;max-width: 0;overflow: hidden;text-align: left;background-color: #f0f8ff;}#sk-container-id-6 div.sk-toggleable__content pre {margin: 0.2em;color: black;border-radius: 0.25em;background-color: #f0f8ff;}#sk-container-id-6 input.sk-toggleable__control:checked~div.sk-toggleable__content {max-height: 200px;max-width: 100%;overflow: auto;}#sk-container-id-6 input.sk-toggleable__control:checked~label.sk-toggleable__label-arrow:before {content: \"▾\";}#sk-container-id-6 div.sk-estimator input.sk-toggleable__control:checked~label.sk-toggleable__label {background-color: #d4ebff;}#sk-container-id-6 div.sk-label input.sk-toggleable__control:checked~label.sk-toggleable__label {background-color: #d4ebff;}#sk-container-id-6 input.sk-hidden--visually {border: 0;clip: rect(1px 1px 1px 1px);clip: rect(1px, 1px, 1px, 1px);height: 1px;margin: -1px;overflow: hidden;padding: 0;position: absolute;width: 1px;}#sk-container-id-6 div.sk-estimator {font-family: monospace;background-color: #f0f8ff;border: 1px dotted black;border-radius: 0.25em;box-sizing: border-box;margin-bottom: 0.5em;}#sk-container-id-6 div.sk-estimator:hover {background-color: #d4ebff;}#sk-container-id-6 div.sk-parallel-item::after {content: \"\";width: 100%;border-bottom: 1px solid gray;flex-grow: 1;}#sk-container-id-6 div.sk-label:hover label.sk-toggleable__label {background-color: #d4ebff;}#sk-container-id-6 div.sk-serial::before {content: \"\";position: absolute;border-left: 1px solid gray;box-sizing: border-box;top: 0;bottom: 0;left: 50%;z-index: 0;}#sk-container-id-6 div.sk-serial {display: flex;flex-direction: column;align-items: center;background-color: white;padding-right: 0.2em;padding-left: 0.2em;position: relative;}#sk-container-id-6 div.sk-item {position: relative;z-index: 1;}#sk-container-id-6 div.sk-parallel {display: flex;align-items: stretch;justify-content: center;background-color: white;position: relative;}#sk-container-id-6 div.sk-item::before, #sk-container-id-6 div.sk-parallel-item::before {content: \"\";position: absolute;border-left: 1px solid gray;box-sizing: border-box;top: 0;bottom: 0;left: 50%;z-index: -1;}#sk-container-id-6 div.sk-parallel-item {display: flex;flex-direction: column;z-index: 1;position: relative;background-color: white;}#sk-container-id-6 div.sk-parallel-item:first-child::after {align-self: flex-end;width: 50%;}#sk-container-id-6 div.sk-parallel-item:last-child::after {align-self: flex-start;width: 50%;}#sk-container-id-6 div.sk-parallel-item:only-child::after {width: 0;}#sk-container-id-6 div.sk-dashed-wrapped {border: 1px dashed gray;margin: 0 0.4em 0.5em 0.4em;box-sizing: border-box;padding-bottom: 0.4em;background-color: white;}#sk-container-id-6 div.sk-label label {font-family: monospace;font-weight: bold;display: inline-block;line-height: 1.2em;}#sk-container-id-6 div.sk-label-container {text-align: center;}#sk-container-id-6 div.sk-container {/* jupyter's `normalize.less` sets `[hidden] { display: none; }` but bootstrap.min.css set `[hidden] { display: none !important; }` so we also need the `!important` here to be able to override the default hidden behavior on the sphinx rendered scikit-learn.org. See: https://github.com/scikit-learn/scikit-learn/issues/21755 */display: inline-block !important;position: relative;}#sk-container-id-6 div.sk-text-repr-fallback {display: none;}</style><div id=\"sk-container-id-6\" class=\"sk-top-container\"><div class=\"sk-text-repr-fallback\"><pre>DecisionTreeClassifier(criterion=&#x27;entropy&#x27;, max_depth=7, min_samples_split=10)</pre><b>In a Jupyter environment, please rerun this cell to show the HTML representation or trust the notebook. <br />On GitHub, the HTML representation is unable to render, please try loading this page with nbviewer.org.</b></div><div class=\"sk-container\" hidden><div class=\"sk-item\"><div class=\"sk-estimator sk-toggleable\"><input class=\"sk-toggleable__control sk-hidden--visually\" id=\"sk-estimator-id-10\" type=\"checkbox\" checked><label for=\"sk-estimator-id-10\" class=\"sk-toggleable__label sk-toggleable__label-arrow\">DecisionTreeClassifier</label><div class=\"sk-toggleable__content\"><pre>DecisionTreeClassifier(criterion=&#x27;entropy&#x27;, max_depth=7, min_samples_split=10)</pre></div></div></div></div></div>"
      ],
      "text/plain": [
       "DecisionTreeClassifier(criterion='entropy', max_depth=7, min_samples_split=10)"
      ]
     },
     "execution_count": 138,
     "metadata": {},
     "output_type": "execute_result"
    }
   ],
   "source": [
    "clf = DecisionTreeClassifier(class_weight= None, criterion = 'entropy', max_depth = 7, min_samples_split = 10)\n",
    "\n",
    "clf.fit(features_train,target_train)"
   ]
  },
  {
   "cell_type": "code",
   "execution_count": 142,
   "metadata": {
    "colab": {
     "base_uri": "https://localhost:8080/",
     "height": 239
    },
    "id": "d_Z4z9jqtfLq",
    "outputId": "a4c084ed-cff2-47fc-839b-01dedeb15e4d"
   },
   "outputs": [],
   "source": [
    "#### Fitting a decision tree classifier ######\n",
    "\n",
    "clf = RandomForestClassifier() ### random forest function from  sklearn\n",
    "\n",
    "params={'n_estimators':[100],\n",
    "        'class_weight':['balanced'],    \n",
    "        'criterion':['gini'], \n",
    "        'max_depth':[5,10,15],\n",
    "        'min_samples_split':[10,20,50],\n",
    "        'max_samples':[0.6,0.7,0.8],\n",
    "        'max_features':['auto']}        #### parameter combinations"
   ]
  },
  {
   "cell_type": "code",
   "execution_count": 143,
   "metadata": {
    "colab": {
     "base_uri": "https://localhost:8080/"
    },
    "id": "z4k5O8uKtfLq",
    "outputId": "921c664c-0483-4049-ec1c-e7baf093c90b"
   },
   "outputs": [
    {
     "name": "stderr",
     "output_type": "stream",
     "text": [
      "C:\\Users\\user\\anaconda3\\lib\\site-packages\\sklearn\\ensemble\\_forest.py:427: FutureWarning: `max_features='auto'` has been deprecated in 1.1 and will be removed in 1.3. To keep the past behaviour, explicitly set `max_features='sqrt'` or remove this parameter as it is also the default value for RandomForestClassifiers and ExtraTreesClassifiers.\n",
      "  warn(\n",
      "C:\\Users\\user\\anaconda3\\lib\\site-packages\\sklearn\\ensemble\\_forest.py:427: FutureWarning: `max_features='auto'` has been deprecated in 1.1 and will be removed in 1.3. To keep the past behaviour, explicitly set `max_features='sqrt'` or remove this parameter as it is also the default value for RandomForestClassifiers and ExtraTreesClassifiers.\n",
      "  warn(\n",
      "C:\\Users\\user\\anaconda3\\lib\\site-packages\\sklearn\\ensemble\\_forest.py:427: FutureWarning: `max_features='auto'` has been deprecated in 1.1 and will be removed in 1.3. To keep the past behaviour, explicitly set `max_features='sqrt'` or remove this parameter as it is also the default value for RandomForestClassifiers and ExtraTreesClassifiers.\n",
      "  warn(\n",
      "C:\\Users\\user\\anaconda3\\lib\\site-packages\\sklearn\\ensemble\\_forest.py:427: FutureWarning: `max_features='auto'` has been deprecated in 1.1 and will be removed in 1.3. To keep the past behaviour, explicitly set `max_features='sqrt'` or remove this parameter as it is also the default value for RandomForestClassifiers and ExtraTreesClassifiers.\n",
      "  warn(\n",
      "C:\\Users\\user\\anaconda3\\lib\\site-packages\\sklearn\\ensemble\\_forest.py:427: FutureWarning: `max_features='auto'` has been deprecated in 1.1 and will be removed in 1.3. To keep the past behaviour, explicitly set `max_features='sqrt'` or remove this parameter as it is also the default value for RandomForestClassifiers and ExtraTreesClassifiers.\n",
      "  warn(\n",
      "C:\\Users\\user\\anaconda3\\lib\\site-packages\\sklearn\\ensemble\\_forest.py:427: FutureWarning: `max_features='auto'` has been deprecated in 1.1 and will be removed in 1.3. To keep the past behaviour, explicitly set `max_features='sqrt'` or remove this parameter as it is also the default value for RandomForestClassifiers and ExtraTreesClassifiers.\n",
      "  warn(\n",
      "C:\\Users\\user\\anaconda3\\lib\\site-packages\\sklearn\\ensemble\\_forest.py:427: FutureWarning: `max_features='auto'` has been deprecated in 1.1 and will be removed in 1.3. To keep the past behaviour, explicitly set `max_features='sqrt'` or remove this parameter as it is also the default value for RandomForestClassifiers and ExtraTreesClassifiers.\n",
      "  warn(\n",
      "C:\\Users\\user\\anaconda3\\lib\\site-packages\\sklearn\\ensemble\\_forest.py:427: FutureWarning: `max_features='auto'` has been deprecated in 1.1 and will be removed in 1.3. To keep the past behaviour, explicitly set `max_features='sqrt'` or remove this parameter as it is also the default value for RandomForestClassifiers and ExtraTreesClassifiers.\n",
      "  warn(\n",
      "C:\\Users\\user\\anaconda3\\lib\\site-packages\\sklearn\\ensemble\\_forest.py:427: FutureWarning: `max_features='auto'` has been deprecated in 1.1 and will be removed in 1.3. To keep the past behaviour, explicitly set `max_features='sqrt'` or remove this parameter as it is also the default value for RandomForestClassifiers and ExtraTreesClassifiers.\n",
      "  warn(\n",
      "C:\\Users\\user\\anaconda3\\lib\\site-packages\\sklearn\\ensemble\\_forest.py:427: FutureWarning: `max_features='auto'` has been deprecated in 1.1 and will be removed in 1.3. To keep the past behaviour, explicitly set `max_features='sqrt'` or remove this parameter as it is also the default value for RandomForestClassifiers and ExtraTreesClassifiers.\n",
      "  warn(\n",
      "C:\\Users\\user\\anaconda3\\lib\\site-packages\\sklearn\\ensemble\\_forest.py:427: FutureWarning: `max_features='auto'` has been deprecated in 1.1 and will be removed in 1.3. To keep the past behaviour, explicitly set `max_features='sqrt'` or remove this parameter as it is also the default value for RandomForestClassifiers and ExtraTreesClassifiers.\n",
      "  warn(\n",
      "C:\\Users\\user\\anaconda3\\lib\\site-packages\\sklearn\\ensemble\\_forest.py:427: FutureWarning: `max_features='auto'` has been deprecated in 1.1 and will be removed in 1.3. To keep the past behaviour, explicitly set `max_features='sqrt'` or remove this parameter as it is also the default value for RandomForestClassifiers and ExtraTreesClassifiers.\n",
      "  warn(\n",
      "C:\\Users\\user\\anaconda3\\lib\\site-packages\\sklearn\\ensemble\\_forest.py:427: FutureWarning: `max_features='auto'` has been deprecated in 1.1 and will be removed in 1.3. To keep the past behaviour, explicitly set `max_features='sqrt'` or remove this parameter as it is also the default value for RandomForestClassifiers and ExtraTreesClassifiers.\n",
      "  warn(\n",
      "C:\\Users\\user\\anaconda3\\lib\\site-packages\\sklearn\\ensemble\\_forest.py:427: FutureWarning: `max_features='auto'` has been deprecated in 1.1 and will be removed in 1.3. To keep the past behaviour, explicitly set `max_features='sqrt'` or remove this parameter as it is also the default value for RandomForestClassifiers and ExtraTreesClassifiers.\n",
      "  warn(\n",
      "C:\\Users\\user\\anaconda3\\lib\\site-packages\\sklearn\\ensemble\\_forest.py:427: FutureWarning: `max_features='auto'` has been deprecated in 1.1 and will be removed in 1.3. To keep the past behaviour, explicitly set `max_features='sqrt'` or remove this parameter as it is also the default value for RandomForestClassifiers and ExtraTreesClassifiers.\n",
      "  warn(\n",
      "C:\\Users\\user\\anaconda3\\lib\\site-packages\\sklearn\\ensemble\\_forest.py:427: FutureWarning: `max_features='auto'` has been deprecated in 1.1 and will be removed in 1.3. To keep the past behaviour, explicitly set `max_features='sqrt'` or remove this parameter as it is also the default value for RandomForestClassifiers and ExtraTreesClassifiers.\n",
      "  warn(\n",
      "C:\\Users\\user\\anaconda3\\lib\\site-packages\\sklearn\\ensemble\\_forest.py:427: FutureWarning: `max_features='auto'` has been deprecated in 1.1 and will be removed in 1.3. To keep the past behaviour, explicitly set `max_features='sqrt'` or remove this parameter as it is also the default value for RandomForestClassifiers and ExtraTreesClassifiers.\n",
      "  warn(\n",
      "C:\\Users\\user\\anaconda3\\lib\\site-packages\\sklearn\\ensemble\\_forest.py:427: FutureWarning: `max_features='auto'` has been deprecated in 1.1 and will be removed in 1.3. To keep the past behaviour, explicitly set `max_features='sqrt'` or remove this parameter as it is also the default value for RandomForestClassifiers and ExtraTreesClassifiers.\n",
      "  warn(\n",
      "C:\\Users\\user\\anaconda3\\lib\\site-packages\\sklearn\\ensemble\\_forest.py:427: FutureWarning: `max_features='auto'` has been deprecated in 1.1 and will be removed in 1.3. To keep the past behaviour, explicitly set `max_features='sqrt'` or remove this parameter as it is also the default value for RandomForestClassifiers and ExtraTreesClassifiers.\n",
      "  warn(\n",
      "C:\\Users\\user\\anaconda3\\lib\\site-packages\\sklearn\\ensemble\\_forest.py:427: FutureWarning: `max_features='auto'` has been deprecated in 1.1 and will be removed in 1.3. To keep the past behaviour, explicitly set `max_features='sqrt'` or remove this parameter as it is also the default value for RandomForestClassifiers and ExtraTreesClassifiers.\n",
      "  warn(\n",
      "C:\\Users\\user\\anaconda3\\lib\\site-packages\\sklearn\\ensemble\\_forest.py:427: FutureWarning: `max_features='auto'` has been deprecated in 1.1 and will be removed in 1.3. To keep the past behaviour, explicitly set `max_features='sqrt'` or remove this parameter as it is also the default value for RandomForestClassifiers and ExtraTreesClassifiers.\n",
      "  warn(\n",
      "C:\\Users\\user\\anaconda3\\lib\\site-packages\\sklearn\\ensemble\\_forest.py:427: FutureWarning: `max_features='auto'` has been deprecated in 1.1 and will be removed in 1.3. To keep the past behaviour, explicitly set `max_features='sqrt'` or remove this parameter as it is also the default value for RandomForestClassifiers and ExtraTreesClassifiers.\n",
      "  warn(\n",
      "C:\\Users\\user\\anaconda3\\lib\\site-packages\\sklearn\\ensemble\\_forest.py:427: FutureWarning: `max_features='auto'` has been deprecated in 1.1 and will be removed in 1.3. To keep the past behaviour, explicitly set `max_features='sqrt'` or remove this parameter as it is also the default value for RandomForestClassifiers and ExtraTreesClassifiers.\n",
      "  warn(\n",
      "C:\\Users\\user\\anaconda3\\lib\\site-packages\\sklearn\\ensemble\\_forest.py:427: FutureWarning: `max_features='auto'` has been deprecated in 1.1 and will be removed in 1.3. To keep the past behaviour, explicitly set `max_features='sqrt'` or remove this parameter as it is also the default value for RandomForestClassifiers and ExtraTreesClassifiers.\n",
      "  warn(\n"
     ]
    },
    {
     "name": "stderr",
     "output_type": "stream",
     "text": [
      "C:\\Users\\user\\anaconda3\\lib\\site-packages\\sklearn\\ensemble\\_forest.py:427: FutureWarning: `max_features='auto'` has been deprecated in 1.1 and will be removed in 1.3. To keep the past behaviour, explicitly set `max_features='sqrt'` or remove this parameter as it is also the default value for RandomForestClassifiers and ExtraTreesClassifiers.\n",
      "  warn(\n",
      "C:\\Users\\user\\anaconda3\\lib\\site-packages\\sklearn\\ensemble\\_forest.py:427: FutureWarning: `max_features='auto'` has been deprecated in 1.1 and will be removed in 1.3. To keep the past behaviour, explicitly set `max_features='sqrt'` or remove this parameter as it is also the default value for RandomForestClassifiers and ExtraTreesClassifiers.\n",
      "  warn(\n",
      "C:\\Users\\user\\anaconda3\\lib\\site-packages\\sklearn\\ensemble\\_forest.py:427: FutureWarning: `max_features='auto'` has been deprecated in 1.1 and will be removed in 1.3. To keep the past behaviour, explicitly set `max_features='sqrt'` or remove this parameter as it is also the default value for RandomForestClassifiers and ExtraTreesClassifiers.\n",
      "  warn(\n",
      "C:\\Users\\user\\anaconda3\\lib\\site-packages\\sklearn\\ensemble\\_forest.py:427: FutureWarning: `max_features='auto'` has been deprecated in 1.1 and will be removed in 1.3. To keep the past behaviour, explicitly set `max_features='sqrt'` or remove this parameter as it is also the default value for RandomForestClassifiers and ExtraTreesClassifiers.\n",
      "  warn(\n",
      "C:\\Users\\user\\anaconda3\\lib\\site-packages\\sklearn\\ensemble\\_forest.py:427: FutureWarning: `max_features='auto'` has been deprecated in 1.1 and will be removed in 1.3. To keep the past behaviour, explicitly set `max_features='sqrt'` or remove this parameter as it is also the default value for RandomForestClassifiers and ExtraTreesClassifiers.\n",
      "  warn(\n",
      "C:\\Users\\user\\anaconda3\\lib\\site-packages\\sklearn\\ensemble\\_forest.py:427: FutureWarning: `max_features='auto'` has been deprecated in 1.1 and will be removed in 1.3. To keep the past behaviour, explicitly set `max_features='sqrt'` or remove this parameter as it is also the default value for RandomForestClassifiers and ExtraTreesClassifiers.\n",
      "  warn(\n",
      "C:\\Users\\user\\anaconda3\\lib\\site-packages\\sklearn\\ensemble\\_forest.py:427: FutureWarning: `max_features='auto'` has been deprecated in 1.1 and will be removed in 1.3. To keep the past behaviour, explicitly set `max_features='sqrt'` or remove this parameter as it is also the default value for RandomForestClassifiers and ExtraTreesClassifiers.\n",
      "  warn(\n",
      "C:\\Users\\user\\anaconda3\\lib\\site-packages\\sklearn\\ensemble\\_forest.py:427: FutureWarning: `max_features='auto'` has been deprecated in 1.1 and will be removed in 1.3. To keep the past behaviour, explicitly set `max_features='sqrt'` or remove this parameter as it is also the default value for RandomForestClassifiers and ExtraTreesClassifiers.\n",
      "  warn(\n",
      "C:\\Users\\user\\anaconda3\\lib\\site-packages\\sklearn\\ensemble\\_forest.py:427: FutureWarning: `max_features='auto'` has been deprecated in 1.1 and will be removed in 1.3. To keep the past behaviour, explicitly set `max_features='sqrt'` or remove this parameter as it is also the default value for RandomForestClassifiers and ExtraTreesClassifiers.\n",
      "  warn(\n",
      "C:\\Users\\user\\anaconda3\\lib\\site-packages\\sklearn\\ensemble\\_forest.py:427: FutureWarning: `max_features='auto'` has been deprecated in 1.1 and will be removed in 1.3. To keep the past behaviour, explicitly set `max_features='sqrt'` or remove this parameter as it is also the default value for RandomForestClassifiers and ExtraTreesClassifiers.\n",
      "  warn(\n",
      "C:\\Users\\user\\anaconda3\\lib\\site-packages\\sklearn\\ensemble\\_forest.py:427: FutureWarning: `max_features='auto'` has been deprecated in 1.1 and will be removed in 1.3. To keep the past behaviour, explicitly set `max_features='sqrt'` or remove this parameter as it is also the default value for RandomForestClassifiers and ExtraTreesClassifiers.\n",
      "  warn(\n",
      "C:\\Users\\user\\anaconda3\\lib\\site-packages\\sklearn\\ensemble\\_forest.py:427: FutureWarning: `max_features='auto'` has been deprecated in 1.1 and will be removed in 1.3. To keep the past behaviour, explicitly set `max_features='sqrt'` or remove this parameter as it is also the default value for RandomForestClassifiers and ExtraTreesClassifiers.\n",
      "  warn(\n",
      "C:\\Users\\user\\anaconda3\\lib\\site-packages\\sklearn\\ensemble\\_forest.py:427: FutureWarning: `max_features='auto'` has been deprecated in 1.1 and will be removed in 1.3. To keep the past behaviour, explicitly set `max_features='sqrt'` or remove this parameter as it is also the default value for RandomForestClassifiers and ExtraTreesClassifiers.\n",
      "  warn(\n",
      "C:\\Users\\user\\anaconda3\\lib\\site-packages\\sklearn\\ensemble\\_forest.py:427: FutureWarning: `max_features='auto'` has been deprecated in 1.1 and will be removed in 1.3. To keep the past behaviour, explicitly set `max_features='sqrt'` or remove this parameter as it is also the default value for RandomForestClassifiers and ExtraTreesClassifiers.\n",
      "  warn(\n",
      "C:\\Users\\user\\anaconda3\\lib\\site-packages\\sklearn\\ensemble\\_forest.py:427: FutureWarning: `max_features='auto'` has been deprecated in 1.1 and will be removed in 1.3. To keep the past behaviour, explicitly set `max_features='sqrt'` or remove this parameter as it is also the default value for RandomForestClassifiers and ExtraTreesClassifiers.\n",
      "  warn(\n",
      "C:\\Users\\user\\anaconda3\\lib\\site-packages\\sklearn\\ensemble\\_forest.py:427: FutureWarning: `max_features='auto'` has been deprecated in 1.1 and will be removed in 1.3. To keep the past behaviour, explicitly set `max_features='sqrt'` or remove this parameter as it is also the default value for RandomForestClassifiers and ExtraTreesClassifiers.\n",
      "  warn(\n",
      "C:\\Users\\user\\anaconda3\\lib\\site-packages\\sklearn\\ensemble\\_forest.py:427: FutureWarning: `max_features='auto'` has been deprecated in 1.1 and will be removed in 1.3. To keep the past behaviour, explicitly set `max_features='sqrt'` or remove this parameter as it is also the default value for RandomForestClassifiers and ExtraTreesClassifiers.\n",
      "  warn(\n",
      "C:\\Users\\user\\anaconda3\\lib\\site-packages\\sklearn\\ensemble\\_forest.py:427: FutureWarning: `max_features='auto'` has been deprecated in 1.1 and will be removed in 1.3. To keep the past behaviour, explicitly set `max_features='sqrt'` or remove this parameter as it is also the default value for RandomForestClassifiers and ExtraTreesClassifiers.\n",
      "  warn(\n",
      "C:\\Users\\user\\anaconda3\\lib\\site-packages\\sklearn\\ensemble\\_forest.py:427: FutureWarning: `max_features='auto'` has been deprecated in 1.1 and will be removed in 1.3. To keep the past behaviour, explicitly set `max_features='sqrt'` or remove this parameter as it is also the default value for RandomForestClassifiers and ExtraTreesClassifiers.\n",
      "  warn(\n",
      "C:\\Users\\user\\anaconda3\\lib\\site-packages\\sklearn\\ensemble\\_forest.py:427: FutureWarning: `max_features='auto'` has been deprecated in 1.1 and will be removed in 1.3. To keep the past behaviour, explicitly set `max_features='sqrt'` or remove this parameter as it is also the default value for RandomForestClassifiers and ExtraTreesClassifiers.\n",
      "  warn(\n",
      "C:\\Users\\user\\anaconda3\\lib\\site-packages\\sklearn\\ensemble\\_forest.py:427: FutureWarning: `max_features='auto'` has been deprecated in 1.1 and will be removed in 1.3. To keep the past behaviour, explicitly set `max_features='sqrt'` or remove this parameter as it is also the default value for RandomForestClassifiers and ExtraTreesClassifiers.\n",
      "  warn(\n",
      "C:\\Users\\user\\anaconda3\\lib\\site-packages\\sklearn\\ensemble\\_forest.py:427: FutureWarning: `max_features='auto'` has been deprecated in 1.1 and will be removed in 1.3. To keep the past behaviour, explicitly set `max_features='sqrt'` or remove this parameter as it is also the default value for RandomForestClassifiers and ExtraTreesClassifiers.\n",
      "  warn(\n",
      "C:\\Users\\user\\anaconda3\\lib\\site-packages\\sklearn\\ensemble\\_forest.py:427: FutureWarning: `max_features='auto'` has been deprecated in 1.1 and will be removed in 1.3. To keep the past behaviour, explicitly set `max_features='sqrt'` or remove this parameter as it is also the default value for RandomForestClassifiers and ExtraTreesClassifiers.\n",
      "  warn(\n",
      "C:\\Users\\user\\anaconda3\\lib\\site-packages\\sklearn\\ensemble\\_forest.py:427: FutureWarning: `max_features='auto'` has been deprecated in 1.1 and will be removed in 1.3. To keep the past behaviour, explicitly set `max_features='sqrt'` or remove this parameter as it is also the default value for RandomForestClassifiers and ExtraTreesClassifiers.\n",
      "  warn(\n"
     ]
    },
    {
     "name": "stderr",
     "output_type": "stream",
     "text": [
      "C:\\Users\\user\\anaconda3\\lib\\site-packages\\sklearn\\ensemble\\_forest.py:427: FutureWarning: `max_features='auto'` has been deprecated in 1.1 and will be removed in 1.3. To keep the past behaviour, explicitly set `max_features='sqrt'` or remove this parameter as it is also the default value for RandomForestClassifiers and ExtraTreesClassifiers.\n",
      "  warn(\n",
      "C:\\Users\\user\\anaconda3\\lib\\site-packages\\sklearn\\ensemble\\_forest.py:427: FutureWarning: `max_features='auto'` has been deprecated in 1.1 and will be removed in 1.3. To keep the past behaviour, explicitly set `max_features='sqrt'` or remove this parameter as it is also the default value for RandomForestClassifiers and ExtraTreesClassifiers.\n",
      "  warn(\n",
      "C:\\Users\\user\\anaconda3\\lib\\site-packages\\sklearn\\ensemble\\_forest.py:427: FutureWarning: `max_features='auto'` has been deprecated in 1.1 and will be removed in 1.3. To keep the past behaviour, explicitly set `max_features='sqrt'` or remove this parameter as it is also the default value for RandomForestClassifiers and ExtraTreesClassifiers.\n",
      "  warn(\n",
      "C:\\Users\\user\\anaconda3\\lib\\site-packages\\sklearn\\ensemble\\_forest.py:427: FutureWarning: `max_features='auto'` has been deprecated in 1.1 and will be removed in 1.3. To keep the past behaviour, explicitly set `max_features='sqrt'` or remove this parameter as it is also the default value for RandomForestClassifiers and ExtraTreesClassifiers.\n",
      "  warn(\n",
      "C:\\Users\\user\\anaconda3\\lib\\site-packages\\sklearn\\ensemble\\_forest.py:427: FutureWarning: `max_features='auto'` has been deprecated in 1.1 and will be removed in 1.3. To keep the past behaviour, explicitly set `max_features='sqrt'` or remove this parameter as it is also the default value for RandomForestClassifiers and ExtraTreesClassifiers.\n",
      "  warn(\n",
      "C:\\Users\\user\\anaconda3\\lib\\site-packages\\sklearn\\ensemble\\_forest.py:427: FutureWarning: `max_features='auto'` has been deprecated in 1.1 and will be removed in 1.3. To keep the past behaviour, explicitly set `max_features='sqrt'` or remove this parameter as it is also the default value for RandomForestClassifiers and ExtraTreesClassifiers.\n",
      "  warn(\n",
      "C:\\Users\\user\\anaconda3\\lib\\site-packages\\sklearn\\ensemble\\_forest.py:427: FutureWarning: `max_features='auto'` has been deprecated in 1.1 and will be removed in 1.3. To keep the past behaviour, explicitly set `max_features='sqrt'` or remove this parameter as it is also the default value for RandomForestClassifiers and ExtraTreesClassifiers.\n",
      "  warn(\n",
      "C:\\Users\\user\\anaconda3\\lib\\site-packages\\sklearn\\ensemble\\_forest.py:427: FutureWarning: `max_features='auto'` has been deprecated in 1.1 and will be removed in 1.3. To keep the past behaviour, explicitly set `max_features='sqrt'` or remove this parameter as it is also the default value for RandomForestClassifiers and ExtraTreesClassifiers.\n",
      "  warn(\n",
      "C:\\Users\\user\\anaconda3\\lib\\site-packages\\sklearn\\ensemble\\_forest.py:427: FutureWarning: `max_features='auto'` has been deprecated in 1.1 and will be removed in 1.3. To keep the past behaviour, explicitly set `max_features='sqrt'` or remove this parameter as it is also the default value for RandomForestClassifiers and ExtraTreesClassifiers.\n",
      "  warn(\n",
      "C:\\Users\\user\\anaconda3\\lib\\site-packages\\sklearn\\ensemble\\_forest.py:427: FutureWarning: `max_features='auto'` has been deprecated in 1.1 and will be removed in 1.3. To keep the past behaviour, explicitly set `max_features='sqrt'` or remove this parameter as it is also the default value for RandomForestClassifiers and ExtraTreesClassifiers.\n",
      "  warn(\n",
      "C:\\Users\\user\\anaconda3\\lib\\site-packages\\sklearn\\ensemble\\_forest.py:427: FutureWarning: `max_features='auto'` has been deprecated in 1.1 and will be removed in 1.3. To keep the past behaviour, explicitly set `max_features='sqrt'` or remove this parameter as it is also the default value for RandomForestClassifiers and ExtraTreesClassifiers.\n",
      "  warn(\n",
      "C:\\Users\\user\\anaconda3\\lib\\site-packages\\sklearn\\ensemble\\_forest.py:427: FutureWarning: `max_features='auto'` has been deprecated in 1.1 and will be removed in 1.3. To keep the past behaviour, explicitly set `max_features='sqrt'` or remove this parameter as it is also the default value for RandomForestClassifiers and ExtraTreesClassifiers.\n",
      "  warn(\n",
      "C:\\Users\\user\\anaconda3\\lib\\site-packages\\sklearn\\ensemble\\_forest.py:427: FutureWarning: `max_features='auto'` has been deprecated in 1.1 and will be removed in 1.3. To keep the past behaviour, explicitly set `max_features='sqrt'` or remove this parameter as it is also the default value for RandomForestClassifiers and ExtraTreesClassifiers.\n",
      "  warn(\n",
      "C:\\Users\\user\\anaconda3\\lib\\site-packages\\sklearn\\ensemble\\_forest.py:427: FutureWarning: `max_features='auto'` has been deprecated in 1.1 and will be removed in 1.3. To keep the past behaviour, explicitly set `max_features='sqrt'` or remove this parameter as it is also the default value for RandomForestClassifiers and ExtraTreesClassifiers.\n",
      "  warn(\n",
      "C:\\Users\\user\\anaconda3\\lib\\site-packages\\sklearn\\ensemble\\_forest.py:427: FutureWarning: `max_features='auto'` has been deprecated in 1.1 and will be removed in 1.3. To keep the past behaviour, explicitly set `max_features='sqrt'` or remove this parameter as it is also the default value for RandomForestClassifiers and ExtraTreesClassifiers.\n",
      "  warn(\n",
      "C:\\Users\\user\\anaconda3\\lib\\site-packages\\sklearn\\ensemble\\_forest.py:427: FutureWarning: `max_features='auto'` has been deprecated in 1.1 and will be removed in 1.3. To keep the past behaviour, explicitly set `max_features='sqrt'` or remove this parameter as it is also the default value for RandomForestClassifiers and ExtraTreesClassifiers.\n",
      "  warn(\n",
      "C:\\Users\\user\\anaconda3\\lib\\site-packages\\sklearn\\ensemble\\_forest.py:427: FutureWarning: `max_features='auto'` has been deprecated in 1.1 and will be removed in 1.3. To keep the past behaviour, explicitly set `max_features='sqrt'` or remove this parameter as it is also the default value for RandomForestClassifiers and ExtraTreesClassifiers.\n",
      "  warn(\n",
      "C:\\Users\\user\\anaconda3\\lib\\site-packages\\sklearn\\ensemble\\_forest.py:427: FutureWarning: `max_features='auto'` has been deprecated in 1.1 and will be removed in 1.3. To keep the past behaviour, explicitly set `max_features='sqrt'` or remove this parameter as it is also the default value for RandomForestClassifiers and ExtraTreesClassifiers.\n",
      "  warn(\n",
      "C:\\Users\\user\\anaconda3\\lib\\site-packages\\sklearn\\ensemble\\_forest.py:427: FutureWarning: `max_features='auto'` has been deprecated in 1.1 and will be removed in 1.3. To keep the past behaviour, explicitly set `max_features='sqrt'` or remove this parameter as it is also the default value for RandomForestClassifiers and ExtraTreesClassifiers.\n",
      "  warn(\n",
      "C:\\Users\\user\\anaconda3\\lib\\site-packages\\sklearn\\ensemble\\_forest.py:427: FutureWarning: `max_features='auto'` has been deprecated in 1.1 and will be removed in 1.3. To keep the past behaviour, explicitly set `max_features='sqrt'` or remove this parameter as it is also the default value for RandomForestClassifiers and ExtraTreesClassifiers.\n",
      "  warn(\n",
      "C:\\Users\\user\\anaconda3\\lib\\site-packages\\sklearn\\ensemble\\_forest.py:427: FutureWarning: `max_features='auto'` has been deprecated in 1.1 and will be removed in 1.3. To keep the past behaviour, explicitly set `max_features='sqrt'` or remove this parameter as it is also the default value for RandomForestClassifiers and ExtraTreesClassifiers.\n",
      "  warn(\n",
      "C:\\Users\\user\\anaconda3\\lib\\site-packages\\sklearn\\ensemble\\_forest.py:427: FutureWarning: `max_features='auto'` has been deprecated in 1.1 and will be removed in 1.3. To keep the past behaviour, explicitly set `max_features='sqrt'` or remove this parameter as it is also the default value for RandomForestClassifiers and ExtraTreesClassifiers.\n",
      "  warn(\n",
      "C:\\Users\\user\\anaconda3\\lib\\site-packages\\sklearn\\ensemble\\_forest.py:427: FutureWarning: `max_features='auto'` has been deprecated in 1.1 and will be removed in 1.3. To keep the past behaviour, explicitly set `max_features='sqrt'` or remove this parameter as it is also the default value for RandomForestClassifiers and ExtraTreesClassifiers.\n",
      "  warn(\n",
      "C:\\Users\\user\\anaconda3\\lib\\site-packages\\sklearn\\ensemble\\_forest.py:427: FutureWarning: `max_features='auto'` has been deprecated in 1.1 and will be removed in 1.3. To keep the past behaviour, explicitly set `max_features='sqrt'` or remove this parameter as it is also the default value for RandomForestClassifiers and ExtraTreesClassifiers.\n",
      "  warn(\n"
     ]
    },
    {
     "name": "stderr",
     "output_type": "stream",
     "text": [
      "C:\\Users\\user\\anaconda3\\lib\\site-packages\\sklearn\\ensemble\\_forest.py:427: FutureWarning: `max_features='auto'` has been deprecated in 1.1 and will be removed in 1.3. To keep the past behaviour, explicitly set `max_features='sqrt'` or remove this parameter as it is also the default value for RandomForestClassifiers and ExtraTreesClassifiers.\n",
      "  warn(\n",
      "C:\\Users\\user\\anaconda3\\lib\\site-packages\\sklearn\\ensemble\\_forest.py:427: FutureWarning: `max_features='auto'` has been deprecated in 1.1 and will be removed in 1.3. To keep the past behaviour, explicitly set `max_features='sqrt'` or remove this parameter as it is also the default value for RandomForestClassifiers and ExtraTreesClassifiers.\n",
      "  warn(\n",
      "C:\\Users\\user\\anaconda3\\lib\\site-packages\\sklearn\\ensemble\\_forest.py:427: FutureWarning: `max_features='auto'` has been deprecated in 1.1 and will be removed in 1.3. To keep the past behaviour, explicitly set `max_features='sqrt'` or remove this parameter as it is also the default value for RandomForestClassifiers and ExtraTreesClassifiers.\n",
      "  warn(\n",
      "C:\\Users\\user\\anaconda3\\lib\\site-packages\\sklearn\\ensemble\\_forest.py:427: FutureWarning: `max_features='auto'` has been deprecated in 1.1 and will be removed in 1.3. To keep the past behaviour, explicitly set `max_features='sqrt'` or remove this parameter as it is also the default value for RandomForestClassifiers and ExtraTreesClassifiers.\n",
      "  warn(\n",
      "C:\\Users\\user\\anaconda3\\lib\\site-packages\\sklearn\\ensemble\\_forest.py:427: FutureWarning: `max_features='auto'` has been deprecated in 1.1 and will be removed in 1.3. To keep the past behaviour, explicitly set `max_features='sqrt'` or remove this parameter as it is also the default value for RandomForestClassifiers and ExtraTreesClassifiers.\n",
      "  warn(\n",
      "C:\\Users\\user\\anaconda3\\lib\\site-packages\\sklearn\\ensemble\\_forest.py:427: FutureWarning: `max_features='auto'` has been deprecated in 1.1 and will be removed in 1.3. To keep the past behaviour, explicitly set `max_features='sqrt'` or remove this parameter as it is also the default value for RandomForestClassifiers and ExtraTreesClassifiers.\n",
      "  warn(\n",
      "C:\\Users\\user\\anaconda3\\lib\\site-packages\\sklearn\\ensemble\\_forest.py:427: FutureWarning: `max_features='auto'` has been deprecated in 1.1 and will be removed in 1.3. To keep the past behaviour, explicitly set `max_features='sqrt'` or remove this parameter as it is also the default value for RandomForestClassifiers and ExtraTreesClassifiers.\n",
      "  warn(\n",
      "C:\\Users\\user\\anaconda3\\lib\\site-packages\\sklearn\\ensemble\\_forest.py:427: FutureWarning: `max_features='auto'` has been deprecated in 1.1 and will be removed in 1.3. To keep the past behaviour, explicitly set `max_features='sqrt'` or remove this parameter as it is also the default value for RandomForestClassifiers and ExtraTreesClassifiers.\n",
      "  warn(\n",
      "C:\\Users\\user\\anaconda3\\lib\\site-packages\\sklearn\\ensemble\\_forest.py:427: FutureWarning: `max_features='auto'` has been deprecated in 1.1 and will be removed in 1.3. To keep the past behaviour, explicitly set `max_features='sqrt'` or remove this parameter as it is also the default value for RandomForestClassifiers and ExtraTreesClassifiers.\n",
      "  warn(\n",
      "C:\\Users\\user\\anaconda3\\lib\\site-packages\\sklearn\\ensemble\\_forest.py:427: FutureWarning: `max_features='auto'` has been deprecated in 1.1 and will be removed in 1.3. To keep the past behaviour, explicitly set `max_features='sqrt'` or remove this parameter as it is also the default value for RandomForestClassifiers and ExtraTreesClassifiers.\n",
      "  warn(\n",
      "C:\\Users\\user\\anaconda3\\lib\\site-packages\\sklearn\\ensemble\\_forest.py:427: FutureWarning: `max_features='auto'` has been deprecated in 1.1 and will be removed in 1.3. To keep the past behaviour, explicitly set `max_features='sqrt'` or remove this parameter as it is also the default value for RandomForestClassifiers and ExtraTreesClassifiers.\n",
      "  warn(\n",
      "C:\\Users\\user\\anaconda3\\lib\\site-packages\\sklearn\\ensemble\\_forest.py:427: FutureWarning: `max_features='auto'` has been deprecated in 1.1 and will be removed in 1.3. To keep the past behaviour, explicitly set `max_features='sqrt'` or remove this parameter as it is also the default value for RandomForestClassifiers and ExtraTreesClassifiers.\n",
      "  warn(\n",
      "C:\\Users\\user\\anaconda3\\lib\\site-packages\\sklearn\\ensemble\\_forest.py:427: FutureWarning: `max_features='auto'` has been deprecated in 1.1 and will be removed in 1.3. To keep the past behaviour, explicitly set `max_features='sqrt'` or remove this parameter as it is also the default value for RandomForestClassifiers and ExtraTreesClassifiers.\n",
      "  warn(\n",
      "C:\\Users\\user\\anaconda3\\lib\\site-packages\\sklearn\\ensemble\\_forest.py:427: FutureWarning: `max_features='auto'` has been deprecated in 1.1 and will be removed in 1.3. To keep the past behaviour, explicitly set `max_features='sqrt'` or remove this parameter as it is also the default value for RandomForestClassifiers and ExtraTreesClassifiers.\n",
      "  warn(\n",
      "C:\\Users\\user\\anaconda3\\lib\\site-packages\\sklearn\\ensemble\\_forest.py:427: FutureWarning: `max_features='auto'` has been deprecated in 1.1 and will be removed in 1.3. To keep the past behaviour, explicitly set `max_features='sqrt'` or remove this parameter as it is also the default value for RandomForestClassifiers and ExtraTreesClassifiers.\n",
      "  warn(\n",
      "C:\\Users\\user\\anaconda3\\lib\\site-packages\\sklearn\\ensemble\\_forest.py:427: FutureWarning: `max_features='auto'` has been deprecated in 1.1 and will be removed in 1.3. To keep the past behaviour, explicitly set `max_features='sqrt'` or remove this parameter as it is also the default value for RandomForestClassifiers and ExtraTreesClassifiers.\n",
      "  warn(\n",
      "C:\\Users\\user\\anaconda3\\lib\\site-packages\\sklearn\\ensemble\\_forest.py:427: FutureWarning: `max_features='auto'` has been deprecated in 1.1 and will be removed in 1.3. To keep the past behaviour, explicitly set `max_features='sqrt'` or remove this parameter as it is also the default value for RandomForestClassifiers and ExtraTreesClassifiers.\n",
      "  warn(\n",
      "C:\\Users\\user\\anaconda3\\lib\\site-packages\\sklearn\\ensemble\\_forest.py:427: FutureWarning: `max_features='auto'` has been deprecated in 1.1 and will be removed in 1.3. To keep the past behaviour, explicitly set `max_features='sqrt'` or remove this parameter as it is also the default value for RandomForestClassifiers and ExtraTreesClassifiers.\n",
      "  warn(\n",
      "C:\\Users\\user\\anaconda3\\lib\\site-packages\\sklearn\\ensemble\\_forest.py:427: FutureWarning: `max_features='auto'` has been deprecated in 1.1 and will be removed in 1.3. To keep the past behaviour, explicitly set `max_features='sqrt'` or remove this parameter as it is also the default value for RandomForestClassifiers and ExtraTreesClassifiers.\n",
      "  warn(\n",
      "C:\\Users\\user\\anaconda3\\lib\\site-packages\\sklearn\\ensemble\\_forest.py:427: FutureWarning: `max_features='auto'` has been deprecated in 1.1 and will be removed in 1.3. To keep the past behaviour, explicitly set `max_features='sqrt'` or remove this parameter as it is also the default value for RandomForestClassifiers and ExtraTreesClassifiers.\n",
      "  warn(\n",
      "C:\\Users\\user\\anaconda3\\lib\\site-packages\\sklearn\\ensemble\\_forest.py:427: FutureWarning: `max_features='auto'` has been deprecated in 1.1 and will be removed in 1.3. To keep the past behaviour, explicitly set `max_features='sqrt'` or remove this parameter as it is also the default value for RandomForestClassifiers and ExtraTreesClassifiers.\n",
      "  warn(\n",
      "C:\\Users\\user\\anaconda3\\lib\\site-packages\\sklearn\\ensemble\\_forest.py:427: FutureWarning: `max_features='auto'` has been deprecated in 1.1 and will be removed in 1.3. To keep the past behaviour, explicitly set `max_features='sqrt'` or remove this parameter as it is also the default value for RandomForestClassifiers and ExtraTreesClassifiers.\n",
      "  warn(\n",
      "C:\\Users\\user\\anaconda3\\lib\\site-packages\\sklearn\\ensemble\\_forest.py:427: FutureWarning: `max_features='auto'` has been deprecated in 1.1 and will be removed in 1.3. To keep the past behaviour, explicitly set `max_features='sqrt'` or remove this parameter as it is also the default value for RandomForestClassifiers and ExtraTreesClassifiers.\n",
      "  warn(\n",
      "C:\\Users\\user\\anaconda3\\lib\\site-packages\\sklearn\\ensemble\\_forest.py:427: FutureWarning: `max_features='auto'` has been deprecated in 1.1 and will be removed in 1.3. To keep the past behaviour, explicitly set `max_features='sqrt'` or remove this parameter as it is also the default value for RandomForestClassifiers and ExtraTreesClassifiers.\n",
      "  warn(\n"
     ]
    },
    {
     "name": "stderr",
     "output_type": "stream",
     "text": [
      "C:\\Users\\user\\anaconda3\\lib\\site-packages\\sklearn\\ensemble\\_forest.py:427: FutureWarning: `max_features='auto'` has been deprecated in 1.1 and will be removed in 1.3. To keep the past behaviour, explicitly set `max_features='sqrt'` or remove this parameter as it is also the default value for RandomForestClassifiers and ExtraTreesClassifiers.\n",
      "  warn(\n",
      "C:\\Users\\user\\anaconda3\\lib\\site-packages\\sklearn\\ensemble\\_forest.py:427: FutureWarning: `max_features='auto'` has been deprecated in 1.1 and will be removed in 1.3. To keep the past behaviour, explicitly set `max_features='sqrt'` or remove this parameter as it is also the default value for RandomForestClassifiers and ExtraTreesClassifiers.\n",
      "  warn(\n",
      "C:\\Users\\user\\anaconda3\\lib\\site-packages\\sklearn\\ensemble\\_forest.py:427: FutureWarning: `max_features='auto'` has been deprecated in 1.1 and will be removed in 1.3. To keep the past behaviour, explicitly set `max_features='sqrt'` or remove this parameter as it is also the default value for RandomForestClassifiers and ExtraTreesClassifiers.\n",
      "  warn(\n",
      "C:\\Users\\user\\anaconda3\\lib\\site-packages\\sklearn\\ensemble\\_forest.py:427: FutureWarning: `max_features='auto'` has been deprecated in 1.1 and will be removed in 1.3. To keep the past behaviour, explicitly set `max_features='sqrt'` or remove this parameter as it is also the default value for RandomForestClassifiers and ExtraTreesClassifiers.\n",
      "  warn(\n",
      "C:\\Users\\user\\anaconda3\\lib\\site-packages\\sklearn\\ensemble\\_forest.py:427: FutureWarning: `max_features='auto'` has been deprecated in 1.1 and will be removed in 1.3. To keep the past behaviour, explicitly set `max_features='sqrt'` or remove this parameter as it is also the default value for RandomForestClassifiers and ExtraTreesClassifiers.\n",
      "  warn(\n",
      "C:\\Users\\user\\anaconda3\\lib\\site-packages\\sklearn\\ensemble\\_forest.py:427: FutureWarning: `max_features='auto'` has been deprecated in 1.1 and will be removed in 1.3. To keep the past behaviour, explicitly set `max_features='sqrt'` or remove this parameter as it is also the default value for RandomForestClassifiers and ExtraTreesClassifiers.\n",
      "  warn(\n",
      "C:\\Users\\user\\anaconda3\\lib\\site-packages\\sklearn\\ensemble\\_forest.py:427: FutureWarning: `max_features='auto'` has been deprecated in 1.1 and will be removed in 1.3. To keep the past behaviour, explicitly set `max_features='sqrt'` or remove this parameter as it is also the default value for RandomForestClassifiers and ExtraTreesClassifiers.\n",
      "  warn(\n",
      "C:\\Users\\user\\anaconda3\\lib\\site-packages\\sklearn\\ensemble\\_forest.py:427: FutureWarning: `max_features='auto'` has been deprecated in 1.1 and will be removed in 1.3. To keep the past behaviour, explicitly set `max_features='sqrt'` or remove this parameter as it is also the default value for RandomForestClassifiers and ExtraTreesClassifiers.\n",
      "  warn(\n",
      "C:\\Users\\user\\anaconda3\\lib\\site-packages\\sklearn\\ensemble\\_forest.py:427: FutureWarning: `max_features='auto'` has been deprecated in 1.1 and will be removed in 1.3. To keep the past behaviour, explicitly set `max_features='sqrt'` or remove this parameter as it is also the default value for RandomForestClassifiers and ExtraTreesClassifiers.\n",
      "  warn(\n",
      "C:\\Users\\user\\anaconda3\\lib\\site-packages\\sklearn\\ensemble\\_forest.py:427: FutureWarning: `max_features='auto'` has been deprecated in 1.1 and will be removed in 1.3. To keep the past behaviour, explicitly set `max_features='sqrt'` or remove this parameter as it is also the default value for RandomForestClassifiers and ExtraTreesClassifiers.\n",
      "  warn(\n",
      "C:\\Users\\user\\anaconda3\\lib\\site-packages\\sklearn\\ensemble\\_forest.py:427: FutureWarning: `max_features='auto'` has been deprecated in 1.1 and will be removed in 1.3. To keep the past behaviour, explicitly set `max_features='sqrt'` or remove this parameter as it is also the default value for RandomForestClassifiers and ExtraTreesClassifiers.\n",
      "  warn(\n",
      "C:\\Users\\user\\anaconda3\\lib\\site-packages\\sklearn\\ensemble\\_forest.py:427: FutureWarning: `max_features='auto'` has been deprecated in 1.1 and will be removed in 1.3. To keep the past behaviour, explicitly set `max_features='sqrt'` or remove this parameter as it is also the default value for RandomForestClassifiers and ExtraTreesClassifiers.\n",
      "  warn(\n",
      "C:\\Users\\user\\anaconda3\\lib\\site-packages\\sklearn\\ensemble\\_forest.py:427: FutureWarning: `max_features='auto'` has been deprecated in 1.1 and will be removed in 1.3. To keep the past behaviour, explicitly set `max_features='sqrt'` or remove this parameter as it is also the default value for RandomForestClassifiers and ExtraTreesClassifiers.\n",
      "  warn(\n",
      "C:\\Users\\user\\anaconda3\\lib\\site-packages\\sklearn\\ensemble\\_forest.py:427: FutureWarning: `max_features='auto'` has been deprecated in 1.1 and will be removed in 1.3. To keep the past behaviour, explicitly set `max_features='sqrt'` or remove this parameter as it is also the default value for RandomForestClassifiers and ExtraTreesClassifiers.\n",
      "  warn(\n",
      "C:\\Users\\user\\anaconda3\\lib\\site-packages\\sklearn\\ensemble\\_forest.py:427: FutureWarning: `max_features='auto'` has been deprecated in 1.1 and will be removed in 1.3. To keep the past behaviour, explicitly set `max_features='sqrt'` or remove this parameter as it is also the default value for RandomForestClassifiers and ExtraTreesClassifiers.\n",
      "  warn(\n",
      "C:\\Users\\user\\anaconda3\\lib\\site-packages\\sklearn\\ensemble\\_forest.py:427: FutureWarning: `max_features='auto'` has been deprecated in 1.1 and will be removed in 1.3. To keep the past behaviour, explicitly set `max_features='sqrt'` or remove this parameter as it is also the default value for RandomForestClassifiers and ExtraTreesClassifiers.\n",
      "  warn(\n",
      "C:\\Users\\user\\anaconda3\\lib\\site-packages\\sklearn\\ensemble\\_forest.py:427: FutureWarning: `max_features='auto'` has been deprecated in 1.1 and will be removed in 1.3. To keep the past behaviour, explicitly set `max_features='sqrt'` or remove this parameter as it is also the default value for RandomForestClassifiers and ExtraTreesClassifiers.\n",
      "  warn(\n",
      "C:\\Users\\user\\anaconda3\\lib\\site-packages\\sklearn\\ensemble\\_forest.py:427: FutureWarning: `max_features='auto'` has been deprecated in 1.1 and will be removed in 1.3. To keep the past behaviour, explicitly set `max_features='sqrt'` or remove this parameter as it is also the default value for RandomForestClassifiers and ExtraTreesClassifiers.\n",
      "  warn(\n",
      "C:\\Users\\user\\anaconda3\\lib\\site-packages\\sklearn\\ensemble\\_forest.py:427: FutureWarning: `max_features='auto'` has been deprecated in 1.1 and will be removed in 1.3. To keep the past behaviour, explicitly set `max_features='sqrt'` or remove this parameter as it is also the default value for RandomForestClassifiers and ExtraTreesClassifiers.\n",
      "  warn(\n",
      "C:\\Users\\user\\anaconda3\\lib\\site-packages\\sklearn\\ensemble\\_forest.py:427: FutureWarning: `max_features='auto'` has been deprecated in 1.1 and will be removed in 1.3. To keep the past behaviour, explicitly set `max_features='sqrt'` or remove this parameter as it is also the default value for RandomForestClassifiers and ExtraTreesClassifiers.\n",
      "  warn(\n",
      "C:\\Users\\user\\anaconda3\\lib\\site-packages\\sklearn\\ensemble\\_forest.py:427: FutureWarning: `max_features='auto'` has been deprecated in 1.1 and will be removed in 1.3. To keep the past behaviour, explicitly set `max_features='sqrt'` or remove this parameter as it is also the default value for RandomForestClassifiers and ExtraTreesClassifiers.\n",
      "  warn(\n",
      "C:\\Users\\user\\anaconda3\\lib\\site-packages\\sklearn\\ensemble\\_forest.py:427: FutureWarning: `max_features='auto'` has been deprecated in 1.1 and will be removed in 1.3. To keep the past behaviour, explicitly set `max_features='sqrt'` or remove this parameter as it is also the default value for RandomForestClassifiers and ExtraTreesClassifiers.\n",
      "  warn(\n",
      "C:\\Users\\user\\anaconda3\\lib\\site-packages\\sklearn\\ensemble\\_forest.py:427: FutureWarning: `max_features='auto'` has been deprecated in 1.1 and will be removed in 1.3. To keep the past behaviour, explicitly set `max_features='sqrt'` or remove this parameter as it is also the default value for RandomForestClassifiers and ExtraTreesClassifiers.\n",
      "  warn(\n",
      "C:\\Users\\user\\anaconda3\\lib\\site-packages\\sklearn\\ensemble\\_forest.py:427: FutureWarning: `max_features='auto'` has been deprecated in 1.1 and will be removed in 1.3. To keep the past behaviour, explicitly set `max_features='sqrt'` or remove this parameter as it is also the default value for RandomForestClassifiers and ExtraTreesClassifiers.\n",
      "  warn(\n"
     ]
    },
    {
     "name": "stderr",
     "output_type": "stream",
     "text": [
      "C:\\Users\\user\\anaconda3\\lib\\site-packages\\sklearn\\ensemble\\_forest.py:427: FutureWarning: `max_features='auto'` has been deprecated in 1.1 and will be removed in 1.3. To keep the past behaviour, explicitly set `max_features='sqrt'` or remove this parameter as it is also the default value for RandomForestClassifiers and ExtraTreesClassifiers.\n",
      "  warn(\n",
      "C:\\Users\\user\\anaconda3\\lib\\site-packages\\sklearn\\ensemble\\_forest.py:427: FutureWarning: `max_features='auto'` has been deprecated in 1.1 and will be removed in 1.3. To keep the past behaviour, explicitly set `max_features='sqrt'` or remove this parameter as it is also the default value for RandomForestClassifiers and ExtraTreesClassifiers.\n",
      "  warn(\n",
      "C:\\Users\\user\\anaconda3\\lib\\site-packages\\sklearn\\ensemble\\_forest.py:427: FutureWarning: `max_features='auto'` has been deprecated in 1.1 and will be removed in 1.3. To keep the past behaviour, explicitly set `max_features='sqrt'` or remove this parameter as it is also the default value for RandomForestClassifiers and ExtraTreesClassifiers.\n",
      "  warn(\n",
      "C:\\Users\\user\\anaconda3\\lib\\site-packages\\sklearn\\ensemble\\_forest.py:427: FutureWarning: `max_features='auto'` has been deprecated in 1.1 and will be removed in 1.3. To keep the past behaviour, explicitly set `max_features='sqrt'` or remove this parameter as it is also the default value for RandomForestClassifiers and ExtraTreesClassifiers.\n",
      "  warn(\n",
      "C:\\Users\\user\\anaconda3\\lib\\site-packages\\sklearn\\ensemble\\_forest.py:427: FutureWarning: `max_features='auto'` has been deprecated in 1.1 and will be removed in 1.3. To keep the past behaviour, explicitly set `max_features='sqrt'` or remove this parameter as it is also the default value for RandomForestClassifiers and ExtraTreesClassifiers.\n",
      "  warn(\n",
      "C:\\Users\\user\\anaconda3\\lib\\site-packages\\sklearn\\ensemble\\_forest.py:427: FutureWarning: `max_features='auto'` has been deprecated in 1.1 and will be removed in 1.3. To keep the past behaviour, explicitly set `max_features='sqrt'` or remove this parameter as it is also the default value for RandomForestClassifiers and ExtraTreesClassifiers.\n",
      "  warn(\n",
      "C:\\Users\\user\\anaconda3\\lib\\site-packages\\sklearn\\ensemble\\_forest.py:427: FutureWarning: `max_features='auto'` has been deprecated in 1.1 and will be removed in 1.3. To keep the past behaviour, explicitly set `max_features='sqrt'` or remove this parameter as it is also the default value for RandomForestClassifiers and ExtraTreesClassifiers.\n",
      "  warn(\n",
      "C:\\Users\\user\\anaconda3\\lib\\site-packages\\sklearn\\ensemble\\_forest.py:427: FutureWarning: `max_features='auto'` has been deprecated in 1.1 and will be removed in 1.3. To keep the past behaviour, explicitly set `max_features='sqrt'` or remove this parameter as it is also the default value for RandomForestClassifiers and ExtraTreesClassifiers.\n",
      "  warn(\n",
      "C:\\Users\\user\\anaconda3\\lib\\site-packages\\sklearn\\ensemble\\_forest.py:427: FutureWarning: `max_features='auto'` has been deprecated in 1.1 and will be removed in 1.3. To keep the past behaviour, explicitly set `max_features='sqrt'` or remove this parameter as it is also the default value for RandomForestClassifiers and ExtraTreesClassifiers.\n",
      "  warn(\n",
      "C:\\Users\\user\\anaconda3\\lib\\site-packages\\sklearn\\ensemble\\_forest.py:427: FutureWarning: `max_features='auto'` has been deprecated in 1.1 and will be removed in 1.3. To keep the past behaviour, explicitly set `max_features='sqrt'` or remove this parameter as it is also the default value for RandomForestClassifiers and ExtraTreesClassifiers.\n",
      "  warn(\n",
      "C:\\Users\\user\\anaconda3\\lib\\site-packages\\sklearn\\ensemble\\_forest.py:427: FutureWarning: `max_features='auto'` has been deprecated in 1.1 and will be removed in 1.3. To keep the past behaviour, explicitly set `max_features='sqrt'` or remove this parameter as it is also the default value for RandomForestClassifiers and ExtraTreesClassifiers.\n",
      "  warn(\n",
      "C:\\Users\\user\\anaconda3\\lib\\site-packages\\sklearn\\ensemble\\_forest.py:427: FutureWarning: `max_features='auto'` has been deprecated in 1.1 and will be removed in 1.3. To keep the past behaviour, explicitly set `max_features='sqrt'` or remove this parameter as it is also the default value for RandomForestClassifiers and ExtraTreesClassifiers.\n",
      "  warn(\n",
      "C:\\Users\\user\\anaconda3\\lib\\site-packages\\sklearn\\ensemble\\_forest.py:427: FutureWarning: `max_features='auto'` has been deprecated in 1.1 and will be removed in 1.3. To keep the past behaviour, explicitly set `max_features='sqrt'` or remove this parameter as it is also the default value for RandomForestClassifiers and ExtraTreesClassifiers.\n",
      "  warn(\n",
      "C:\\Users\\user\\anaconda3\\lib\\site-packages\\sklearn\\ensemble\\_forest.py:427: FutureWarning: `max_features='auto'` has been deprecated in 1.1 and will be removed in 1.3. To keep the past behaviour, explicitly set `max_features='sqrt'` or remove this parameter as it is also the default value for RandomForestClassifiers and ExtraTreesClassifiers.\n",
      "  warn(\n",
      "C:\\Users\\user\\anaconda3\\lib\\site-packages\\sklearn\\ensemble\\_forest.py:427: FutureWarning: `max_features='auto'` has been deprecated in 1.1 and will be removed in 1.3. To keep the past behaviour, explicitly set `max_features='sqrt'` or remove this parameter as it is also the default value for RandomForestClassifiers and ExtraTreesClassifiers.\n",
      "  warn(\n",
      "C:\\Users\\user\\anaconda3\\lib\\site-packages\\sklearn\\ensemble\\_forest.py:427: FutureWarning: `max_features='auto'` has been deprecated in 1.1 and will be removed in 1.3. To keep the past behaviour, explicitly set `max_features='sqrt'` or remove this parameter as it is also the default value for RandomForestClassifiers and ExtraTreesClassifiers.\n",
      "  warn(\n"
     ]
    },
    {
     "data": {
      "text/html": [
       "<style>#sk-container-id-7 {color: black;background-color: white;}#sk-container-id-7 pre{padding: 0;}#sk-container-id-7 div.sk-toggleable {background-color: white;}#sk-container-id-7 label.sk-toggleable__label {cursor: pointer;display: block;width: 100%;margin-bottom: 0;padding: 0.3em;box-sizing: border-box;text-align: center;}#sk-container-id-7 label.sk-toggleable__label-arrow:before {content: \"▸\";float: left;margin-right: 0.25em;color: #696969;}#sk-container-id-7 label.sk-toggleable__label-arrow:hover:before {color: black;}#sk-container-id-7 div.sk-estimator:hover label.sk-toggleable__label-arrow:before {color: black;}#sk-container-id-7 div.sk-toggleable__content {max-height: 0;max-width: 0;overflow: hidden;text-align: left;background-color: #f0f8ff;}#sk-container-id-7 div.sk-toggleable__content pre {margin: 0.2em;color: black;border-radius: 0.25em;background-color: #f0f8ff;}#sk-container-id-7 input.sk-toggleable__control:checked~div.sk-toggleable__content {max-height: 200px;max-width: 100%;overflow: auto;}#sk-container-id-7 input.sk-toggleable__control:checked~label.sk-toggleable__label-arrow:before {content: \"▾\";}#sk-container-id-7 div.sk-estimator input.sk-toggleable__control:checked~label.sk-toggleable__label {background-color: #d4ebff;}#sk-container-id-7 div.sk-label input.sk-toggleable__control:checked~label.sk-toggleable__label {background-color: #d4ebff;}#sk-container-id-7 input.sk-hidden--visually {border: 0;clip: rect(1px 1px 1px 1px);clip: rect(1px, 1px, 1px, 1px);height: 1px;margin: -1px;overflow: hidden;padding: 0;position: absolute;width: 1px;}#sk-container-id-7 div.sk-estimator {font-family: monospace;background-color: #f0f8ff;border: 1px dotted black;border-radius: 0.25em;box-sizing: border-box;margin-bottom: 0.5em;}#sk-container-id-7 div.sk-estimator:hover {background-color: #d4ebff;}#sk-container-id-7 div.sk-parallel-item::after {content: \"\";width: 100%;border-bottom: 1px solid gray;flex-grow: 1;}#sk-container-id-7 div.sk-label:hover label.sk-toggleable__label {background-color: #d4ebff;}#sk-container-id-7 div.sk-serial::before {content: \"\";position: absolute;border-left: 1px solid gray;box-sizing: border-box;top: 0;bottom: 0;left: 50%;z-index: 0;}#sk-container-id-7 div.sk-serial {display: flex;flex-direction: column;align-items: center;background-color: white;padding-right: 0.2em;padding-left: 0.2em;position: relative;}#sk-container-id-7 div.sk-item {position: relative;z-index: 1;}#sk-container-id-7 div.sk-parallel {display: flex;align-items: stretch;justify-content: center;background-color: white;position: relative;}#sk-container-id-7 div.sk-item::before, #sk-container-id-7 div.sk-parallel-item::before {content: \"\";position: absolute;border-left: 1px solid gray;box-sizing: border-box;top: 0;bottom: 0;left: 50%;z-index: -1;}#sk-container-id-7 div.sk-parallel-item {display: flex;flex-direction: column;z-index: 1;position: relative;background-color: white;}#sk-container-id-7 div.sk-parallel-item:first-child::after {align-self: flex-end;width: 50%;}#sk-container-id-7 div.sk-parallel-item:last-child::after {align-self: flex-start;width: 50%;}#sk-container-id-7 div.sk-parallel-item:only-child::after {width: 0;}#sk-container-id-7 div.sk-dashed-wrapped {border: 1px dashed gray;margin: 0 0.4em 0.5em 0.4em;box-sizing: border-box;padding-bottom: 0.4em;background-color: white;}#sk-container-id-7 div.sk-label label {font-family: monospace;font-weight: bold;display: inline-block;line-height: 1.2em;}#sk-container-id-7 div.sk-label-container {text-align: center;}#sk-container-id-7 div.sk-container {/* jupyter's `normalize.less` sets `[hidden] { display: none; }` but bootstrap.min.css set `[hidden] { display: none !important; }` so we also need the `!important` here to be able to override the default hidden behavior on the sphinx rendered scikit-learn.org. See: https://github.com/scikit-learn/scikit-learn/issues/21755 */display: inline-block !important;position: relative;}#sk-container-id-7 div.sk-text-repr-fallback {display: none;}</style><div id=\"sk-container-id-7\" class=\"sk-top-container\"><div class=\"sk-text-repr-fallback\"><pre>GridSearchCV(cv=5, estimator=RandomForestClassifier(),\n",
       "             param_grid={&#x27;class_weight&#x27;: [&#x27;balanced&#x27;], &#x27;criterion&#x27;: [&#x27;gini&#x27;],\n",
       "                         &#x27;max_depth&#x27;: [5, 10, 15], &#x27;max_features&#x27;: [&#x27;auto&#x27;],\n",
       "                         &#x27;max_samples&#x27;: [0.6, 0.7, 0.8],\n",
       "                         &#x27;min_samples_split&#x27;: [10, 20, 50],\n",
       "                         &#x27;n_estimators&#x27;: [100]},\n",
       "             return_train_score=True, scoring=&#x27;f1&#x27;)</pre><b>In a Jupyter environment, please rerun this cell to show the HTML representation or trust the notebook. <br />On GitHub, the HTML representation is unable to render, please try loading this page with nbviewer.org.</b></div><div class=\"sk-container\" hidden><div class=\"sk-item sk-dashed-wrapped\"><div class=\"sk-label-container\"><div class=\"sk-label sk-toggleable\"><input class=\"sk-toggleable__control sk-hidden--visually\" id=\"sk-estimator-id-11\" type=\"checkbox\" ><label for=\"sk-estimator-id-11\" class=\"sk-toggleable__label sk-toggleable__label-arrow\">GridSearchCV</label><div class=\"sk-toggleable__content\"><pre>GridSearchCV(cv=5, estimator=RandomForestClassifier(),\n",
       "             param_grid={&#x27;class_weight&#x27;: [&#x27;balanced&#x27;], &#x27;criterion&#x27;: [&#x27;gini&#x27;],\n",
       "                         &#x27;max_depth&#x27;: [5, 10, 15], &#x27;max_features&#x27;: [&#x27;auto&#x27;],\n",
       "                         &#x27;max_samples&#x27;: [0.6, 0.7, 0.8],\n",
       "                         &#x27;min_samples_split&#x27;: [10, 20, 50],\n",
       "                         &#x27;n_estimators&#x27;: [100]},\n",
       "             return_train_score=True, scoring=&#x27;f1&#x27;)</pre></div></div></div><div class=\"sk-parallel\"><div class=\"sk-parallel-item\"><div class=\"sk-item\"><div class=\"sk-label-container\"><div class=\"sk-label sk-toggleable\"><input class=\"sk-toggleable__control sk-hidden--visually\" id=\"sk-estimator-id-12\" type=\"checkbox\" ><label for=\"sk-estimator-id-12\" class=\"sk-toggleable__label sk-toggleable__label-arrow\">estimator: RandomForestClassifier</label><div class=\"sk-toggleable__content\"><pre>RandomForestClassifier()</pre></div></div></div><div class=\"sk-serial\"><div class=\"sk-item\"><div class=\"sk-estimator sk-toggleable\"><input class=\"sk-toggleable__control sk-hidden--visually\" id=\"sk-estimator-id-13\" type=\"checkbox\" ><label for=\"sk-estimator-id-13\" class=\"sk-toggleable__label sk-toggleable__label-arrow\">RandomForestClassifier</label><div class=\"sk-toggleable__content\"><pre>RandomForestClassifier()</pre></div></div></div></div></div></div></div></div></div></div>"
      ],
      "text/plain": [
       "GridSearchCV(cv=5, estimator=RandomForestClassifier(),\n",
       "             param_grid={'class_weight': ['balanced'], 'criterion': ['gini'],\n",
       "                         'max_depth': [5, 10, 15], 'max_features': ['auto'],\n",
       "                         'max_samples': [0.6, 0.7, 0.8],\n",
       "                         'min_samples_split': [10, 20, 50],\n",
       "                         'n_estimators': [100]},\n",
       "             return_train_score=True, scoring='f1')"
      ]
     },
     "execution_count": 143,
     "metadata": {},
     "output_type": "execute_result"
    }
   ],
   "source": [
    "##### Fitting grid search cv to find the best combination of hyper parameters ####\n",
    "\n",
    "grid_search = GridSearchCV(estimator = clf,param_grid = params,cv = 5,scoring = 'f1',return_train_score=True)\n",
    "\n",
    "grid_search.fit(features_df,target_df)"
   ]
  },
  {
   "cell_type": "code",
   "execution_count": 157,
   "metadata": {
    "colab": {
     "base_uri": "https://localhost:8080/"
    },
    "id": "-0KjyuPxmMyJ",
    "outputId": "92163026-1cfa-47fa-ca3f-94c87b8e9af0"
   },
   "outputs": [
    {
     "name": "stdout",
     "output_type": "stream",
     "text": [
      "{'class_weight': 'balanced', 'criterion': 'gini', 'max_depth': 15, 'max_features': 'auto', 'max_samples': 0.8, 'min_samples_split': 20, 'n_estimators': 100}\n",
      "0.9412585384667954\n",
      "0.813894466584095\n"
     ]
    }
   ],
   "source": [
    "a = grid_search.cv_results_ ### parameter comb,train_score, val_score\n",
    "\n",
    "print(a['params'][25])\n",
    "\n",
    "print(a['mean_train_score'][25])\n",
    "\n",
    "print(a['mean_test_score'][25])"
   ]
  },
  {
   "cell_type": "code",
   "execution_count": 156,
   "metadata": {},
   "outputs": [
    {
     "data": {
      "text/plain": [
       "25"
      ]
     },
     "execution_count": 156,
     "metadata": {},
     "output_type": "execute_result"
    }
   ],
   "source": [
    "list(a['rank_test_score']).index(1)"
   ]
  },
  {
   "cell_type": "code",
   "execution_count": 145,
   "metadata": {
    "colab": {
     "base_uri": "https://localhost:8080/"
    },
    "id": "Z3cl-e6LnJOS",
    "outputId": "de78933f-3a0e-487e-c3db-5b19e201fc7b"
   },
   "outputs": [
    {
     "data": {
      "text/plain": [
       "27"
      ]
     },
     "execution_count": 145,
     "metadata": {},
     "output_type": "execute_result"
    }
   ],
   "source": [
    "combinations = grid_search.cv_results_['params']\n",
    "len(combinations)"
   ]
  },
  {
   "cell_type": "code",
   "execution_count": 158,
   "metadata": {
    "id": "PeoCPWCPnlr0"
   },
   "outputs": [],
   "source": [
    "best_estimator = grid_search.best_estimator_"
   ]
  },
  {
   "cell_type": "code",
   "execution_count": 147,
   "metadata": {
    "colab": {
     "base_uri": "https://localhost:8080/"
    },
    "id": "GwkHzEvhMOOg",
    "outputId": "7438c7de-ce42-4cf1-8ec0-1a9be2a1973f"
   },
   "outputs": [
    {
     "data": {
      "text/html": [
       "<style>#sk-container-id-8 {color: black;background-color: white;}#sk-container-id-8 pre{padding: 0;}#sk-container-id-8 div.sk-toggleable {background-color: white;}#sk-container-id-8 label.sk-toggleable__label {cursor: pointer;display: block;width: 100%;margin-bottom: 0;padding: 0.3em;box-sizing: border-box;text-align: center;}#sk-container-id-8 label.sk-toggleable__label-arrow:before {content: \"▸\";float: left;margin-right: 0.25em;color: #696969;}#sk-container-id-8 label.sk-toggleable__label-arrow:hover:before {color: black;}#sk-container-id-8 div.sk-estimator:hover label.sk-toggleable__label-arrow:before {color: black;}#sk-container-id-8 div.sk-toggleable__content {max-height: 0;max-width: 0;overflow: hidden;text-align: left;background-color: #f0f8ff;}#sk-container-id-8 div.sk-toggleable__content pre {margin: 0.2em;color: black;border-radius: 0.25em;background-color: #f0f8ff;}#sk-container-id-8 input.sk-toggleable__control:checked~div.sk-toggleable__content {max-height: 200px;max-width: 100%;overflow: auto;}#sk-container-id-8 input.sk-toggleable__control:checked~label.sk-toggleable__label-arrow:before {content: \"▾\";}#sk-container-id-8 div.sk-estimator input.sk-toggleable__control:checked~label.sk-toggleable__label {background-color: #d4ebff;}#sk-container-id-8 div.sk-label input.sk-toggleable__control:checked~label.sk-toggleable__label {background-color: #d4ebff;}#sk-container-id-8 input.sk-hidden--visually {border: 0;clip: rect(1px 1px 1px 1px);clip: rect(1px, 1px, 1px, 1px);height: 1px;margin: -1px;overflow: hidden;padding: 0;position: absolute;width: 1px;}#sk-container-id-8 div.sk-estimator {font-family: monospace;background-color: #f0f8ff;border: 1px dotted black;border-radius: 0.25em;box-sizing: border-box;margin-bottom: 0.5em;}#sk-container-id-8 div.sk-estimator:hover {background-color: #d4ebff;}#sk-container-id-8 div.sk-parallel-item::after {content: \"\";width: 100%;border-bottom: 1px solid gray;flex-grow: 1;}#sk-container-id-8 div.sk-label:hover label.sk-toggleable__label {background-color: #d4ebff;}#sk-container-id-8 div.sk-serial::before {content: \"\";position: absolute;border-left: 1px solid gray;box-sizing: border-box;top: 0;bottom: 0;left: 50%;z-index: 0;}#sk-container-id-8 div.sk-serial {display: flex;flex-direction: column;align-items: center;background-color: white;padding-right: 0.2em;padding-left: 0.2em;position: relative;}#sk-container-id-8 div.sk-item {position: relative;z-index: 1;}#sk-container-id-8 div.sk-parallel {display: flex;align-items: stretch;justify-content: center;background-color: white;position: relative;}#sk-container-id-8 div.sk-item::before, #sk-container-id-8 div.sk-parallel-item::before {content: \"\";position: absolute;border-left: 1px solid gray;box-sizing: border-box;top: 0;bottom: 0;left: 50%;z-index: -1;}#sk-container-id-8 div.sk-parallel-item {display: flex;flex-direction: column;z-index: 1;position: relative;background-color: white;}#sk-container-id-8 div.sk-parallel-item:first-child::after {align-self: flex-end;width: 50%;}#sk-container-id-8 div.sk-parallel-item:last-child::after {align-self: flex-start;width: 50%;}#sk-container-id-8 div.sk-parallel-item:only-child::after {width: 0;}#sk-container-id-8 div.sk-dashed-wrapped {border: 1px dashed gray;margin: 0 0.4em 0.5em 0.4em;box-sizing: border-box;padding-bottom: 0.4em;background-color: white;}#sk-container-id-8 div.sk-label label {font-family: monospace;font-weight: bold;display: inline-block;line-height: 1.2em;}#sk-container-id-8 div.sk-label-container {text-align: center;}#sk-container-id-8 div.sk-container {/* jupyter's `normalize.less` sets `[hidden] { display: none; }` but bootstrap.min.css set `[hidden] { display: none !important; }` so we also need the `!important` here to be able to override the default hidden behavior on the sphinx rendered scikit-learn.org. See: https://github.com/scikit-learn/scikit-learn/issues/21755 */display: inline-block !important;position: relative;}#sk-container-id-8 div.sk-text-repr-fallback {display: none;}</style><div id=\"sk-container-id-8\" class=\"sk-top-container\"><div class=\"sk-text-repr-fallback\"><pre>RandomForestClassifier(class_weight=&#x27;balanced&#x27;, max_depth=15,\n",
       "                       max_features=&#x27;auto&#x27;, max_samples=0.8,\n",
       "                       min_samples_split=20)</pre><b>In a Jupyter environment, please rerun this cell to show the HTML representation or trust the notebook. <br />On GitHub, the HTML representation is unable to render, please try loading this page with nbviewer.org.</b></div><div class=\"sk-container\" hidden><div class=\"sk-item\"><div class=\"sk-estimator sk-toggleable\"><input class=\"sk-toggleable__control sk-hidden--visually\" id=\"sk-estimator-id-14\" type=\"checkbox\" checked><label for=\"sk-estimator-id-14\" class=\"sk-toggleable__label sk-toggleable__label-arrow\">RandomForestClassifier</label><div class=\"sk-toggleable__content\"><pre>RandomForestClassifier(class_weight=&#x27;balanced&#x27;, max_depth=15,\n",
       "                       max_features=&#x27;auto&#x27;, max_samples=0.8,\n",
       "                       min_samples_split=20)</pre></div></div></div></div></div>"
      ],
      "text/plain": [
       "RandomForestClassifier(class_weight='balanced', max_depth=15,\n",
       "                       max_features='auto', max_samples=0.8,\n",
       "                       min_samples_split=20)"
      ]
     },
     "execution_count": 147,
     "metadata": {},
     "output_type": "execute_result"
    }
   ],
   "source": [
    "best_estimator"
   ]
  },
  {
   "cell_type": "code",
   "execution_count": 159,
   "metadata": {
    "colab": {
     "base_uri": "https://localhost:8080/"
    },
    "id": "QXfAZbVdtfLq",
    "outputId": "1ae3b1c2-899a-494c-e9b2-1068fd0e6505"
   },
   "outputs": [
    {
     "name": "stdout",
     "output_type": "stream",
     "text": [
      "RandomForestClassifier(class_weight='balanced', max_depth=15,\n",
      "                       max_features='auto', max_samples=0.8,\n",
      "                       min_samples_split=20)\n",
      "0.813894466584095\n"
     ]
    }
   ],
   "source": [
    "print(best_estimator) #### best combination\n",
    "\n",
    "print(grid_search.best_score_) #### best score\n",
    "\n",
    "best_params = grid_search.best_estimator_"
   ]
  },
  {
   "cell_type": "code",
   "execution_count": 160,
   "metadata": {
    "colab": {
     "base_uri": "https://localhost:8080/"
    },
    "id": "ixpmd1egtfLq",
    "outputId": "7219d9c1-768b-4e3c-9a08-f3ea22346aa1"
   },
   "outputs": [
    {
     "name": "stderr",
     "output_type": "stream",
     "text": [
      "C:\\Users\\user\\anaconda3\\lib\\site-packages\\sklearn\\ensemble\\_forest.py:427: FutureWarning: `max_features='auto'` has been deprecated in 1.1 and will be removed in 1.3. To keep the past behaviour, explicitly set `max_features='sqrt'` or remove this parameter as it is also the default value for RandomForestClassifiers and ExtraTreesClassifiers.\n",
      "  warn(\n"
     ]
    },
    {
     "data": {
      "text/html": [
       "<style>#sk-container-id-9 {color: black;background-color: white;}#sk-container-id-9 pre{padding: 0;}#sk-container-id-9 div.sk-toggleable {background-color: white;}#sk-container-id-9 label.sk-toggleable__label {cursor: pointer;display: block;width: 100%;margin-bottom: 0;padding: 0.3em;box-sizing: border-box;text-align: center;}#sk-container-id-9 label.sk-toggleable__label-arrow:before {content: \"▸\";float: left;margin-right: 0.25em;color: #696969;}#sk-container-id-9 label.sk-toggleable__label-arrow:hover:before {color: black;}#sk-container-id-9 div.sk-estimator:hover label.sk-toggleable__label-arrow:before {color: black;}#sk-container-id-9 div.sk-toggleable__content {max-height: 0;max-width: 0;overflow: hidden;text-align: left;background-color: #f0f8ff;}#sk-container-id-9 div.sk-toggleable__content pre {margin: 0.2em;color: black;border-radius: 0.25em;background-color: #f0f8ff;}#sk-container-id-9 input.sk-toggleable__control:checked~div.sk-toggleable__content {max-height: 200px;max-width: 100%;overflow: auto;}#sk-container-id-9 input.sk-toggleable__control:checked~label.sk-toggleable__label-arrow:before {content: \"▾\";}#sk-container-id-9 div.sk-estimator input.sk-toggleable__control:checked~label.sk-toggleable__label {background-color: #d4ebff;}#sk-container-id-9 div.sk-label input.sk-toggleable__control:checked~label.sk-toggleable__label {background-color: #d4ebff;}#sk-container-id-9 input.sk-hidden--visually {border: 0;clip: rect(1px 1px 1px 1px);clip: rect(1px, 1px, 1px, 1px);height: 1px;margin: -1px;overflow: hidden;padding: 0;position: absolute;width: 1px;}#sk-container-id-9 div.sk-estimator {font-family: monospace;background-color: #f0f8ff;border: 1px dotted black;border-radius: 0.25em;box-sizing: border-box;margin-bottom: 0.5em;}#sk-container-id-9 div.sk-estimator:hover {background-color: #d4ebff;}#sk-container-id-9 div.sk-parallel-item::after {content: \"\";width: 100%;border-bottom: 1px solid gray;flex-grow: 1;}#sk-container-id-9 div.sk-label:hover label.sk-toggleable__label {background-color: #d4ebff;}#sk-container-id-9 div.sk-serial::before {content: \"\";position: absolute;border-left: 1px solid gray;box-sizing: border-box;top: 0;bottom: 0;left: 50%;z-index: 0;}#sk-container-id-9 div.sk-serial {display: flex;flex-direction: column;align-items: center;background-color: white;padding-right: 0.2em;padding-left: 0.2em;position: relative;}#sk-container-id-9 div.sk-item {position: relative;z-index: 1;}#sk-container-id-9 div.sk-parallel {display: flex;align-items: stretch;justify-content: center;background-color: white;position: relative;}#sk-container-id-9 div.sk-item::before, #sk-container-id-9 div.sk-parallel-item::before {content: \"\";position: absolute;border-left: 1px solid gray;box-sizing: border-box;top: 0;bottom: 0;left: 50%;z-index: -1;}#sk-container-id-9 div.sk-parallel-item {display: flex;flex-direction: column;z-index: 1;position: relative;background-color: white;}#sk-container-id-9 div.sk-parallel-item:first-child::after {align-self: flex-end;width: 50%;}#sk-container-id-9 div.sk-parallel-item:last-child::after {align-self: flex-start;width: 50%;}#sk-container-id-9 div.sk-parallel-item:only-child::after {width: 0;}#sk-container-id-9 div.sk-dashed-wrapped {border: 1px dashed gray;margin: 0 0.4em 0.5em 0.4em;box-sizing: border-box;padding-bottom: 0.4em;background-color: white;}#sk-container-id-9 div.sk-label label {font-family: monospace;font-weight: bold;display: inline-block;line-height: 1.2em;}#sk-container-id-9 div.sk-label-container {text-align: center;}#sk-container-id-9 div.sk-container {/* jupyter's `normalize.less` sets `[hidden] { display: none; }` but bootstrap.min.css set `[hidden] { display: none !important; }` so we also need the `!important` here to be able to override the default hidden behavior on the sphinx rendered scikit-learn.org. See: https://github.com/scikit-learn/scikit-learn/issues/21755 */display: inline-block !important;position: relative;}#sk-container-id-9 div.sk-text-repr-fallback {display: none;}</style><div id=\"sk-container-id-9\" class=\"sk-top-container\"><div class=\"sk-text-repr-fallback\"><pre>RandomForestClassifier(class_weight=&#x27;balanced&#x27;, max_depth=15,\n",
       "                       max_features=&#x27;auto&#x27;, max_samples=0.8,\n",
       "                       min_samples_split=20)</pre><b>In a Jupyter environment, please rerun this cell to show the HTML representation or trust the notebook. <br />On GitHub, the HTML representation is unable to render, please try loading this page with nbviewer.org.</b></div><div class=\"sk-container\" hidden><div class=\"sk-item\"><div class=\"sk-estimator sk-toggleable\"><input class=\"sk-toggleable__control sk-hidden--visually\" id=\"sk-estimator-id-15\" type=\"checkbox\" checked><label for=\"sk-estimator-id-15\" class=\"sk-toggleable__label sk-toggleable__label-arrow\">RandomForestClassifier</label><div class=\"sk-toggleable__content\"><pre>RandomForestClassifier(class_weight=&#x27;balanced&#x27;, max_depth=15,\n",
       "                       max_features=&#x27;auto&#x27;, max_samples=0.8,\n",
       "                       min_samples_split=20)</pre></div></div></div></div></div>"
      ],
      "text/plain": [
       "RandomForestClassifier(class_weight='balanced', max_depth=15,\n",
       "                       max_features='auto', max_samples=0.8,\n",
       "                       min_samples_split=20)"
      ]
     },
     "execution_count": 160,
     "metadata": {},
     "output_type": "execute_result"
    }
   ],
   "source": [
    "clf = best_estimator\n",
    "\n",
    "clf.fit(features_train,target_train)"
   ]
  },
  {
   "cell_type": "code",
   "execution_count": 162,
   "metadata": {
    "colab": {
     "base_uri": "https://localhost:8080/",
     "height": 347
    },
    "id": "To-oRwSXtfLq",
    "outputId": "6b3fa588-b599-48d7-e53b-378aba8045a7"
   },
   "outputs": [
    {
     "name": "stderr",
     "output_type": "stream",
     "text": [
      "C:\\Users\\user\\anaconda3\\lib\\site-packages\\sklearn\\utils\\deprecation.py:87: FutureWarning: Function plot_roc_curve is deprecated; Function :func:`plot_roc_curve` is deprecated in 1.0 and will be removed in 1.2. Use one of the class methods: :meth:`sklearn.metrics.RocCurveDisplay.from_predictions` or :meth:`sklearn.metrics.RocCurveDisplay.from_estimator`.\n",
      "  warnings.warn(msg, category=FutureWarning)\n"
     ]
    },
    {
     "name": "stdout",
     "output_type": "stream",
     "text": [
      "The score for the DT model  0.9860562073631524\n",
      "[[8042  119]\n",
      " [  13  964]]\n",
      "The F1-SCORE on the train set prediction  0.9933024214322513\n"
     ]
    },
    {
     "data": {
      "image/png": "[encoded data removed]",
      "text/plain": [
       "<Figure size 432x288 with 1 Axes>"
      ]
     },
     "metadata": {
      "needs_background": "light"
     },
     "output_type": "display_data"
    }
   ],
   "source": [
    "### Evaluating on the train and the test set ####\n",
    "\n",
    "predicted_train = clf.predict(features_train)\n",
    "\n",
    "plot_roc_curve(clf,X =features_train, y= target_train)\n",
    "\n",
    "print ('The score for the DT model ', roc_auc_score(target_train,predicted_train))\n",
    "\n",
    "print(confusion_matrix(y_true = target_train, y_pred = predicted_train))\n",
    "\n",
    "print ('The F1-SCORE on the train set prediction ',f1_score(y_true=target_train,y_pred = predicted_train,sample_weight = target_train))"
   ]
  },
  {
   "cell_type": "code",
   "execution_count": 163,
   "metadata": {
    "colab": {
     "base_uri": "https://localhost:8080/",
     "height": 330
    },
    "id": "EwemlXPbtfLr",
    "outputId": "df05e127-04b6-458a-dfc2-5f75a8585589"
   },
   "outputs": [
    {
     "name": "stderr",
     "output_type": "stream",
     "text": [
      "C:\\Users\\user\\anaconda3\\lib\\site-packages\\sklearn\\utils\\deprecation.py:87: FutureWarning: Function plot_roc_curve is deprecated; Function :func:`plot_roc_curve` is deprecated in 1.0 and will be removed in 1.2. Use one of the class methods: :meth:`sklearn.metrics.RocCurveDisplay.from_predictions` or :meth:`sklearn.metrics.RocCurveDisplay.from_estimator`.\n",
      "  warnings.warn(msg, category=FutureWarning)\n"
     ]
    },
    {
     "name": "stdout",
     "output_type": "stream",
     "text": [
      "[[886  21]\n",
      " [ 17  92]]\n",
      "The F1-SCORE on the test set prediction  0.9154228855721394\n"
     ]
    },
    {
     "data": {
      "image/png": "[encoded data removed]",
      "text/plain": [
       "<Figure size 432x288 with 1 Axes>"
      ]
     },
     "metadata": {
      "needs_background": "light"
     },
     "output_type": "display_data"
    }
   ],
   "source": [
    "plot_roc_curve(clf,X =features_val, y= target_val)\n",
    "\n",
    "predicted_test = clf.predict(features_val)\n",
    "\n",
    "print (confusion_matrix(y_true = target_val, y_pred = predicted_test))\n",
    "\n",
    "print ('The F1-SCORE on the test set prediction ',f1_score(y_true=target_val,y_pred = predicted_test,sample_weight = target_val))"
   ]
  },
  {
   "cell_type": "code",
   "execution_count": 164,
   "metadata": {
    "id": "LC1qywY7tfLr"
   },
   "outputs": [],
   "source": [
    "### Calculating the feature importances ####\n",
    "\n",
    "importances = clf.feature_importances_\n",
    "\n",
    "columns = list(features_train.columns)\n",
    "\n",
    "importances_dict = {columns[i]: importances[i] for i in range(len(columns))}\n",
    "\n",
    "importances_dict = dict(sorted(importances_dict.items(), key=lambda importances_dict: importances_dict[1],reverse=True))"
   ]
  },
  {
   "cell_type": "code",
   "execution_count": 165,
   "metadata": {
    "colab": {
     "base_uri": "https://localhost:8080/"
    },
    "id": "-r1QDuVutfLr",
    "outputId": "7853be76-a7ab-4db1-faeb-188c8092fc4a"
   },
   "outputs": [
    {
     "data": {
      "text/plain": [
       "{'Online Purchase Amount': 0.2441064882311456,\n",
       " 'Investment Tax Saving Bond': 0.09652478553021618,\n",
       " 'Investment in Equity': 0.08949980334611117,\n",
       " 'Average Credit Card Transaction': 0.08838868907857135,\n",
       " 'Investment in Commudity': 0.08259131442830554,\n",
       " 'Life Insurance': 0.0634213112034386,\n",
       " 'Portfolio Balance': 0.04805154417987887,\n",
       " 'Investment in Derivative': 0.04574401563768894,\n",
       " 'Personal Loan': 0.03169574616689422,\n",
       " 'Term Deposit': 0.027293990002514826,\n",
       " 'Investment in Mutual Fund': 0.024794302975353125,\n",
       " 'Average A/C Balance': 0.023884838305266068,\n",
       " 'Medical Insurance': 0.02063557118875791,\n",
       " 'Balance Transfer': 0.020587209318287697,\n",
       " 'Home Loan': 0.01197335459920019,\n",
       " 'occupation_Secretarial/Admin': 0.0019572485399487896,\n",
       " 'income_>=35,000': 0.0018174064961770805,\n",
       " 'income_<27,500, >=25,000': 0.001778896776700253,\n",
       " 'gender_Male': 0.0017770982502040887,\n",
       " 'region_Unknown': 0.001713807965042284,\n",
       " 'region_North West': 0.0016714168550143068,\n",
       " 'age_band_45-50': 0.0016234664531012423,\n",
       " 'region_South East': 0.0016161381837496113,\n",
       " 'status_Single/Never Married': 0.0016098041116455522,\n",
       " 'age_band_51-55': 0.0016043063161429987,\n",
       " 'occupation_partner_Manual Worker': 0.0015810198351709583,\n",
       " 'occupation_Professional': 0.001574679183820596,\n",
       " 'occupation_Other': 0.0015522481380537843,\n",
       " 'self_employed_partner_Yes': 0.0015420076329797758,\n",
       " 'occupation_partner_Professional': 0.0015334127923152172,\n",
       " 'occupation_partner_Retired': 0.0015181244382089778,\n",
       " 'age_band_31-35': 0.001516560889117661,\n",
       " 'status_Partner': 0.001508506390116038,\n",
       " 'occupation_Housewife': 0.0014977446409467803,\n",
       " 'age_band_55-60': 0.0014684220533427838,\n",
       " 'age_band_41-45': 0.001440564737623714,\n",
       " 'income_<20,000, >=17,500': 0.0014358099634950324,\n",
       " 'region_Scotland': 0.0014327645535842733,\n",
       " 'income_<30,000, >=27,500': 0.0014240354068085236,\n",
       " 'chidren_2': 0.0014238707105627979,\n",
       " 'age_band_26-30': 0.0014074097975354115,\n",
       " 'income_<12,500, >=10,000': 0.0013811928784807528,\n",
       " 'region_West Midlands': 0.0013719570739438595,\n",
       " 'chidren_1': 0.0013304694844737135,\n",
       " 'self_employed_Yes': 0.001314298088081724,\n",
       " 'region_East Anglia': 0.0013033186266348453,\n",
       " 'chidren_Zero': 0.0013031946124803572,\n",
       " 'occupation_partner_Secretarial/Admin': 0.0012580097878812035,\n",
       " 'region_South West': 0.0012579811885491904,\n",
       " 'region_East Midlands': 0.0012507957650348572,\n",
       " 'occupation_Manual Worker': 0.001238551178436962,\n",
       " 'age_band_22-25': 0.0012302435095827252,\n",
       " 'income_<10,000, >= 8,000': 0.0012205265159270424,\n",
       " 'age_band_36-40': 0.0012107262188192508,\n",
       " 'occupation_partner_Unknown': 0.0011966263151008552,\n",
       " 'income_<25,000, >=22,500': 0.001163426608900476,\n",
       " 'income_<15,000, >=12,500': 0.0011532926789218313,\n",
       " 'income_<17,500, >=15,000': 0.0010838219328228684,\n",
       " 'age_band_61-65': 0.00107654341767375,\n",
       " 'region_Wales': 0.0010725753435818159,\n",
       " 'region_North': 0.0010457015083853544,\n",
       " 'home_status_Own Home': 0.0009979581453853012,\n",
       " 'income_<22,500, >=20,000': 0.0009970328683493043,\n",
       " 'status_Widowed': 0.0009909129852446275,\n",
       " 'occupation_Unknown': 0.0009843055849000362,\n",
       " 'occupation_partner_Other': 0.000972528421079274,\n",
       " 'chidren_3': 0.0009255407777006675,\n",
       " 'age_band_65-70': 0.0009172411748643981,\n",
       " 'status_Divorced/Separated': 0.0008896208182491398,\n",
       " 'age_band_71+': 0.000871155418301852,\n",
       " 'occupation_Retired': 0.0008607051993464848,\n",
       " 'income_< 8,000, >= 4,000': 0.0007165197381573397,\n",
       " 'home_status_Rent from Council/HA': 0.0006675207233639049,\n",
       " 'income_< 4,000': 0.0006215026260310818,\n",
       " 'home_status_Rent Privately': 0.000617002390932577,\n",
       " 'region_Northern Ireland': 0.0006025422679873236,\n",
       " 'occupation_partner_Housewife': 0.0005848105501330991,\n",
       " 'gender_Unknown': 0.00039026429878333686,\n",
       " 'occupation_Student': 0.0003298328735360658,\n",
       " 'income_Unknown': 0.0003032574364500763,\n",
       " 'home_status_Live in Parental Hom': 0.00026251922434151174,\n",
       " 'home_status_Unclassified': 0.00023556625320327065,\n",
       " 'status_Unknown': 0.00015742494702127713,\n",
       " 'age_band_18-21': 0.00015100131886602871,\n",
       " 'occupation_partner_Student': 0.00010852792133983801,\n",
       " 'age_band_Unknown': 9.672907277214065e-05,\n",
       " 'region_Isle of Man': 6.498892690783104e-05}"
      ]
     },
     "execution_count": 165,
     "metadata": {},
     "output_type": "execute_result"
    }
   ],
   "source": [
    "importances_dict"
   ]
  }
 ],
 "metadata": {
  "colab": {
   "collapsed_sections": [],
   "name": "assignment_on_existing_base (3).ipynb",
   "provenance": []
  },
  "kernelspec": {
   "display_name": "Python 3 (ipykernel)",
   "language": "python",
   "name": "python3"
  },
  "language_info": {
   "codemirror_mode": {
    "name": "ipython",
    "version": 3
   },
   "file_extension": ".py",
   "mimetype": "text/x-python",
   "name": "python",
   "nbconvert_exporter": "python",
   "pygments_lexer": "ipython3",
   "version": "3.9.7"
  }
 },
 "nbformat": 4,
 "nbformat_minor": 1
}
